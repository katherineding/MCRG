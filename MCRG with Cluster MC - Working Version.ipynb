{
 "cells": [
  {
   "cell_type": "markdown",
   "metadata": {},
   "source": [
    "# MCRG Code following Swendsen Description circa 1982, Using Wolff's Algorithm to combat critical slowing down"
   ]
  },
  {
   "cell_type": "code",
   "execution_count": 1,
   "metadata": {},
   "outputs": [],
   "source": [
    "from __future__ import division #safeguard against evil floor division\n",
    "\n",
    "import numpy as np\n",
    "from scipy import linalg as la\n",
    "import matplotlib.pyplot as plt\n",
    "import timeit\n",
    "%load_ext line_profiler\n",
    "\n",
    "np.set_printoptions(precision = 3,suppress=False)"
   ]
  },
  {
   "cell_type": "markdown",
   "metadata": {},
   "source": [
    "## 2D Ising Model, periodic B.C., initial Hamiltonian contains only nearest neighbor interactions"
   ]
  },
  {
   "cell_type": "markdown",
   "metadata": {},
   "source": [
    "$$\\mathcal{H} = -\\beta H_\\Omega = K\\sum_{\\langle i,j\\rangle} \\sigma_i \\sigma_j + h\\sum_{i = 0}^{N_s} \\sigma_i$$"
   ]
  },
  {
   "cell_type": "markdown",
   "metadata": {},
   "source": [
    "### Block spin transform, scale factor = b "
   ]
  },
  {
   "cell_type": "code",
   "execution_count": 2,
   "metadata": {},
   "outputs": [],
   "source": [
    "def assignBlockSpin(total):\n",
    "    '''Rule for assigning block spin value. Random tiebreaker'''\n",
    "    if total > 0:\n",
    "        s = 1;\n",
    "    elif total < 0:\n",
    "        s = -1;\n",
    "    else:\n",
    "        s = np.random.choice([-1,1])\n",
    "    return s"
   ]
  },
  {
   "cell_type": "code",
   "execution_count": 3,
   "metadata": {},
   "outputs": [],
   "source": [
    "def RGTransform(S,b):\n",
    "    '''Take a spin config S and produce renormalized block spin config that \n",
    "    groups b*b spins together into one block. Does not modify input S'''\n",
    "    L = S.shape[0];\n",
    "    assert L//b >= 2, \"Renormalized lattice will have linear dimension <=1\"\n",
    "    newS = np.empty([L//b, L//b],dtype=int)\n",
    "    for j in np.arange(L//b):\n",
    "        for i in np.arange(L//b):\n",
    "            block = S[(b*i):(b*i+b),(b*j):(b*j+b)]\n",
    "            total = np.sum(block)\n",
    "            newS[i,j] = assignBlockSpin(total);    \n",
    "    return newS"
   ]
  },
  {
   "cell_type": "markdown",
   "metadata": {},
   "source": [
    "### First 7 short range even couplings"
   ]
  },
  {
   "cell_type": "code",
   "execution_count": 4,
   "metadata": {},
   "outputs": [],
   "source": [
    "def N1Coupl(S):\n",
    "    '''for spin field config S, \n",
    "    measure sum SiSj for i,j that are nearest neighbors, dir = (1,0)'''\n",
    "    L = S.shape[0];\n",
    "    assert L >=2, \"Lattice too small for NN interaction\"\n",
    "    val = 0.0;\n",
    "    for j in np.arange(L):\n",
    "        for i in np.arange(L):\n",
    "            val += S[i,j]*(S[i,(j+1)%L] + S[(i+1)%L,j])\n",
    "    return val"
   ]
  },
  {
   "cell_type": "code",
   "execution_count": 5,
   "metadata": {},
   "outputs": [],
   "source": [
    "def N2Coupl(S):\n",
    "    '''for spin field config S, \n",
    "    measure sum SiSj for i,j that are next-nearest neighbors, dir = (1,1)'''\n",
    "    L = S.shape[0];\n",
    "    assert L >=2, \"Lattice too small for next nearest neighbor interaction\"\n",
    "    val = 0.0;\n",
    "    for j in np.arange(L):\n",
    "        for i in np.arange(L):\n",
    "            val += S[i,j]*(S[(i+1)%L,(j+1)%L] + S[(i-1)%L,(j+1)%L])\n",
    "    return val"
   ]
  },
  {
   "cell_type": "code",
   "execution_count": 6,
   "metadata": {},
   "outputs": [],
   "source": [
    "def N3Coupl(S):\n",
    "    '''for spin field config S, \n",
    "    measure sum SiSj for i,j that are third-nearest neighbors,dir = (2,0)'''\n",
    "    L = S.shape[0];\n",
    "    assert L >=3, \"Lattice too small for third nearest neighbor interaction\"\n",
    "    val = 0.0;\n",
    "    for j in np.arange(L):\n",
    "        for i in np.arange(L):\n",
    "            val += S[i,j]*(S[i,(j+2)%L] + S[(i+2)%L,j])\n",
    "    return val"
   ]
  },
  {
   "cell_type": "code",
   "execution_count": 7,
   "metadata": {},
   "outputs": [],
   "source": [
    "def N4Coupl(S):\n",
    "    '''for spin field config S, \n",
    "    measure sum SiSj for i,j that are 4th-nearest neighbors, dir = (2,1)'''\n",
    "    L = S.shape[0];\n",
    "    assert L >=3, \"Lattice too small for 4th nearest neighbor interaction\"\n",
    "    val = 0.0;\n",
    "    for j in np.arange(L):\n",
    "        for i in np.arange(L):\n",
    "            val += S[i,j]*(S[(i+1)%L,(j+2)%L] + S[(i+2)%L,(j+1)%L] \n",
    "                           +S[(i-1)%L,(j+2)%L] + S[(i-2)%L,(j+1)%L])\n",
    "    return val"
   ]
  },
  {
   "cell_type": "code",
   "execution_count": 8,
   "metadata": {},
   "outputs": [],
   "source": [
    "def N5Coupl(S):\n",
    "    '''for spin field config S, \n",
    "    measure sum SiSj for i,j that are 5th-nearest neighbors,dir = (2,2)'''\n",
    "    L = S.shape[0];\n",
    "    assert L >=3, \"Lattice too small for third nearest neighbor interaction\"\n",
    "    val = 0.0;\n",
    "    for j in np.arange(L):\n",
    "        for i in np.arange(L):\n",
    "            val += S[i,j]*(S[(i+2)%L,(j+2)%L] + S[(i-2)%L,(j+2)%L])\n",
    "    return val"
   ]
  },
  {
   "cell_type": "code",
   "execution_count": 9,
   "metadata": {},
   "outputs": [],
   "source": [
    "def PlaqCoupl(S):\n",
    "    '''for spin field config S, \n",
    "    measure sum SiSjSlSk for i,j,k,l that form 1 plaquette,'''\n",
    "    L = S.shape[0];\n",
    "    assert L >=2, \"Lattice too small to form plaquettes\"\n",
    "    val = 0.0;\n",
    "    for j in np.arange(L):\n",
    "        for i in np.arange(L):\n",
    "            val += S[i,j]*S[i,(j+1)%L]*S[(i+1)%L,(j+1)%L]*S[(i+1)%L,j]\n",
    "    return val"
   ]
  },
  {
   "cell_type": "code",
   "execution_count": 10,
   "metadata": {},
   "outputs": [],
   "source": [
    "def SubPlaqCoupl(S):\n",
    "    '''for spin field config S, \n",
    "    measure sum SiSjSlSk for i,j,k,l that form 1 sublattice plaquette,'''\n",
    "    L = S.shape[0];\n",
    "    assert L >=3, \"Lattice too small to form sublattice plaquettes\"\n",
    "    val = 0.0;\n",
    "    for j in np.arange(L):\n",
    "        for i in np.arange(L):\n",
    "            val += S[(i+1)%L,j]*S[i,(j+1)%L]*S[(i-1)%L,j]*S[i,(j-1)%L]\n",
    "    return val"
   ]
  },
  {
   "cell_type": "code",
   "execution_count": 11,
   "metadata": {},
   "outputs": [],
   "source": [
    "def AllEvenCoupling(S):\n",
    "    '''for spin field config S, \n",
    "    Integrate measurement of first 7 even correlation functions in one vector'''\n",
    "    L = S.shape[0];\n",
    "    assert L >=3, \"Lattice too small to fit first 7 even couplings\"\n",
    "    val = np.zeros(7,dtype = float);\n",
    "    for j in np.arange(L):\n",
    "        for i in np.arange(L):\n",
    "            val += [S[i,j]*(S[i,(j+1)%L] + S[(i+1)%L,j]), #nearest neighbor (1,0)\n",
    "                    S[i,j]*(S[(i+1)%L,(j+1)%L] + S[(i-1)%L,(j+1)%L]), #next nearest neighbor (1,1)\n",
    "                    S[i,j]*S[i,(j+1)%L]*S[(i+1)%L,(j+1)%L]*S[(i+1)%L,j], # plaquette\n",
    "                    S[i,j]*(S[i,(j+2)%L] + S[(i+2)%L,j]), #3rd nearest neighbor (2,0)\n",
    "                    S[i,j]*(S[(i+1)%L,(j+2)%L] + S[(i+2)%L,(j+1)%L] \n",
    "                            +S[(i-1)%L,(j+2)%L] + S[(i-2)%L,(j+1)%L]),#4th nearest neighbor (2,1)\n",
    "                    S[(i+1)%L,j]*S[i,(j+1)%L]*S[(i-1)%L,j]*S[i,(j-1)%L], # sublattice plaquette\n",
    "                    S[i,j]*(S[(i+2)%L,(j+2)%L] + S[(i-2)%L,(j+2)%L])]#5th nearest neighbor (2,2)\n",
    "    return val"
   ]
  },
  {
   "cell_type": "markdown",
   "metadata": {},
   "source": [
    "### First 4 short range odd couplings"
   ]
  },
  {
   "cell_type": "code",
   "execution_count": 12,
   "metadata": {},
   "outputs": [],
   "source": [
    "def Magnetization(S):\n",
    "    L = S.shape[0];\n",
    "    assert L >=1, \"Lattice linear dim < 1\"\n",
    "    val = np.sum(S);\n",
    "    return val"
   ]
  },
  {
   "cell_type": "code",
   "execution_count": 13,
   "metadata": {},
   "outputs": [],
   "source": [
    "def TripletPlaq(S):\n",
    "    L = S.shape[0];\n",
    "    assert L >=2, \"Lattice too small to have 3 spins on a plaquette\"\n",
    "    val = 0.0;\n",
    "    for j in np.arange(L):\n",
    "        for i in np.arange(L):\n",
    "            val += S[i,j]*S[(i+1)%L,j]*S[(i+1)%L,(j+1)%L];\n",
    "            val += S[i,j]*S[i,(j+1)%L]*S[(i-1)%L,(j+1)%L];\n",
    "            val += S[i,j]*S[(i-1)%L,j]*S[(i-1)%L,(j-1)%L];\n",
    "            val += S[i,j]*S[i,(j-1)%L]*S[(i+1)%L,(j-1)%L];\n",
    "    return val"
   ]
  },
  {
   "cell_type": "code",
   "execution_count": 14,
   "metadata": {},
   "outputs": [],
   "source": [
    "def TripletAngle(S):\n",
    "    L = S.shape[0];\n",
    "    assert L >=3, \"Lattice too small to have 3 spins at an angle\"\n",
    "    val = 0.0;\n",
    "    for j in np.arange(L):\n",
    "        for i in np.arange(L):\n",
    "            val += S[i,j]*S[(i+1)%L,j]*S[(i+2)%L,(j+1)%L];\n",
    "            val += S[i,j]*S[i,(j+1)%L]*S[(i-1)%L,(j+2)%L];\n",
    "            val += S[i,j]*S[(i-1)%L,j]*S[(i-2)%L,(j-1)%L];\n",
    "            val += S[i,j]*S[i,(j-1)%L]*S[(i+1)%L,(j-2)%L];\n",
    "    return val"
   ]
  },
  {
   "cell_type": "code",
   "execution_count": 15,
   "metadata": {},
   "outputs": [],
   "source": [
    "def TripletRow(S):\n",
    "    L = S.shape[0];\n",
    "    assert L >=3, \"Lattice too small have 3 spins in a row\"\n",
    "    val = 0.0;\n",
    "    for j in np.arange(L):\n",
    "        for i in np.arange(L):\n",
    "            val += S[i,j]*(S[(i+1)%L,j]*S[(i+2)%L,j] \\\n",
    "                           + S[i,(j+1)%L]*S[i,(j+2)%L])\n",
    "    return val"
   ]
  },
  {
   "cell_type": "code",
   "execution_count": 16,
   "metadata": {},
   "outputs": [],
   "source": [
    "def AllOddCoupling(S):\n",
    "    L = S.shape[0];\n",
    "    assert L >=3, \"Lattice too small to fit first 4 odd couplings\"\n",
    "    val = np.zeros(4,dtype = float);\n",
    "    for j in np.arange(L):\n",
    "        for i in np.arange(L):\n",
    "            val += [0, #magnetization\n",
    "                    S[i,j]*S[(i+1)%L,j]*S[(i+1)%L,(j+1)%L]+\n",
    "                    S[i,j]*S[i,(j+1)%L]*S[(i-1)%L,(j+1)%L]+\n",
    "                    S[i,j]*S[(i-1)%L,j]*S[(i-1)%L,(j-1)%L]+\n",
    "                    S[i,j]*S[i,(j-1)%L]*S[(i+1)%L,(j-1)%L], #3 spin plaquette\n",
    "                    S[i,j]*S[(i+1)%L,j]*S[(i+2)%L,(j+1)%L]+\n",
    "                    S[i,j]*S[i,(j+1)%L]*S[(i-1)%L,(j+2)%L]+\n",
    "                    S[i,j]*S[(i-1)%L,j]*S[(i-2)%L,(j-1)%L]+\n",
    "                    S[i,j]*S[i,(j-1)%L]*S[(i+1)%L,(j-2)%L], # 3 spin angle\n",
    "                    S[i,j]*(S[(i+1)%L,j]*S[(i+2)%L,j] + \n",
    "                            S[i,(j+1)%L]*S[i,(j+2)%L])] #3 spin row\n",
    "    val[0] = np.sum(S);\n",
    "    return val"
   ]
  },
  {
   "cell_type": "markdown",
   "metadata": {},
   "source": [
    "### Clustering for Wolff Algorithm"
   ]
  },
  {
   "cell_type": "code",
   "execution_count": 17,
   "metadata": {},
   "outputs": [],
   "source": [
    "def NNBonds(p):\n",
    "    '''returns set of bonds that connect site p to its 4 nearest neighbors'''\n",
    "    i = p[0]; j = p[1];\n",
    "    nbrs = [(i,(j+1)%L),(i,(j-1)%L),((i+1)%L,j),((i-1)%L,j)]\n",
    "    bonds = set();\n",
    "    for n in nbrs:\n",
    "        bonds.add(frozenset({p,n}))\n",
    "    return bonds"
   ]
  },
  {
   "cell_type": "code",
   "execution_count": 18,
   "metadata": {},
   "outputs": [],
   "source": [
    "def buildCluster(S):\n",
    "    ''''Build Wolff cluster starting from random site for spin configuration S'''\n",
    "    #random seed location\n",
    "    L = S.shape[0];\n",
    "    init = (np.random.choice(L),np.random.choice(L))\n",
    "    Si = S[init[0],init[1]]\n",
    "    \n",
    "    #cluster starts with 1 element\n",
    "    cluster = {init}\n",
    "    \n",
    "    #nearest neighbors make up the frontier\n",
    "    bonds = NNBonds(init)\n",
    "    \n",
    "    #set of points already considered for adding to cluster\n",
    "    checked = set();\n",
    "    \n",
    "    #while the set of fresh bonds is nonempty, do...\n",
    "    while (len(bonds) > 0):\n",
    "        if len(cluster) == Ns:\n",
    "            break;\n",
    "        #take out one bond in fresh bond set\n",
    "        #frozenset ijbond represent unordered edge (i,j)\n",
    "        ijbond = bonds.pop() \n",
    "        #add to list of bonds that have been checked\n",
    "        checked.add(ijbond)\n",
    "        #pick out element j from edge (i,j)\n",
    "        jwrap = ijbond - cluster \n",
    "        #both i and j may already be in cluster, in this case skip to next iteration\n",
    "        if len(jwrap) == 0:\n",
    "            continue;\n",
    "        #otherwise, only i in cluster already, we are left with j\n",
    "        j = set(jwrap).pop() #convert to usable form\n",
    "        Sj = S[j[0],j[1]]\n",
    "        #if parallel to seed spin, activate bond with probability Pij\n",
    "        if Sj == Si:\n",
    "            r = np.random.random()\n",
    "            if r < Pij:\n",
    "                #add j to cluster, add nearest bonds of j to the fresh bond list\n",
    "                #also remove bonds already considered from the fresh bond list\n",
    "                cluster.add(j) \n",
    "                bonds |= NNBonds(j) \n",
    "                bonds -= checked \n",
    "    return cluster"
   ]
  },
  {
   "cell_type": "markdown",
   "metadata": {},
   "source": [
    "### Integrated MC + RG simulation function"
   ]
  },
  {
   "cell_type": "code",
   "execution_count": 19,
   "metadata": {},
   "outputs": [],
   "source": [
    "def Energy(S):\n",
    "    '''Brute force Find energy of spin configuration S for sanity check'''\n",
    "    L = S.shape[0];\n",
    "    E = 0;\n",
    "    for i in np.arange(L):\n",
    "        for j in np.arange(L):\n",
    "            E += K*S[i,j]*(S[i,(j+1)%L] + S[(i+1)%L,j])\n",
    "    E += h*np.sum(S)\n",
    "    return E"
   ]
  },
  {
   "cell_type": "code",
   "execution_count": 20,
   "metadata": {},
   "outputs": [],
   "source": [
    "def RunMCRG(K,h):\n",
    "    '''Run MCRG simulation to find y_t, y_h exponent, \n",
    "    keeping Nc_even and Nc_odd coupling terms'''\n",
    "    print('running MCRG for linear size',L,'lattice.')\n",
    "    print('Setting K =', K, \" and h = \",h)\n",
    "\n",
    "    #measurement accumulators for y_t\n",
    "    evenK = np.zeros(7,dtype = float)\n",
    "    evenK_1 = np.zeros(7,dtype = float)\n",
    "    mix_11 = np.zeros((7,7),dtype=float)\n",
    "    mix_01 = np.zeros((7,7),dtype=float)\n",
    "    #measurement accumulators for y_h\n",
    "    oddK = np.zeros(4,dtype = float)\n",
    "    oddK_1 = np.zeros(4,dtype = float)\n",
    "    mix_11_odd = np.zeros((4,4),dtype=float)\n",
    "    mix_01_odd = np.zeros((4,4),dtype=float)\n",
    "    \n",
    "    #Run simulation\n",
    "    k = 0;\n",
    "    for n in np.arange(nmeas+nwarm):\n",
    "        # Every MC n-loop, build a Wolff cluster and flip it\n",
    "        # Result: A S-field config drawn with probability propto Boltzmann weight\n",
    "        cluster = buildCluster(S)\n",
    "        for p in cluster:\n",
    "            S[p[0],p[1]] = -S[p[0],p[1]]\n",
    "            \n",
    "        #Sanity checks\n",
    "        if n % interval == 0:\n",
    "            energy[k] = Energy(S);\n",
    "            clustersize[k] = len(cluster);\n",
    "            k = k+1   \n",
    "            \n",
    "        # take measurements every (interval) steps if finished warmup\n",
    "        if n % interval == 0 and n >= nwarm:\n",
    "            S1 = RGTransform(S,b);\n",
    "            evenK += AllEvenCoupling(S)\n",
    "            evenK_1 += AllEvenCoupling(S1)\n",
    "            oddK += AllOddCoupling(S)\n",
    "            oddK_1 += AllOddCoupling(S1)\n",
    "            #A*B = C, B is unknown, A is symmetric\n",
    "            #Problem: C is not symmetric!?\n",
    "            mix_11 += np.outer(AllEvenCoupling(S1),AllEvenCoupling(S1))\n",
    "            mix_01 += np.outer(AllEvenCoupling(S1),AllEvenCoupling(S))\n",
    "            mix_11_odd += np.outer(AllOddCoupling(S1),AllOddCoupling(S1))\n",
    "            mix_01_odd += np.outer(AllOddCoupling(S1),AllOddCoupling(S))\n",
    "                       \n",
    "    #Results\n",
    "    evenK /= ndata; evenK_1 /= ndata; mix_11 /= ndata; mix_01 /= ndata;\n",
    "    oddK /= ndata; oddK_1 /= ndata; mix_11_odd /= ndata; mix_01_odd /= ndata;\n",
    "\n",
    "    print('evenK = ',evenK)\n",
    "    print('evenK_1 = ', evenK_1)\n",
    "    print('mix_11 = ', mix_11)\n",
    "    print('subtract ',np.outer(evenK_1,evenK_1))\n",
    "    print('mix_01 = ', mix_01)\n",
    "    print('subtract ',np.outer(evenK_1,evenK))\n",
    "    MatA_even = mix_11-np.outer(evenK_1,evenK_1)\n",
    "    MatC_even = mix_01-np.outer(evenK_1,evenK)\n",
    "    print('MatA_even (lhs) = ',MatA_even)\n",
    "    print('MatC_even (rhs) = ',MatC_even)\n",
    "    print('\\n')\n",
    "\n",
    "    print('oddK = ',oddK)\n",
    "    print('oddK_1 = ', oddK_1)\n",
    "    print('mix_11 = ', mix_11_odd)\n",
    "    print('subtract ', np.outer(oddK_1,oddK_1))\n",
    "    print('mix_01 = ', mix_01_odd)\n",
    "    print('subtract ', np.outer(oddK_1,oddK))\n",
    "    #TODO: cancellation bad, how to avoid?\n",
    "    MatA_odd = mix_11_odd-np.outer(oddK_1,oddK_1)\n",
    "    MatC_odd = mix_01_odd-np.outer(oddK_1,oddK)\n",
    "    print('MatA_odd (lhs) = ',MatA_odd)\n",
    "    print('MatC_odd (rhs) = ',MatC_odd)\n",
    "    print('\\n');\n",
    "    \n",
    "    return MatA_even, MatC_even, MatA_odd, MatC_odd"
   ]
  },
  {
   "cell_type": "code",
   "execution_count": 21,
   "metadata": {},
   "outputs": [],
   "source": [
    "def getExponent(MatA,MatC,Nc):\n",
    "    LinRGMat = la.solve(MatA[0:Nc,0:Nc],MatC[0:Nc,0:Nc])\n",
    "    print('linearized RG transformation = ',LinRGMat)\n",
    "    lmbd = la.eigvals(LinRGMat);\n",
    "    print('eigenvalues are',lmbd)\n",
    "    amplitude = np.absolute(lmbd)\n",
    "    print('eigenvalue amplitudes are',amplitude)\n",
    "    #Only the eigenvalue with maximum amplitude is important.\n",
    "    #This eigenvalue should generically be real\n",
    "    imax = np.argmax(amplitude)\n",
    "    y = np.log(lmbd[imax])/np.log(b)\n",
    "    print('exponent y = ',y)\n",
    "    return y"
   ]
  },
  {
   "cell_type": "markdown",
   "metadata": {},
   "source": [
    "## Test for specific set of input parameters"
   ]
  },
  {
   "cell_type": "code",
   "execution_count": 29,
   "metadata": {
    "scrolled": true
   },
   "outputs": [
    {
     "data": {
      "text/plain": [
       "<matplotlib.colorbar.Colorbar at 0x18620d174a8>"
      ]
     },
     "execution_count": 29,
     "metadata": {},
     "output_type": "execute_result"
    },
    {
     "data": {
      "image/png": "[encoded data removed]",
      "text/plain": [
       "<Figure size 432x288 with 2 Axes>"
      ]
     },
     "metadata": {
      "needs_background": "light"
     },
     "output_type": "display_data"
    }
   ],
   "source": [
    "# Input Parameters\n",
    "L = 64; #linear dimension of square lattice\n",
    "Kc = np.arccosh(3)/4; # Critical temperature Kc assumed to be known\n",
    "K = Kc; h = 0; #Start on Critical manifold\n",
    "Pij = 1-np.exp(-2*K) # Wolff add probability\n",
    "nwarm = 2000; #number of warm up Monte Carlo sweeps.\n",
    "nmeas = 2000; #number of measurement Monte Carlo sweeps.\n",
    "interval = 5; # Take data for correlation functions every (interval) MC-steps/site\n",
    "# RG analysis setting\n",
    "b = 2; #scaling factor\n",
    "\n",
    "# Derived constants\n",
    "Ns = L*L; #total number of grid points\n",
    "ndata = nmeas//interval\n",
    "energy = np.zeros((nmeas+nwarm)//interval,dtype=float)\n",
    "clustersize = np.zeros((nmeas+nwarm)//interval,dtype=int)\n",
    "\n",
    "#Initialize 2d spin field\n",
    "S = np.random.choice([-1,1],(L,L))\n",
    "#S = np.ones((L,L),dtype=int)\n",
    "plt.imshow(S);plt.colorbar()"
   ]
  },
  {
   "cell_type": "code",
   "execution_count": 30,
   "metadata": {},
   "outputs": [
    {
     "name": "stdout",
     "output_type": "stream",
     "text": [
      "running MCRG for linear size 64 lattice.\n",
      "Setting K = 0.4406867935097715  and h =  0\n",
      "evenK =  [5836.38 5275.51 2461.71 4946.29 9565.15 1962.51 4534.01]\n",
      "evenK_1 =  [1445.3  1334.94  592.02 1238.26 2414.73  504.3  1148.16]\n",
      "mix_11 =  [[2100209.04 1943779.72  862292.68 1807648.96 3528437.44  736914.\n",
      "  1681235.88]\n",
      " [1943779.72 1800830.96  798588.48 1676417.52 3273769.92  683660.96\n",
      "  1561333.72]\n",
      " [ 862292.68  798588.48  354692.24  743378.8  1451485.68  303272.16\n",
      "   692098.28]\n",
      " [1807648.96 1676417.52  743378.8  1563258.   3054098.52  637262.48\n",
      "  1458309.56]\n",
      " [3528437.44 3273769.92 1451485.68 3054098.52 5968843.88 1245195.56\n",
      "  2851513.44]\n",
      " [ 736914.    683660.96  303272.16  637262.48 1245195.56  260571.6\n",
      "   594547.64]\n",
      " [1681235.88 1561333.72  692098.28 1458309.56 2851513.44  594547.64\n",
      "  1364060.64]]\n",
      "subtract  [[2088892.09  1929388.782  855646.506 1789657.178 3490009.269  728864.79\n",
      "  1659435.648]\n",
      " [1929388.782 1782064.804  790311.179 1653002.804 3223519.666  673210.242\n",
      "  1532724.71 ]\n",
      " [ 855646.506  790311.179  350487.68   733074.685 1429568.455  298555.686\n",
      "   679733.683]\n",
      " [1789657.178 1653002.804  733074.685 1533287.828 2990063.57   624454.518\n",
      "  1421720.602]\n",
      " [3490009.269 3223519.666 1429568.455 2990063.57  5830920.973 1217748.339\n",
      "  2772496.397]\n",
      " [ 728864.79   673210.242  298555.686  624454.518 1217748.339  254318.49\n",
      "   579017.088]\n",
      " [1659435.648 1532724.71   679733.683 1421720.602 2772496.397  579017.088\n",
      "  1318271.386]]\n",
      "mix_01 =  [[ 8456958.6   7654873.64  3569101.4   7186696.92 13907623.16  2853148.92\n",
      "   6602062.6 ]\n",
      " [ 7819022.64  7081410.4   3300555.2   6651818.72 12876631.88  2641458.64\n",
      "   6116620.28]\n",
      " [ 3467869.44  3140734.88  1463911.2   2950202.72  5710631.96  1171642.96\n",
      "   2712294.12]\n",
      " [ 7261651.52  6581127.16  3066092.68  6186143.04 11979524.04  2457085.84\n",
      "   5694924.48]\n",
      " [14167682.52 12843304.8   5982663.28 12075469.92 23387682.8   4796871.36\n",
      "  11121758.08]\n",
      " [ 2958829.68  2682171.8   1249411.08  2521480.32  4883517.8   1001860.56\n",
      "   2321834.96]\n",
      " [ 6743432.92  6116593.8   2848175.64  5754119.52 11147998.88  2286288.64\n",
      "   5304845.  ]]\n",
      "subtract  [[ 8435320.014  7624694.603  3557909.463  7148872.937 13824511.295\n",
      "   2836415.703  6553004.653]\n",
      " [ 7791217.117  7042489.319  3286235.147  6603000.373 12768901.341\n",
      "   2619833.099  6052631.309]\n",
      " [ 3455253.688  3123207.43   1457381.554  2928302.606  5662760.103\n",
      "   1161845.17   2684224.6  ]\n",
      " [ 7226955.899  6532453.013  3048237.025  6124793.055 11844142.639\n",
      "   2430097.633  5614283.223]\n",
      " [14093281.877 12738932.262  5944364.988 11943954.852 23097254.659\n",
      "   4738931.772 10948409.967]\n",
      " [ 2943286.434  2660439.693  1241440.353  2494414.047  4823705.145\n",
      "    989693.793  2286501.243]\n",
      " [ 6701098.061  6057129.562  2826436.954  5679132.326 10982322.624\n",
      "   2253275.482  5205768.922]]\n",
      "MatA_even (lhs) =  [[ 11316.95   14390.938   6646.174  17991.782  38428.171   8049.21\n",
      "   21800.232]\n",
      " [ 14390.938  18766.156   8277.301  23414.716  50250.254  10450.718\n",
      "   28609.01 ]\n",
      " [  6646.174   8277.301   4204.56   10304.115  21917.225   4716.474\n",
      "   12364.597]\n",
      " [ 17991.782  23414.716  10304.115  29970.172  64034.95   12807.962\n",
      "   36588.958]\n",
      " [ 38428.171  50250.254  21917.225  64034.95  137922.907  27447.221\n",
      "   79017.043]\n",
      " [  8049.21   10450.718   4716.474  12807.962  27447.221   6253.11\n",
      "   15530.552]\n",
      " [ 21800.232  28609.01   12364.597  36588.958  79017.043  15530.552\n",
      "   45789.254]]\n",
      "MatC_even (rhs) =  [[ 21638.586  30179.037  11191.937  37823.983  83111.865  16733.217\n",
      "   49057.947]\n",
      " [ 27805.523  38921.081  14320.053  48818.347 107730.539  21625.541\n",
      "   63988.971]\n",
      " [ 12615.752  17527.45    6529.646  21900.114  47871.857   9797.79\n",
      "   28069.52 ]\n",
      " [ 34695.621  48674.147  17855.655  61349.985 135381.401  26988.207\n",
      "   80641.257]\n",
      " [ 74400.643 104372.538  38298.292 131515.068 290428.141  57939.588\n",
      "  173348.113]\n",
      " [ 15543.246  21732.107   7970.727  27066.273  59812.655  12166.767\n",
      "   35333.717]\n",
      " [ 42334.859  59464.238  21738.686  74987.194 165676.256  33013.158\n",
      "   99076.078]]\n",
      "\n",
      "\n",
      "oddK =  [ -41.775 -112.64  -107.3    -57.28 ]\n",
      "oddK_1 =  [-12.025 -30.78  -28.28  -14.39 ]\n",
      "mix_11 =  [[ 480581.45 1580339.24 1517605.28  786664.48]\n",
      " [1580339.24 5203884.32 4997713.12 2590105.6 ]\n",
      " [1517605.28 4997713.12 4801726.4  2487929.92]\n",
      " [ 786664.48 2590105.6  2487929.92 1289642.76]]\n",
      "subtract  [[144.601 370.13  340.067 173.04 ]\n",
      " [370.13  947.408 870.458 442.924]\n",
      " [340.067 870.458 799.758 406.949]\n",
      " [173.04  442.924 406.949 207.072]]\n",
      "mix_01 =  [[ 1772108.    5877213.84  5624162.92  2940572.14]\n",
      " [ 5827010.08 19331265.12 18501481.76  9671767.84]\n",
      " [ 5595612.2  18564373.44 17767989.28  9287970.64]\n",
      " [ 2900617.    9622772.16  9209670.08  4814456.6 ]]\n",
      "subtract  [[ 502.344 1354.496 1290.283  688.792]\n",
      " [1285.834 3467.059 3302.694 1763.078]\n",
      " [1181.397 3185.459 3034.444 1619.878]\n",
      " [ 601.142 1620.89  1544.047  824.259]]\n",
      "MatA_odd (lhs) =  [[ 480436.849 1579969.11  1517265.213  786491.44 ]\n",
      " [1579969.11  5202936.912 4996842.662 2589662.676]\n",
      " [1517265.213 4996842.662 4800926.642 2487522.971]\n",
      " [ 786491.44  2589662.676 2487522.971 1289435.688]]\n",
      "MatC_odd (rhs) =  [[ 1771605.656  5875859.344  5622872.638  2939883.348]\n",
      " [ 5825724.246 19327798.061 18498179.066  9670004.762]\n",
      " [ 5594430.803 18561187.981 17764954.836  9286350.762]\n",
      " [ 2900015.858  9621151.27   9208126.033  4813632.341]]\n",
      "\n",
      "\n",
      "linearized RG transformation =  [[1.912]]\n",
      "eigenvalues are [1.912+0.j]\n",
      "eigenvalue amplitudes are [1.912]\n",
      "exponent y =  (0.935121033772894+0j)\n",
      "linearized RG transformation =  [[1.123 1.181]\n",
      " [0.621 1.168]]\n",
      "eigenvalues are [0.289+0.j 2.002+0.j]\n",
      "eigenvalue amplitudes are [0.289 2.002]\n",
      "exponent y =  (1.00144846973761+0j)\n",
      "linearized RG transformation =  [[ 1.051  1.148  0.795]\n",
      " [ 0.646  1.18   0.173]\n",
      " [ 0.068  0.031 -0.043]]\n",
      "eigenvalues are [ 2.001+0.j  0.292+0.j -0.105+0.j]\n",
      "eigenvalue amplitudes are [2.001 0.292 0.105]\n",
      "exponent y =  (1.0006738594292424+0j)\n",
      "linearized RG transformation =  [[ 1.07   1.109  0.817  1.366]\n",
      " [ 0.694  1.078  0.232  0.935]\n",
      " [ 0.056  0.057 -0.058 -0.051]\n",
      " [-0.046  0.097 -0.056  0.514]]\n",
      "eigenvalues are [ 2.001+0.j  0.489+0.j  0.199+0.j -0.086+0.j]\n",
      "eigenvalue amplitudes are [2.001 0.489 0.199 0.086]\n",
      "exponent y =  (1.0009330460393684+0j)\n",
      "linearized RG transformation =  [[ 1.146  1.197  0.875  1.501  2.374]\n",
      " [ 0.562  0.926  0.133  0.701  2.379]\n",
      " [ 0.07   0.074 -0.047 -0.025 -0.378]\n",
      " [-0.317 -0.215 -0.259  0.035  0.133]\n",
      " [ 0.151  0.174  0.113  0.268  0.576]]\n",
      "eigenvalues are [ 2.018+0.j   -0.057+0.j    0.086+0.17j  0.086-0.17j  0.504+0.j  ]\n",
      "eigenvalue amplitudes are [2.018 0.057 0.19  0.19  0.504]\n",
      "exponent y =  (1.0128258852215941+0j)\n",
      "linearized RG transformation =  [[ 1.153  1.215  0.864  1.495  2.416  0.177]\n",
      " [ 0.508  0.776  0.217  0.755  2.042  0.495]\n",
      " [ 0.059  0.042 -0.029 -0.014 -0.449  0.386]\n",
      " [-0.311 -0.198 -0.269  0.029  0.17  -0.199]\n",
      " [ 0.157  0.19   0.104  0.262  0.612  0.167]\n",
      " [ 0.056  0.153 -0.086 -0.055  0.346  0.276]]\n",
      "eigenvalues are [ 2.022+0.j     0.395+0.137j  0.395-0.137j -0.017+0.195j -0.017-0.195j\n",
      "  0.039+0.j   ]\n",
      "eigenvalue amplitudes are [2.022 0.418 0.418 0.196 0.196 0.039]\n",
      "exponent y =  (1.0160116610291348+0j)\n",
      "linearized RG transformation =  [[ 1.163  1.237  0.858  1.516  2.458  0.19   0.51 ]\n",
      " [ 0.526  0.814  0.206  0.793  2.116  0.519  1.553]\n",
      " [ 0.064  0.052 -0.032 -0.004 -0.429  0.392 -0.271]\n",
      " [-0.287 -0.149 -0.283  0.078  0.267 -0.169  0.01 ]\n",
      " [ 0.078  0.024  0.153  0.095  0.287  0.064  0.438]\n",
      " [ 0.061  0.163 -0.089 -0.045  0.365  0.282  0.091]\n",
      " [ 0.099  0.209 -0.061  0.209  0.409  0.129  0.23 ]]\n",
      "eigenvalues are [ 2.035+0.j    -0.142+0.317j -0.142-0.317j  0.386+0.101j  0.386-0.101j\n",
      "  0.254+0.j     0.046+0.j   ]\n",
      "eigenvalue amplitudes are [2.035 0.347 0.347 0.399 0.399 0.254 0.046]\n",
      "exponent y =  (1.0249229932709225+0j)\n",
      "linearized RG transformation =  [[3.687]]\n",
      "eigenvalues are [3.687+0.j]\n",
      "eigenvalue amplitudes are [3.687]\n",
      "exponent y =  (1.8826387932478534+0j)\n",
      "linearized RG transformation =  [[ 3.872 10.177]\n",
      " [-0.056  0.624]]\n",
      "eigenvalues are [3.685+0.j 0.811+0.j]\n",
      "eigenvalue amplitudes are [3.685 0.811]\n",
      "exponent y =  (1.881848749646864+0j)\n",
      "linearized RG transformation =  [[ 3.866 10.196  8.599]\n",
      " [-0.022  0.521  0.688]\n",
      " [-0.034  0.102  0.267]]\n",
      "eigenvalues are [3.686+0.j 0.901+0.j 0.067+0.j]\n",
      "eigenvalue amplitudes are [3.686 0.901 0.067]\n",
      "exponent y =  (1.8819994861745464+0j)\n",
      "linearized RG transformation =  [[ 3.85  10.132  8.547  5.199]\n",
      " [-0.041  0.444  0.625  0.207]\n",
      " [-0.054  0.022  0.202 -0.049]\n",
      " [ 0.088  0.348  0.282  0.24 ]]\n",
      "eigenvalues are [3.687+0.j 0.896+0.j 0.135+0.j 0.018+0.j]\n",
      "eigenvalue amplitudes are [3.687 0.896 0.135 0.018]\n",
      "exponent y =  (1.88242118624444+0j)\n",
      "y_t array =  [0.935+0.j 1.001+0.j 1.001+0.j 1.001+0.j 1.013+0.j 1.016+0.j 1.025+0.j]\n",
      "y_h array =  [1.883+0.j 1.882+0.j 1.882+0.j 1.882+0.j]\n"
     ]
    }
   ],
   "source": [
    "MatA_even, MatC_even, MatA_odd, MatC_odd = RunMCRG(K,h)\n",
    "\n",
    "yt_arr = np.empty(7,dtype = complex);\n",
    "yh_arr = np.empty(4, dtype = complex);\n",
    "\n",
    "for i in np.arange(7):\n",
    "    yt_arr[i] = getExponent(MatA_even,MatC_even,i+1)\n",
    "\n",
    "for i in np.arange(4):\n",
    "    yh_arr[i] = getExponent(MatA_odd,MatC_odd,i+1)\n",
    "\n",
    "print(\"y_t array = \", yt_arr)\n",
    "print(\"y_h array = \", yh_arr)"
   ]
  },
  {
   "cell_type": "code",
   "execution_count": 24,
   "metadata": {
    "scrolled": true
   },
   "outputs": [
    {
     "data": {
      "text/plain": [
       "[<matplotlib.lines.Line2D at 0x18620a770f0>]"
      ]
     },
     "execution_count": 24,
     "metadata": {},
     "output_type": "execute_result"
    },
    {
     "data": {
      "image/png": "[encoded data removed]",
      "text/plain": [
       "<Figure size 432x288 with 1 Axes>"
      ]
     },
     "metadata": {
      "needs_background": "light"
     },
     "output_type": "display_data"
    }
   ],
   "source": [
    "plt.plot(energy)"
   ]
  },
  {
   "cell_type": "code",
   "execution_count": 25,
   "metadata": {},
   "outputs": [
    {
     "data": {
      "text/plain": [
       "[<matplotlib.lines.Line2D at 0x18620ade160>]"
      ]
     },
     "execution_count": 25,
     "metadata": {},
     "output_type": "execute_result"
    },
    {
     "data": {
      "image/png": "[encoded data removed]",
      "text/plain": [
       "<Figure size 432x288 with 1 Axes>"
      ]
     },
     "metadata": {
      "needs_background": "light"
     },
     "output_type": "display_data"
    }
   ],
   "source": [
    "plt.plot(clustersize)"
   ]
  },
  {
   "cell_type": "code",
   "execution_count": 26,
   "metadata": {},
   "outputs": [
    {
     "data": {
      "text/plain": [
       "0.666171875"
      ]
     },
     "execution_count": 26,
     "metadata": {},
     "output_type": "execute_result"
    }
   ],
   "source": [
    "np.mean(clustersize)/Ns"
   ]
  },
  {
   "cell_type": "code",
   "execution_count": 27,
   "metadata": {
    "scrolled": true
   },
   "outputs": [
    {
     "name": "stdout",
     "output_type": "stream",
     "text": [
      "save data to file:test.txt\n"
     ]
    }
   ],
   "source": [
    "filename = input('save data to file:')\n",
    "f = open(filename,'w')\n",
    "print(\"================== SETTINGS ==================\",file= f)\n",
    "print(\"L = \", L, \"\\n\",file = f)\n",
    "print(\"K = \", K, \"\\n\",file = f)\n",
    "print(\"h = \", h, \"\\n\",file = f)\n",
    "print(\"b = \", b, \"\\n\",file = f)\n",
    "print(\"nwarm = \", nwarm, \"\\n\",file = f)\n",
    "print(\"nmeas = \", nmeas, \"\\n\",file = f)\n",
    "print(\"interval = \", interval, \"\\n\",file = f)\n",
    "print(\"ndata = \", ndata, \"\\n\",file = f)\n",
    "print(\"================== RESULTS ===================\", file = f)\n",
    "print(\"avg cluster size = \",np.mean(clustersize)/Ns, \"\\n\",file = f)\n",
    "print(\"y_t array = \", yt_arr,\"\\n\",file = f)\n",
    "print(\"y_h array = \", yh_arr,\"\\n\",file = f)\n",
    "f.close()"
   ]
  },
  {
   "cell_type": "code",
   "execution_count": 28,
   "metadata": {},
   "outputs": [
    {
     "data": {
      "text/plain": [
       "<Figure size 1440x288 with 0 Axes>"
      ]
     },
     "metadata": {},
     "output_type": "display_data"
    }
   ],
   "source": [
    "plt.figure(figsize=(20,4))\n",
    "\n",
    "plt.savefig('run1.png',bbox_inches='tight')"
   ]
  }
 ],
 "metadata": {
  "kernelspec": {
   "display_name": "Python 3",
   "language": "python",
   "name": "python3"
  },
  "language_info": {
   "codemirror_mode": {
    "name": "ipython",
    "version": 3
   },
   "file_extension": ".py",
   "mimetype": "text/x-python",
   "name": "python",
   "nbconvert_exporter": "python",
   "pygments_lexer": "ipython3",
   "version": "3.7.1"
  }
 },
 "nbformat": 4,
 "nbformat_minor": 2
}
