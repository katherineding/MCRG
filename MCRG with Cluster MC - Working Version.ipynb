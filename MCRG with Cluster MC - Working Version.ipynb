{
 "cells": [
  {
   "cell_type": "markdown",
   "metadata": {},
   "source": [
    "# MCRG Code following Swendsen Description circa 1982, Using Wolff's Algorithm to combat critical slowing down"
   ]
  },
  {
   "cell_type": "code",
   "execution_count": 1,
   "metadata": {},
   "outputs": [],
   "source": [
    "from __future__ import division #safeguard against evil floor division\n",
    "\n",
    "import numpy as np\n",
    "from scipy import linalg as la\n",
    "import matplotlib.pyplot as plt\n",
    "import timeit\n",
    "%load_ext line_profiler\n",
    "\n",
    "np.set_printoptions(precision = 3,suppress=False)"
   ]
  },
  {
   "cell_type": "markdown",
   "metadata": {},
   "source": [
    "## 2D Ising Model, periodic B.C., initial Hamiltonian contains only nearest neighbor interactions"
   ]
  },
  {
   "cell_type": "markdown",
   "metadata": {},
   "source": [
    "$$\\mathcal{H} = -\\beta H_\\Omega = K\\sum_{\\langle i,j\\rangle} \\sigma_i \\sigma_j + h\\sum_{i = 0}^{N_s} \\sigma_i$$"
   ]
  },
  {
   "cell_type": "markdown",
   "metadata": {},
   "source": [
    "### Block spin transform, scale factor = b "
   ]
  },
  {
   "cell_type": "code",
   "execution_count": 2,
   "metadata": {},
   "outputs": [],
   "source": [
    "def assignBlockSpin(total):\n",
    "    '''Rule for assigning block spin value. Random tiebreaker'''\n",
    "    if total > 0:\n",
    "        s = 1;\n",
    "    elif total < 0:\n",
    "        s = -1;\n",
    "    else:\n",
    "        s = np.random.choice([-1,1])\n",
    "    return s"
   ]
  },
  {
   "cell_type": "code",
   "execution_count": 3,
   "metadata": {},
   "outputs": [],
   "source": [
    "def RGTransform(S,b):\n",
    "    '''Take a spin config S and produce renormalized block spin config that \n",
    "    groups b*b spins together into one block. Does not modify input S'''\n",
    "    L = S.shape[0];\n",
    "    assert L//b >= 2, \"Renormalized lattice will have linear dimension <=1\"\n",
    "    newS = np.empty([L//b, L//b],dtype=int)\n",
    "    for j in np.arange(L//b):\n",
    "        for i in np.arange(L//b):\n",
    "            block = S[(b*i):(b*i+b),(b*j):(b*j+b)]\n",
    "            total = np.sum(block)\n",
    "            newS[i,j] = assignBlockSpin(total);    \n",
    "    return newS"
   ]
  },
  {
   "cell_type": "markdown",
   "metadata": {},
   "source": [
    "### First 7 short range even couplings"
   ]
  },
  {
   "cell_type": "code",
   "execution_count": 4,
   "metadata": {},
   "outputs": [],
   "source": [
    "def N1Coupl(S):\n",
    "    '''for spin field config S, \n",
    "    measure sum SiSj for i,j that are nearest neighbors, dir = (1,0)'''\n",
    "    L = S.shape[0];\n",
    "    assert L >=2, \"Lattice too small for NN interaction\"\n",
    "    val = 0.0;\n",
    "    for j in np.arange(L):\n",
    "        for i in np.arange(L):\n",
    "            val += S[i,j]*(S[i,(j+1)%L] + S[(i+1)%L,j])\n",
    "    return val"
   ]
  },
  {
   "cell_type": "code",
   "execution_count": 5,
   "metadata": {},
   "outputs": [],
   "source": [
    "def N2Coupl(S):\n",
    "    '''for spin field config S, \n",
    "    measure sum SiSj for i,j that are next-nearest neighbors, dir = (1,1)'''\n",
    "    L = S.shape[0];\n",
    "    assert L >=2, \"Lattice too small for next nearest neighbor interaction\"\n",
    "    val = 0.0;\n",
    "    for j in np.arange(L):\n",
    "        for i in np.arange(L):\n",
    "            val += S[i,j]*(S[(i+1)%L,(j+1)%L] + S[(i-1)%L,(j+1)%L])\n",
    "    return val"
   ]
  },
  {
   "cell_type": "code",
   "execution_count": 6,
   "metadata": {},
   "outputs": [],
   "source": [
    "def N3Coupl(S):\n",
    "    '''for spin field config S, \n",
    "    measure sum SiSj for i,j that are third-nearest neighbors,dir = (2,0)'''\n",
    "    L = S.shape[0];\n",
    "    assert L >=3, \"Lattice too small for third nearest neighbor interaction\"\n",
    "    val = 0.0;\n",
    "    for j in np.arange(L):\n",
    "        for i in np.arange(L):\n",
    "            val += S[i,j]*(S[i,(j+2)%L] + S[(i+2)%L,j])\n",
    "    return val"
   ]
  },
  {
   "cell_type": "code",
   "execution_count": 7,
   "metadata": {},
   "outputs": [],
   "source": [
    "def N4Coupl(S):\n",
    "    '''for spin field config S, \n",
    "    measure sum SiSj for i,j that are 4th-nearest neighbors, dir = (2,1)'''\n",
    "    L = S.shape[0];\n",
    "    assert L >=3, \"Lattice too small for 4th nearest neighbor interaction\"\n",
    "    val = 0.0;\n",
    "    for j in np.arange(L):\n",
    "        for i in np.arange(L):\n",
    "            val += S[i,j]*(S[(i+1)%L,(j+2)%L] + S[(i+2)%L,(j+1)%L] \n",
    "                           +S[(i-1)%L,(j+2)%L] + S[(i-2)%L,(j+1)%L])\n",
    "    return val"
   ]
  },
  {
   "cell_type": "code",
   "execution_count": 8,
   "metadata": {},
   "outputs": [],
   "source": [
    "def N5Coupl(S):\n",
    "    '''for spin field config S, \n",
    "    measure sum SiSj for i,j that are 5th-nearest neighbors,dir = (2,2)'''\n",
    "    L = S.shape[0];\n",
    "    assert L >=3, \"Lattice too small for third nearest neighbor interaction\"\n",
    "    val = 0.0;\n",
    "    for j in np.arange(L):\n",
    "        for i in np.arange(L):\n",
    "            val += S[i,j]*(S[(i+2)%L,(j+2)%L] + S[(i-2)%L,(j+2)%L])\n",
    "    return val"
   ]
  },
  {
   "cell_type": "code",
   "execution_count": 9,
   "metadata": {},
   "outputs": [],
   "source": [
    "def PlaqCoupl(S):\n",
    "    '''for spin field config S, \n",
    "    measure sum SiSjSlSk for i,j,k,l that form 1 plaquette,'''\n",
    "    L = S.shape[0];\n",
    "    assert L >=2, \"Lattice too small to form plaquettes\"\n",
    "    val = 0.0;\n",
    "    for j in np.arange(L):\n",
    "        for i in np.arange(L):\n",
    "            val += S[i,j]*S[i,(j+1)%L]*S[(i+1)%L,(j+1)%L]*S[(i+1)%L,j]\n",
    "    return val"
   ]
  },
  {
   "cell_type": "code",
   "execution_count": 10,
   "metadata": {},
   "outputs": [],
   "source": [
    "def SubPlaqCoupl(S):\n",
    "    '''for spin field config S, \n",
    "    measure sum SiSjSlSk for i,j,k,l that form 1 sublattice plaquette,'''\n",
    "    L = S.shape[0];\n",
    "    assert L >=3, \"Lattice too small to form sublattice plaquettes\"\n",
    "    val = 0.0;\n",
    "    for j in np.arange(L):\n",
    "        for i in np.arange(L):\n",
    "            val += S[(i+1)%L,j]*S[i,(j+1)%L]*S[(i-1)%L,j]*S[i,(j-1)%L]\n",
    "    return val"
   ]
  },
  {
   "cell_type": "code",
   "execution_count": 11,
   "metadata": {},
   "outputs": [],
   "source": [
    "def AllEvenCoupling(S):\n",
    "    '''for spin field config S, \n",
    "    Integrate measurement of first 7 even correlation functions in one vector'''\n",
    "    L = S.shape[0];\n",
    "    assert L >=3, \"Lattice too small to fit first 7 even couplings\"\n",
    "    val = np.zeros(7,dtype = float);\n",
    "    for j in np.arange(L):\n",
    "        for i in np.arange(L):\n",
    "            val += [S[i,j]*(S[i,(j+1)%L] + S[(i+1)%L,j]), #nearest neighbor (1,0)\n",
    "                    S[i,j]*(S[(i+1)%L,(j+1)%L] + S[(i-1)%L,(j+1)%L]), #next nearest neighbor (1,1)\n",
    "                    S[i,j]*(S[i,(j+2)%L] + S[(i+2)%L,j]), #3rd nearest neighbor (2,0)\n",
    "                    S[i,j]*(S[(i+1)%L,(j+2)%L] + S[(i+2)%L,(j+1)%L] \n",
    "                            +S[(i-1)%L,(j+2)%L] + S[(i-2)%L,(j+1)%L]),#4th nearest neighbor (2,1)\n",
    "                    S[i,j]*(S[(i+2)%L,(j+2)%L] + S[(i-2)%L,(j+2)%L]),#5th nearest neighbor (2,2)\n",
    "                    S[i,j]*S[i,(j+1)%L]*S[(i+1)%L,(j+1)%L]*S[(i+1)%L,j], # plaquette\n",
    "                    S[(i+1)%L,j]*S[i,(j+1)%L]*S[(i-1)%L,j]*S[i,(j-1)%L]] # sublattice plaquette\n",
    "    return val"
   ]
  },
  {
   "cell_type": "markdown",
   "metadata": {},
   "source": [
    "### First 4 short range odd couplings"
   ]
  },
  {
   "cell_type": "code",
   "execution_count": 12,
   "metadata": {},
   "outputs": [],
   "source": [
    "def Magnetization(S):\n",
    "    L = S.shape[0];\n",
    "    assert L >=1, \"Lattice linear dim < 1\"\n",
    "    val = np.sum(S);\n",
    "    return val"
   ]
  },
  {
   "cell_type": "code",
   "execution_count": 13,
   "metadata": {},
   "outputs": [],
   "source": [
    "def TripletPlaq(S):\n",
    "    L = S.shape[0];\n",
    "    assert L >=2, \"Lattice too small to have 3 spins on a plaquette\"\n",
    "    val = 0.0;\n",
    "    for j in np.arange(L):\n",
    "        for i in np.arange(L):\n",
    "            val += S[i,j]*S[(i+1)%L,j]*S[(i+1)%L,(j+1)%L];\n",
    "            val += S[i,j]*S[i,(j+1)%L]*S[(i-1)%L,(j+1)%L];\n",
    "            val += S[i,j]*S[(i-1)%L,j]*S[(i-1)%L,(j-1)%L];\n",
    "            val += S[i,j]*S[i,(j-1)%L]*S[(i+1)%L,(j-1)%L];\n",
    "    return val"
   ]
  },
  {
   "cell_type": "code",
   "execution_count": 14,
   "metadata": {},
   "outputs": [],
   "source": [
    "def TripletAngle(S):\n",
    "    L = S.shape[0];\n",
    "    assert L >=3, \"Lattice too small to have 3 spins at an angle\"\n",
    "    val = 0.0;\n",
    "    for j in np.arange(L):\n",
    "        for i in np.arange(L):\n",
    "            val += S[i,j]*S[(i+1)%L,j]*S[(i+2)%L,(j+1)%L];\n",
    "            val += S[i,j]*S[i,(j+1)%L]*S[(i-1)%L,(j+2)%L];\n",
    "            val += S[i,j]*S[(i-1)%L,j]*S[(i-2)%L,(j-1)%L];\n",
    "            val += S[i,j]*S[i,(j-1)%L]*S[(i+1)%L,(j-2)%L];\n",
    "    return val"
   ]
  },
  {
   "cell_type": "code",
   "execution_count": 15,
   "metadata": {},
   "outputs": [],
   "source": [
    "def TripletRow(S):\n",
    "    L = S.shape[0];\n",
    "    assert L >=3, \"Lattice too small have 3 spins in a row\"\n",
    "    val = 0.0;\n",
    "    for j in np.arange(L):\n",
    "        for i in np.arange(L):\n",
    "            val += S[i,j]*(S[(i+1)%L,j]*S[(i+2)%L,j] \\\n",
    "                           + S[i,(j+1)%L]*S[i,(j+2)%L])\n",
    "    return val"
   ]
  },
  {
   "cell_type": "code",
   "execution_count": 16,
   "metadata": {},
   "outputs": [],
   "source": [
    "def AllOddCoupling(S):\n",
    "    L = S.shape[0];\n",
    "    assert L >=3, \"Lattice too small to fit first 4 odd couplings\"\n",
    "    val = np.zeros(4,dtype = float);\n",
    "    for j in np.arange(L):\n",
    "        for i in np.arange(L):\n",
    "            val += [0, #magnetization\n",
    "                    S[i,j]*S[(i+1)%L,j]*S[(i+1)%L,(j+1)%L]+\n",
    "                    S[i,j]*S[i,(j+1)%L]*S[(i-1)%L,(j+1)%L]+\n",
    "                    S[i,j]*S[(i-1)%L,j]*S[(i-1)%L,(j-1)%L]+\n",
    "                    S[i,j]*S[i,(j-1)%L]*S[(i+1)%L,(j-1)%L], #3 spin plaquette\n",
    "                    S[i,j]*S[(i+1)%L,j]*S[(i+2)%L,(j+1)%L]+\n",
    "                    S[i,j]*S[i,(j+1)%L]*S[(i-1)%L,(j+2)%L]+\n",
    "                    S[i,j]*S[(i-1)%L,j]*S[(i-2)%L,(j-1)%L]+\n",
    "                    S[i,j]*S[i,(j-1)%L]*S[(i+1)%L,(j-2)%L], # 3 spin angle\n",
    "                    S[i,j]*(S[(i+1)%L,j]*S[(i+2)%L,j] + \n",
    "                            S[i,(j+1)%L]*S[i,(j+2)%L])] #3 spin row\n",
    "    val[0] = np.sum(S);\n",
    "    return val"
   ]
  },
  {
   "cell_type": "markdown",
   "metadata": {},
   "source": [
    "### Clustering for Wolff Algorithm"
   ]
  },
  {
   "cell_type": "code",
   "execution_count": 17,
   "metadata": {},
   "outputs": [],
   "source": [
    "def NNBonds(p):\n",
    "    '''returns set of bonds that connect site p to its 4 nearest neighbors'''\n",
    "    i = p[0]; j = p[1];\n",
    "    nbrs = [(i,(j+1)%L),(i,(j-1)%L),((i+1)%L,j),((i-1)%L,j)]\n",
    "    bonds = set();\n",
    "    for n in nbrs:\n",
    "        bonds.add(frozenset({p,n}))\n",
    "    return bonds"
   ]
  },
  {
   "cell_type": "code",
   "execution_count": 18,
   "metadata": {},
   "outputs": [],
   "source": [
    "def buildCluster(S):\n",
    "    ''''Build Wolff cluster starting from random site for spin configuration S'''\n",
    "    #random seed location\n",
    "    L = S.shape[0];\n",
    "    init = (np.random.choice(L),np.random.choice(L))\n",
    "    Si = S[init[0],init[1]]\n",
    "    \n",
    "    #cluster starts with 1 element\n",
    "    cluster = {init}\n",
    "    \n",
    "    #nearest neighbors make up the frontier\n",
    "    bonds = NNBonds(init)\n",
    "    \n",
    "    #set of points already considered for adding to cluster\n",
    "    checked = set();\n",
    "    \n",
    "    #while the set of fresh bonds is nonempty, do...\n",
    "    while (len(bonds) > 0):\n",
    "        if len(cluster) == Ns:\n",
    "            break;\n",
    "        #take out one bond in fresh bond set\n",
    "        #frozenset ijbond represent unordered edge (i,j)\n",
    "        ijbond = bonds.pop() \n",
    "        #add to list of bonds that have been checked\n",
    "        checked.add(ijbond)\n",
    "        #pick out element j from edge (i,j)\n",
    "        jwrap = ijbond - cluster \n",
    "        #both i and j may already be in cluster, in this case skip to next iteration\n",
    "        if len(jwrap) == 0:\n",
    "            continue;\n",
    "        #otherwise, only i in cluster already, we are left with j\n",
    "        j = set(jwrap).pop() #convert to usable form\n",
    "        Sj = S[j[0],j[1]]\n",
    "        #if parallel to seed spin, activate bond with probability Pij\n",
    "        if Sj == Si:\n",
    "            r = np.random.random()\n",
    "            if r < Pij:\n",
    "                #add j to cluster, add nearest bonds of j to the fresh bond list\n",
    "                #also remove bonds already considered from the fresh bond list\n",
    "                cluster.add(j) \n",
    "                bonds |= NNBonds(j) \n",
    "                bonds -= checked \n",
    "    return cluster"
   ]
  },
  {
   "cell_type": "markdown",
   "metadata": {},
   "source": [
    "### Integrated MC + RG simulation function"
   ]
  },
  {
   "cell_type": "code",
   "execution_count": 19,
   "metadata": {},
   "outputs": [],
   "source": [
    "def Energy(S):\n",
    "    '''Brute force Find energy of spin configuration S for sanity check'''\n",
    "    L = S.shape[0];\n",
    "    E = 0;\n",
    "    for i in np.arange(L):\n",
    "        for j in np.arange(L):\n",
    "            E += K*S[i,j]*(S[i,(j+1)%L] + S[(i+1)%L,j])\n",
    "    E += h*np.sum(S)\n",
    "    return E"
   ]
  },
  {
   "cell_type": "code",
   "execution_count": 33,
   "metadata": {},
   "outputs": [],
   "source": [
    "def RunMCRG(K,h):\n",
    "    '''Run MCRG simulation to find y_t, y_h exponent, \n",
    "    keeping Nc_even and Nc_odd coupling terms'''\n",
    "    print('running MCRG for linear size',L,'lattice.')\n",
    "    print('Setting K =', K, \" and h = \",h)\n",
    "\n",
    "    #measurement accumulators for y_t\n",
    "    evenK = np.zeros(7,dtype = float)\n",
    "    evenK_1 = np.zeros(7,dtype = float)\n",
    "    mix_11 = np.zeros((7,7),dtype=float)\n",
    "    mix_01 = np.zeros((7,7),dtype=float)\n",
    "    #measurement accumulators for y_h\n",
    "    oddK = np.zeros(4,dtype = float)\n",
    "    oddK_1 = np.zeros(4,dtype = float)\n",
    "    mix_11_odd = np.zeros((4,4),dtype=float)\n",
    "    mix_01_odd = np.zeros((4,4),dtype=float)\n",
    "    \n",
    "    #Run simulation\n",
    "    k = 0;\n",
    "    for n in np.arange(nmeas+nwarm):\n",
    "        # Every MC n-loop, build a Wolff cluster and flip it\n",
    "        # Result: A S-field config drawn with probability propto Boltzmann weight\n",
    "        cluster = buildCluster(S)\n",
    "        for p in cluster:\n",
    "            S[p[0],p[1]] = -S[p[0],p[1]]\n",
    "            \n",
    "        #Sanity checks\n",
    "        if n % interval == 0:\n",
    "            energy[k] = Energy(S);\n",
    "            clustersize[k] = len(cluster);\n",
    "            k = k+1   \n",
    "            \n",
    "        # take measurements every (interval) steps if finished warmup\n",
    "        if n % interval == 0 and n >= nwarm:\n",
    "            S1 = RGTransform(S,b);\n",
    "            evenK += AllEvenCoupling(S)\n",
    "            evenK_1 += AllEvenCoupling(S1)\n",
    "            oddK += AllOddCoupling(S)\n",
    "            oddK_1 += AllOddCoupling(S1)\n",
    "            #A*B = C, B is unknown, A is symmetric\n",
    "            #Problem: C is not symmetric!?\n",
    "            mix_11 += np.outer(AllEvenCoupling(S1),AllEvenCoupling(S1))\n",
    "            mix_01 += np.outer(AllEvenCoupling(S1),AllEvenCoupling(S))\n",
    "            mix_11_odd += np.outer(AllOddCoupling(S1),AllOddCoupling(S1))\n",
    "            mix_01_odd += np.outer(AllOddCoupling(S1),AllOddCoupling(S))\n",
    "                       \n",
    "    #Results\n",
    "    evenK /= ndata; evenK_1 /= ndata; mix_11 /= ndata; mix_01 /= ndata;\n",
    "    oddK /= ndata; oddK_1 /= ndata; mix_11_odd /= ndata; mix_01_odd /= ndata;\n",
    "\n",
    "    print('evenK = ',evenK)\n",
    "    print('evenK_1 = ', evenK_1)\n",
    "    print('mix_11 = ', mix_11)\n",
    "    print('subtract ',np.outer(evenK_1,evenK_1))\n",
    "    print('mix_01 = ', mix_01)\n",
    "    print('subtract ',np.outer(evenK_1,evenK))\n",
    "    MatA_even = mix_11-np.outer(evenK_1,evenK_1)\n",
    "    MatC_even = mix_01-np.outer(evenK_1,evenK)\n",
    "    print('MatA_even (lhs) = ',MatA_even)\n",
    "    print('MatC_even (rhs) = ',MatC_even)\n",
    "    print('\\n')\n",
    "\n",
    "    print('oddK = ',oddK)\n",
    "    print('oddK_1 = ', oddK_1)\n",
    "    print('mix_11 = ', mix_11_odd)\n",
    "    print('subtract ', np.outer(oddK_1,oddK_1))\n",
    "    print('mix_01 = ', mix_01_odd)\n",
    "    print('subtract ', np.outer(oddK_1,oddK))\n",
    "    #TODO: cancellation bad, how to avoid?\n",
    "    MatA_odd = mix_11_odd-np.outer(oddK_1,oddK_1)\n",
    "    MatC_odd = mix_01_odd-np.outer(oddK_1,oddK)\n",
    "    print('MatA_odd (lhs) = ',MatA_odd)\n",
    "    print('MatC_odd (rhs) = ',MatC_odd)\n",
    "    print('\\n');\n",
    "    \n",
    "    return MatA_even, MatC_even, MatA_odd, MatC_odd"
   ]
  },
  {
   "cell_type": "code",
   "execution_count": 34,
   "metadata": {},
   "outputs": [],
   "source": [
    "def getExponent(MatA,MatC,Nc):\n",
    "    LinRGMat = la.solve(MatA[0:Nc,0:Nc],MatC[0:Nc,0:Nc])\n",
    "    print('linearized RG transformation = ',LinRGMat)\n",
    "    lmbd = la.eigvals(LinRGMat);\n",
    "    print('eigenvalues are',lmbd)\n",
    "    amplitude = np.absolute(lmbd)\n",
    "    print('eigenvalue amplitudes are',amplitude)\n",
    "    #Only the eigenvalue with maximum amplitude is important.\n",
    "    #This eigenvalue should generically be real\n",
    "    imax = np.argmax(amplitude)\n",
    "    y = np.log(lmbd[imax])/np.log(b)\n",
    "    print('exponent y = ',y)\n",
    "    return y"
   ]
  },
  {
   "cell_type": "markdown",
   "metadata": {},
   "source": [
    "## Test for specific set of input parameters"
   ]
  },
  {
   "cell_type": "code",
   "execution_count": 53,
   "metadata": {
    "scrolled": true
   },
   "outputs": [
    {
     "data": {
      "text/plain": [
       "<matplotlib.colorbar.Colorbar at 0x1e611da1c88>"
      ]
     },
     "execution_count": 53,
     "metadata": {},
     "output_type": "execute_result"
    },
    {
     "data": {
      "image/png": "[encoded data removed]",
      "text/plain": [
       "<Figure size 432x288 with 2 Axes>"
      ]
     },
     "metadata": {
      "needs_background": "light"
     },
     "output_type": "display_data"
    }
   ],
   "source": [
    "# Input Parameters\n",
    "L = 16; #linear dimension of square lattice\n",
    "Kc = np.arccosh(3)/4; # Critical temperature Kc assumed to be known\n",
    "K = Kc; h = 0; #Start on Critical manifold\n",
    "Pij = 1-np.exp(-2*K) # Wolff add probability\n",
    "nwarm = 1000; #number of warm up Monte Carlo sweeps.\n",
    "nmeas = 2000; #number of measurement Monte Carlo sweeps.\n",
    "interval = 10; # Take data for correlation functions every (interval) MC-steps/site\n",
    "# RG analysis setting\n",
    "b = 2; #scaling factor\n",
    "\n",
    "# Derived constants\n",
    "Ns = L*L; #total number of grid points\n",
    "ndata = nmeas//interval\n",
    "energy = np.zeros((nmeas+nwarm)//interval,dtype=float)\n",
    "clustersize = np.zeros((nmeas+nwarm)//interval,dtype=int)\n",
    "\n",
    "#Initialize 2d spin field\n",
    "S = np.random.choice([-1,1],(L,L))\n",
    "#S = np.ones((L,L),dtype=int)\n",
    "plt.imshow(S);plt.colorbar()"
   ]
  },
  {
   "cell_type": "code",
   "execution_count": 54,
   "metadata": {},
   "outputs": [
    {
     "name": "stdout",
     "output_type": "stream",
     "text": [
      "running MCRG for linear size 16 lattice.\n",
      "Setting K = 0.4406867935097715  and h =  0\n",
      "evenK =  [378.68 349.26 333.74 651.38 314.44 161.22 133.7 ]\n",
      "evenK_1 =  [ 97.22  92.74  88.76 175.    85.7   40.86  36.88]\n",
      "mix_11 =  [[ 9760.24  9394.96  9080.16 17942.16  8829.36  4169.52  3815.84]\n",
      " [ 9394.96  9091.92  8812.4  17436.56  8597.84  4021.84  3719.6 ]\n",
      " [ 9080.16  8812.4   8588.48 17000.    8400.4   3901.2   3619.36]\n",
      " [17942.16 17436.56 17000.   33716.96 16677.44  7708.72  7173.6 ]\n",
      " [ 8829.36  8597.84  8400.4  16677.44  8275.6   3796.72  3544.4 ]\n",
      " [ 4169.52  4021.84  3901.2   7708.72  3796.72  1809.68  1650.96]\n",
      " [ 3815.84  3719.6   3619.36  7173.6   3544.4   1650.96  1560.64]]\n",
      "subtract  [[ 9451.728  9016.183  8629.247 17013.5    8331.754  3972.409  3585.474]\n",
      " [ 9016.183  8600.708  8231.602 16229.5    7947.818  3789.356  3420.251]\n",
      " [ 8629.247  8231.602  7878.338 15533.     7606.732  3626.734  3273.469]\n",
      " [17013.5   16229.5   15533.    30625.    14997.5    7150.5    6454.   ]\n",
      " [ 8331.754  7947.818  7606.732 14997.5    7344.49   3501.702  3160.616]\n",
      " [ 3972.409  3789.356  3626.734  7150.5    3501.702  1669.54   1506.917]\n",
      " [ 3585.474  3420.251  3273.469  6454.     3160.616  1506.917  1360.134]]\n",
      "mix_01 =  [[ 37365.36  34746.4   33407.6   65434.8   31784.    15941.28  13441.68]\n",
      " [ 35808.32  33390.    32171.84  63096.88  30726.96  15285.36  12958.56]\n",
      " [ 34428.32  32180.48  31080.    61024.16  29785.52  14704.64  12529.44]\n",
      " [ 67952.72  63566.16  61425.36 120647.92  58946.48  29023.28  24769.2 ]\n",
      " [ 33357.04  31246.    30228.64  59416.56  29070.8   14249.04  12194.08]\n",
      " [ 15814.4   14760.4   14234.08  27911.6   13583.28   6757.52   5739.52]\n",
      " [ 14385.76  13489.44  13040.96  25638.24  12531.12   6150.88   5277.92]]\n",
      "subtract  [[ 36815.27   33955.057  32446.203  63327.164  30569.857  15673.808\n",
      "   12998.314]\n",
      " [ 35118.783  32390.372  30951.048  60408.981  29161.166  14951.543\n",
      "   12399.338]\n",
      " [ 33611.637  31000.318  29622.762  57816.489  27909.694  14309.887\n",
      "   11867.212]\n",
      " [ 66269.     61120.5    58404.5   113991.5    55027.     28213.5\n",
      "   23397.5  ]\n",
      " [ 32452.876  29931.582  28601.518  55823.266  26947.508  13816.554\n",
      "   11458.09 ]\n",
      " [ 15472.865  14270.764  13636.616  26615.387  12848.018   6587.449\n",
      "    5462.982]\n",
      " [ 13965.718  12880.709  12308.331  24022.894  11596.547   5945.794\n",
      "    4930.856]]\n",
      "MatA_even (lhs) =  [[ 308.512  378.777  450.913  928.66   497.606  197.111  230.366]\n",
      " [ 378.777  491.212  580.798 1207.06   650.022  232.484  299.349]\n",
      " [ 450.913  580.798  710.142 1467.     793.668  274.466  345.891]\n",
      " [ 928.66  1207.06  1467.    3091.96  1679.94   558.22   719.6  ]\n",
      " [ 497.606  650.022  793.668 1679.94   931.11   295.018  383.784]\n",
      " [ 197.111  232.484  274.466  558.22   295.018  140.14   144.043]\n",
      " [ 230.366  299.349  345.891  719.6    383.784  144.043  200.506]]\n",
      "MatC_even (rhs) =  [[ 550.09   791.343  961.397 2107.636 1214.143  267.472  443.366]\n",
      " [ 689.537  999.628 1220.792 2687.899 1565.794  333.817  559.222]\n",
      " [ 816.683 1180.162 1457.238 3207.671 1875.826  394.753  662.228]\n",
      " [1683.72  2445.66  3020.86  6656.42  3919.48   809.78  1371.7  ]\n",
      " [ 904.164 1314.418 1627.122 3593.294 2123.292  432.486  735.99 ]\n",
      " [ 341.535  489.636  597.464 1296.213  735.262  170.071  276.538]\n",
      " [ 420.042  608.731  732.629 1615.346  934.573  205.086  347.064]]\n",
      "\n",
      "\n",
      "oddK =  [2.57 5.56 6.32 4.28]\n",
      "oddK_1 =  [0.79 2.   1.84 1.62]\n",
      "mix_11 =  [[ 2786.5   9386.64  9118.8   4660.16]\n",
      " [ 9386.64 31959.04 31061.44 15861.12]\n",
      " [ 9118.8  31061.44 30274.56 15428.32]\n",
      " [ 4660.16 15861.12 15428.32  7888.88]]\n",
      "subtract  [[0.624 1.58  1.454 1.28 ]\n",
      " [1.58  4.    3.68  3.24 ]\n",
      " [1.454 3.68  3.386 2.981]\n",
      " [1.28  3.24  2.981 2.624]]\n",
      "mix_01 =  [[ 10255.    34219.2   32828.4   17076.84]\n",
      " [ 34507.28 115392.   110819.52  57567.68]\n",
      " [ 33515.36 112116.16 107676.16  55926.24]\n",
      " [ 17130.64  57284.16  55026.24  28586.8 ]]\n",
      "subtract  [[ 2.03   4.392  4.993  3.381]\n",
      " [ 5.14  11.12  12.64   8.56 ]\n",
      " [ 4.729 10.23  11.629  7.875]\n",
      " [ 4.163  9.007 10.238  6.934]]\n",
      "MatA_odd (lhs) =  [[ 2785.876  9385.06   9117.346  4658.88 ]\n",
      " [ 9385.06  31955.04  31057.76  15857.88 ]\n",
      " [ 9117.346 31057.76  30271.174 15425.339]\n",
      " [ 4658.88  15857.88  15425.339  7886.256]]\n",
      "MatC_odd (rhs) =  [[ 10252.97   34214.808  32823.407  17073.459]\n",
      " [ 34502.14  115380.88  110806.88   57559.12 ]\n",
      " [ 33510.631 112105.93  107664.531  55918.365]\n",
      " [ 17126.477  57275.153  55016.002  28579.866]]\n",
      "\n",
      "\n",
      "linearized RG transformation =  [[1.783]]\n",
      "eigenvalues are [1.783+0.j]\n",
      "eigenvalue amplitudes are [1.783]\n",
      "exponent y =  (0.8343439901960578+0j)\n",
      "linearized RG transformation =  [[1.119 1.249]\n",
      " [0.541 1.072]]\n",
      "eigenvalues are [1.918+0.j 0.273+0.j]\n",
      "eigenvalue amplitudes are [1.918 0.273]\n",
      "exponent y =  (0.9394109563437915+0j)\n",
      "linearized RG transformation =  [[ 1.135  1.294  1.137]\n",
      " [ 0.633  1.326  1.087]\n",
      " [-0.089 -0.245  0.441]]\n",
      "eigenvalues are [1.897+0.j 0.353+0.j 0.653+0.j]\n",
      "eigenvalue amplitudes are [1.897 0.353 0.653]\n",
      "exponent y =  (0.9234088524545904+0j)\n",
      "linearized RG transformation =  [[ 1.096  1.309  1.186  2.068]\n",
      " [ 0.696  1.303  1.009  2.578]\n",
      " [ 0.064 -0.3    0.253  0.517]\n",
      " [-0.087  0.032  0.107  0.28 ]]\n",
      "eigenvalues are [ 1.883+0.j -0.129+0.j  0.406+0.j  0.772+0.j]\n",
      "eigenvalue amplitudes are [1.883 0.129 0.406 0.772]\n",
      "exponent y =  (0.9133613719040516+0j)\n",
      "linearized RG transformation =  [[ 1.105  1.319  1.192  2.128  0.526]\n",
      " [ 0.709  1.316  1.017  2.658  1.445]\n",
      " [ 0.068 -0.296  0.256  0.542  0.011]\n",
      " [-0.138 -0.021  0.075 -0.041  0.368]\n",
      " [ 0.076  0.078  0.048  0.478  0.317]]\n",
      "eigenvalues are [ 1.901+0.j -0.341+0.j  0.13 +0.j  0.477+0.j  0.787+0.j]\n",
      "eigenvalue amplitudes are [1.901 0.341 0.13  0.477 0.787]\n",
      "exponent y =  (0.9266334771676773+0j)\n",
      "linearized RG transformation =  [[ 1.697  2.028  1.18   3.033  1.232  0.536]\n",
      " [ 0.623  1.213  1.019  2.527  1.343  0.365]\n",
      " [ 0.049 -0.319  0.256  0.513 -0.012  0.112]\n",
      " [-0.142 -0.027  0.075 -0.048  0.362 -0.071]\n",
      " [ 0.02   0.011  0.049  0.392  0.25  -0.054]\n",
      " [-0.554 -0.664  0.011 -0.847 -0.661  0.031]]\n",
      "eigenvalues are [ 1.909+0.j    -0.322+0.j    -0.062+0.j     0.906+0.j     0.485+0.072j\n",
      "  0.485-0.072j]\n",
      "eigenvalue amplitudes are [1.909 0.322 0.062 0.906 0.49  0.49 ]\n",
      "exponent y =  (0.9328143388375235+0j)\n",
      "linearized RG transformation =  [[ 1.7    2.021  1.12   2.937  1.156  0.544  0.976]\n",
      " [ 0.603  1.268  1.497  3.288  1.942  0.302  0.141]\n",
      " [ 0.055 -0.334  0.122  0.299 -0.18   0.13   0.019]\n",
      " [-0.143 -0.024  0.098 -0.011  0.392 -0.074  0.033]\n",
      " [ 0.022  0.005 -0.005  0.305  0.182 -0.047 -0.015]\n",
      " [-0.556 -0.658  0.069 -0.754 -0.588  0.024 -0.209]\n",
      " [ 0.02  -0.054 -0.47  -0.748 -0.589  0.062  0.427]]\n",
      "eigenvalues are [ 1.911+0.j    -0.338+0.j    -0.054+0.j     0.59 +0.317j  0.59 -0.317j\n",
      "  0.579+0.j     0.432+0.j   ]\n",
      "eigenvalue amplitudes are [1.911 0.338 0.054 0.67  0.67  0.579 0.432]\n",
      "exponent y =  (0.9339898266081127+0j)\n",
      "linearized RG transformation =  [[3.68]]\n",
      "eigenvalues are [3.68+0.j]\n",
      "eigenvalue amplitudes are [3.68]\n",
      "exponent y =  (1.8798389386539662+0j)\n",
      "linearized RG transformation =  [[ 4.059 11.107]\n",
      " [-0.112  0.349]]\n",
      "eigenvalues are [3.685+0.j 0.723+0.j]\n",
      "eigenvalue amplitudes are [3.685 0.723]\n",
      "exponent y =  (1.881578236161332+0j)\n",
      "linearized RG transformation =  [[ 4.05  11.126  9.495]\n",
      " [-0.044  0.213  0.579]\n",
      " [-0.067  0.134  0.103]]\n",
      "eigenvalues are [ 3.688+0.j  0.846+0.j -0.169+0.j]\n",
      "eigenvalue amplitudes are [3.688 0.846 0.169]\n",
      "exponent y =  (1.8829206744689602+0j)\n",
      "linearized RG transformation =  [[ 4.052 11.134  9.436  5.673]\n",
      " [-0.031  0.248  0.311 -0.034]\n",
      " [-0.061  0.15  -0.022 -0.085]\n",
      " [-0.04  -0.107  0.819  0.506]]\n",
      "eigenvalues are [ 3.687+0.j -0.133+0.j  0.741+0.j  0.488+0.j]\n",
      "eigenvalue amplitudes are [3.687 0.133 0.741 0.488]\n",
      "exponent y =  (1.8824945639468698+0j)\n",
      "y_t array =  [0.834+0.j 0.939+0.j 0.923+0.j 0.913+0.j 0.927+0.j 0.933+0.j 0.934+0.j]\n",
      "y_h array =  [1.88 +0.j 1.882+0.j 1.883+0.j 1.882+0.j]\n"
     ]
    }
   ],
   "source": [
    "MatA_even, MatC_even, MatA_odd, MatC_odd = RunMCRG(K,h)\n",
    "\n",
    "yt_arr = np.empty(7,dtype = complex);\n",
    "yh_arr = np.empty(4, dtype = complex);\n",
    "\n",
    "for i in np.arange(7):\n",
    "    yt_arr[i] = getExponent(MatA_even,MatC_even,i+1)\n",
    "\n",
    "for i in np.arange(4):\n",
    "    yh_arr[i] = getExponent(MatA_odd,MatC_odd,i+1)\n",
    "\n",
    "print(\"y_t array = \", yt_arr)\n",
    "print(\"y_h array = \", yh_arr)"
   ]
  },
  {
   "cell_type": "code",
   "execution_count": 55,
   "metadata": {},
   "outputs": [
    {
     "data": {
      "text/plain": [
       "[<matplotlib.lines.Line2D at 0x1e6133a7cc0>]"
      ]
     },
     "execution_count": 55,
     "metadata": {},
     "output_type": "execute_result"
    },
    {
     "data": {
      "image/png": "[encoded data removed]",
      "text/plain": [
       "<Figure size 432x288 with 1 Axes>"
      ]
     },
     "metadata": {
      "needs_background": "light"
     },
     "output_type": "display_data"
    }
   ],
   "source": [
    "plt.plot(energy)"
   ]
  },
  {
   "cell_type": "code",
   "execution_count": 56,
   "metadata": {},
   "outputs": [
    {
     "data": {
      "text/plain": [
       "[<matplotlib.lines.Line2D at 0x1e6134144a8>]"
      ]
     },
     "execution_count": 56,
     "metadata": {},
     "output_type": "execute_result"
    },
    {
     "data": {
      "image/png": "[encoded data removed]",
      "text/plain": [
       "<Figure size 432x288 with 1 Axes>"
      ]
     },
     "metadata": {
      "needs_background": "light"
     },
     "output_type": "display_data"
    }
   ],
   "source": [
    "plt.plot(clustersize)"
   ]
  },
  {
   "cell_type": "code",
   "execution_count": 43,
   "metadata": {},
   "outputs": [
    {
     "data": {
      "text/plain": [
       "0.54541015625"
      ]
     },
     "execution_count": 43,
     "metadata": {},
     "output_type": "execute_result"
    }
   ],
   "source": [
    "np.mean(clustersize[140:400-1])/Ns"
   ]
  },
  {
   "cell_type": "code",
   "execution_count": 52,
   "metadata": {
    "scrolled": true
   },
   "outputs": [
    {
     "name": "stdout",
     "output_type": "stream",
     "text": [
      "save data to file:data.out\n"
     ]
    }
   ],
   "source": [
    "filename = input('save data to file:')\n",
    "f = open(filename,'w')\n",
    "print(\"================== SETTINGS ==================\",file= f)\n",
    "print(\"L = \", L, \"\\n\",file = f)\n",
    "print(\"K = \", K, \"\\n\",file = f)\n",
    "print(\"h = \", h, \"\\n\",file = f)\n",
    "print(\"b = \", b, \"\\n\",file = f)\n",
    "print(\"nwarm = \", nwarm, \"\\n\",file = f)\n",
    "print(\"nmeas = \", nmeas, \"\\n\",file = f)\n",
    "print(\"interval = \", interval, \"\\n\",file = f)\n",
    "print(\"ndata = \", ndata, \"\\n\",file = f)\n",
    "print(\"================== RESULTS ===================\", file = f)\n",
    "print(\"avg cluster size = \",np.mean(clustersize)/Ns, \"\\n\",file = f)\n",
    "print(\"y_t array = \", yt_arr,\"\\n\",file = f)\n",
    "print(\"y_h array = \", yh_arr,\"\\n\",file = f)\n",
    "f.close()"
   ]
  },
  {
   "cell_type": "code",
   "execution_count": null,
   "metadata": {},
   "outputs": [],
   "source": []
  }
 ],
 "metadata": {
  "kernelspec": {
   "display_name": "Python 3",
   "language": "python",
   "name": "python3"
  },
  "language_info": {
   "codemirror_mode": {
    "name": "ipython",
    "version": 3
   },
   "file_extension": ".py",
   "mimetype": "text/x-python",
   "name": "python",
   "nbconvert_exporter": "python",
   "pygments_lexer": "ipython3",
   "version": "3.7.1"
  }
 },
 "nbformat": 4,
 "nbformat_minor": 2
}
