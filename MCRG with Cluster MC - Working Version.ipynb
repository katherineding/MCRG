{
 "cells": [
  {
   "cell_type": "markdown",
   "metadata": {},
   "source": [
    "# MCRG Code following Swendsen Description circa 1982, Using Wolff's Algorithm to combat critical slowing down"
   ]
  },
  {
   "cell_type": "code",
   "execution_count": 1,
   "metadata": {},
   "outputs": [],
   "source": [
    "from __future__ import division #safeguard against evil floor division\n",
    "\n",
    "import numpy as np\n",
    "from scipy import linalg as la\n",
    "import matplotlib.pyplot as plt\n",
    "import timeit\n",
    "%load_ext line_profiler\n",
    "\n",
    "np.set_printoptions(precision = 3,suppress=False)"
   ]
  },
  {
   "cell_type": "markdown",
   "metadata": {},
   "source": [
    "## 2D Ising Model, periodic B.C., initial Hamiltonian contains only nearest neighbor interactions"
   ]
  },
  {
   "cell_type": "markdown",
   "metadata": {},
   "source": [
    "$$\\mathcal{H} = -\\beta H_\\Omega = K\\sum_{\\langle i,j\\rangle} \\sigma_i \\sigma_j + h\\sum_{i = 0}^{N_s} \\sigma_i$$"
   ]
  },
  {
   "cell_type": "markdown",
   "metadata": {},
   "source": [
    "### Block spin transform, scale factor = b "
   ]
  },
  {
   "cell_type": "code",
   "execution_count": 2,
   "metadata": {},
   "outputs": [],
   "source": [
    "def assignBlockSpin(total):\n",
    "    '''Rule for assigning block spin value. Random tiebreaker'''\n",
    "    if total > 0:\n",
    "        s = 1;\n",
    "    elif total < 0:\n",
    "        s = -1;\n",
    "    else:\n",
    "        s = np.random.choice([-1,1])\n",
    "    return s"
   ]
  },
  {
   "cell_type": "code",
   "execution_count": 3,
   "metadata": {},
   "outputs": [],
   "source": [
    "def RGTransform(S,b):\n",
    "    '''Take a spin config S and produce renormalized block spin config that \n",
    "    groups b*b spins together into one block. Does not modify input S'''\n",
    "    L = S.shape[0];\n",
    "    assert L//b >= 2, \"Renormalized lattice will have linear dimension <=1\"\n",
    "    newS = np.empty([L//b, L//b],dtype=int)\n",
    "    for j in np.arange(L//b):\n",
    "        for i in np.arange(L//b):\n",
    "            block = S[(b*i):(b*i+b),(b*j):(b*j+b)]\n",
    "            total = np.sum(block)\n",
    "            newS[i,j] = assignBlockSpin(total);    \n",
    "    return newS"
   ]
  },
  {
   "cell_type": "markdown",
   "metadata": {},
   "source": [
    "### First 7 short range even couplings"
   ]
  },
  {
   "cell_type": "code",
   "execution_count": 4,
   "metadata": {},
   "outputs": [],
   "source": [
    "def N1Coupl(S):\n",
    "    '''for spin field config S, \n",
    "    measure sum SiSj for i,j that are nearest neighbors, dir = (1,0)'''\n",
    "    L = S.shape[0];\n",
    "    assert L >=2, \"Lattice too small for NN interaction\"\n",
    "    val = 0.0;\n",
    "    for j in np.arange(L):\n",
    "        for i in np.arange(L):\n",
    "            val += S[i,j]*(S[i,(j+1)%L] + S[(i+1)%L,j])\n",
    "    return val"
   ]
  },
  {
   "cell_type": "code",
   "execution_count": 5,
   "metadata": {},
   "outputs": [],
   "source": [
    "def N2Coupl(S):\n",
    "    '''for spin field config S, \n",
    "    measure sum SiSj for i,j that are next-nearest neighbors, dir = (1,1)'''\n",
    "    L = S.shape[0];\n",
    "    assert L >=2, \"Lattice too small for next nearest neighbor interaction\"\n",
    "    val = 0.0;\n",
    "    for j in np.arange(L):\n",
    "        for i in np.arange(L):\n",
    "            val += S[i,j]*(S[(i+1)%L,(j+1)%L] + S[(i-1)%L,(j+1)%L])\n",
    "    return val"
   ]
  },
  {
   "cell_type": "code",
   "execution_count": 6,
   "metadata": {},
   "outputs": [],
   "source": [
    "def N3Coupl(S):\n",
    "    '''for spin field config S, \n",
    "    measure sum SiSj for i,j that are third-nearest neighbors,dir = (2,0)'''\n",
    "    L = S.shape[0];\n",
    "    assert L >=3, \"Lattice too small for third nearest neighbor interaction\"\n",
    "    val = 0.0;\n",
    "    for j in np.arange(L):\n",
    "        for i in np.arange(L):\n",
    "            val += S[i,j]*(S[i,(j+2)%L] + S[(i+2)%L,j])\n",
    "    return val"
   ]
  },
  {
   "cell_type": "code",
   "execution_count": 7,
   "metadata": {},
   "outputs": [],
   "source": [
    "def N4Coupl(S):\n",
    "    '''for spin field config S, \n",
    "    measure sum SiSj for i,j that are 4th-nearest neighbors, dir = (2,1)'''\n",
    "    L = S.shape[0];\n",
    "    assert L >=3, \"Lattice too small for 4th nearest neighbor interaction\"\n",
    "    val = 0.0;\n",
    "    for j in np.arange(L):\n",
    "        for i in np.arange(L):\n",
    "            val += S[i,j]*(S[(i+1)%L,(j+2)%L] + S[(i+2)%L,(j+1)%L] \n",
    "                           +S[(i-1)%L,(j+2)%L] + S[(i-2)%L,(j+1)%L])\n",
    "    return val"
   ]
  },
  {
   "cell_type": "code",
   "execution_count": null,
   "metadata": {},
   "outputs": [],
   "source": [
    "def N5Coupl(S):\n",
    "    '''for spin field config S, \n",
    "    measure sum SiSj for i,j that are 5th-nearest neighbors,dir = (2,2)'''\n",
    "    L = S.shape[0];\n",
    "    assert L >=3, \"Lattice too small for third nearest neighbor interaction\"\n",
    "    val = 0.0;\n",
    "    for j in np.arange(L):\n",
    "        for i in np.arange(L):\n",
    "            val += S[i,j]*(S[(i+2)%L,(j+2)%L] + S[(i-2)%L,(j+2)%L])\n",
    "    return val"
   ]
  },
  {
   "cell_type": "code",
   "execution_count": null,
   "metadata": {},
   "outputs": [],
   "source": [
    "def PlaqCoupl(S):\n",
    "    '''for spin field config S, \n",
    "    measure sum SiSjSlSk for i,j,k,l that form 1 plaquette,'''\n",
    "    L = S.shape[0];\n",
    "    assert L >=2, \"Lattice too small to form plaquettes\"\n",
    "    val = 0.0;\n",
    "    for j in np.arange(L):\n",
    "        for i in np.arange(L):\n",
    "            val += S[i,j]*S[i,(j+1)%L]*S[(i+1)%L,(j+1)%L]*S[(i+1)%L,j]\n",
    "    return val"
   ]
  },
  {
   "cell_type": "code",
   "execution_count": null,
   "metadata": {},
   "outputs": [],
   "source": [
    "def SubPlaqCoupl(S):\n",
    "    '''for spin field config S, \n",
    "    measure sum SiSjSlSk for i,j,k,l that form 1 sublattice plaquette,'''\n",
    "    L = S.shape[0];\n",
    "    assert L >=3, \"Lattice too small to form sublattice plaquettes\"\n",
    "    val = 0.0;\n",
    "    for j in np.arange(L):\n",
    "        for i in np.arange(L):\n",
    "            val += S[(i+1)%L,j]*S[i,(j+1)%L]*S[(i-1)%L,j]*S[i,(j-1)%L]\n",
    "    return val"
   ]
  },
  {
   "cell_type": "code",
   "execution_count": null,
   "metadata": {},
   "outputs": [],
   "source": [
    "def AllEvenCoupling(S):\n",
    "    '''for spin field config S, \n",
    "    Integrate measurement of first 7 even correlation functions in one vector'''\n",
    "    L = S.shape[0];\n",
    "    assert L >=3, \"Lattice too small to fit first 7 even couplings\"\n",
    "    val = np.zeros(7,dtype = float);\n",
    "    for j in np.arange(L):\n",
    "        for i in np.arange(L):\n",
    "            val += [S[i,j]*(S[i,(j+1)%L] + S[(i+1)%L,j]), #nearest neighbor (1,0)\n",
    "                    S[i,j]*(S[(i+1)%L,(j+1)%L] + S[(i-1)%L,(j+1)%L]), #next nearest neighbor (1,1)\n",
    "                    S[i,j]*(S[i,(j+2)%L] + S[(i+2)%L,j]), #3rd nearest neighbor (2,0)\n",
    "                    S[i,j]*(S[(i+1)%L,(j+2)%L] + S[(i+2)%L,(j+1)%L] \n",
    "                            +S[(i-1)%L,(j+2)%L] + S[(i-2)%L,(j+1)%L]),#4th nearest neighbor (2,1)\n",
    "                    S[i,j]*(S[(i+2)%L,(j+2)%L] + S[(i-2)%L,(j+2)%L]),#5th nearest neighbor (2,2)\n",
    "                    S[i,j]*S[i,(j+1)%L]*S[(i+1)%L,(j+1)%L]*S[(i+1)%L,j], # plaquette\n",
    "                    S[(i+1)%L,j]*S[i,(j+1)%L]*S[(i-1)%L,j]*S[i,(j-1)%L]] # sublattice plaquette\n",
    "    return val"
   ]
  },
  {
   "cell_type": "markdown",
   "metadata": {},
   "source": [
    "### First 4 short range odd couplings"
   ]
  },
  {
   "cell_type": "code",
   "execution_count": null,
   "metadata": {},
   "outputs": [],
   "source": [
    "def Magnetization(S):\n",
    "    L = S.shape[0];\n",
    "    assert L >=1, \"Lattice linear dim < 1\"\n",
    "    val = np.sum(S);\n",
    "    return val"
   ]
  },
  {
   "cell_type": "code",
   "execution_count": null,
   "metadata": {},
   "outputs": [],
   "source": [
    "def TripletPlaq(S):\n",
    "    L = S.shape[0];\n",
    "    assert L >=2, \"Lattice too small to have 3 spins on a plaquette\"\n",
    "    val = 0.0;\n",
    "    for j in np.arange(L):\n",
    "        for i in np.arange(L):\n",
    "            val += S[i,j]*S[(i+1)%L,j]*S[(i+1)%L,(j+1)%L];\n",
    "            val += S[i,j]*S[i,(j+1)%L]*S[(i-1)%L,(j+1)%L];\n",
    "            val += S[i,j]*S[(i-1)%L,j]*S[(i-1)%L,(j-1)%L];\n",
    "            val += S[i,j]*S[i,(j-1)%L]*S[(i+1)%L,(j-1)%L];\n",
    "    return val"
   ]
  },
  {
   "cell_type": "code",
   "execution_count": null,
   "metadata": {},
   "outputs": [],
   "source": [
    "def TripletAngle(S):\n",
    "    L = S.shape[0];\n",
    "    assert L >=3, \"Lattice too small to have 3 spins at an angle\"\n",
    "    val = 0.0;\n",
    "    for j in np.arange(L):\n",
    "        for i in np.arange(L):\n",
    "            val += S[i,j]*S[(i+1)%L,j]*S[(i+2)%L,(j+1)%L];\n",
    "            val += S[i,j]*S[i,(j+1)%L]*S[(i-1)%L,(j+2)%L];\n",
    "            val += S[i,j]*S[(i-1)%L,j]*S[(i-2)%L,(j-1)%L];\n",
    "            val += S[i,j]*S[i,(j-1)%L]*S[(i+1)%L,(j-2)%L];\n",
    "    return val"
   ]
  },
  {
   "cell_type": "code",
   "execution_count": null,
   "metadata": {},
   "outputs": [],
   "source": [
    "def TripletRow(S):\n",
    "    L = S.shape[0];\n",
    "    assert L >=3, \"Lattice too small have 3 spins in a row\"\n",
    "    val = 0.0;\n",
    "    for j in np.arange(L):\n",
    "        for i in np.arange(L):\n",
    "            val += S[i,j]*(S[(i+1)%L,j]*S[(i+2)%L,j] \\\n",
    "                           + S[i,(j+1)%L]*S[i,(j+2)%L])\n",
    "    return val"
   ]
  },
  {
   "cell_type": "code",
   "execution_count": null,
   "metadata": {},
   "outputs": [],
   "source": [
    "def AllOddCoupling(S):\n",
    "    L = S.shape[0];\n",
    "    assert L >=3, \"Lattice too small to fit first 4 odd couplings\"\n",
    "    val = np.zeros(4,dtype = float);\n",
    "    for j in np.arange(L):\n",
    "        for i in np.arange(L):\n",
    "            val += [0, #magnetization\n",
    "                    S[i,j]*S[(i+1)%L,j]*S[(i+1)%L,(j+1)%L]+\n",
    "                    S[i,j]*S[i,(j+1)%L]*S[(i-1)%L,(j+1)%L]+\n",
    "                    S[i,j]*S[(i-1)%L,j]*S[(i-1)%L,(j-1)%L]+\n",
    "                    S[i,j]*S[i,(j-1)%L]*S[(i+1)%L,(j-1)%L], #3 spin plaquette\n",
    "                    S[i,j]*S[(i+1)%L,j]*S[(i+2)%L,(j+1)%L]+\n",
    "                    S[i,j]*S[i,(j+1)%L]*S[(i-1)%L,(j+2)%L]+\n",
    "                    S[i,j]*S[(i-1)%L,j]*S[(i-2)%L,(j-1)%L]+\n",
    "                    S[i,j]*S[i,(j-1)%L]*S[(i+1)%L,(j-2)%L], # 3 spin angle\n",
    "                    S[i,j]*(S[(i+1)%L,j]*S[(i+2)%L,j] + \n",
    "                            S[i,(j+1)%L]*S[i,(j+2)%L])] #3 spin row\n",
    "    val[0] = np.sum(S);\n",
    "    return val"
   ]
  },
  {
   "cell_type": "markdown",
   "metadata": {},
   "source": [
    "### Clustering for Wolff Algorithm"
   ]
  },
  {
   "cell_type": "code",
   "execution_count": null,
   "metadata": {},
   "outputs": [],
   "source": [
    "def NNBonds(p):\n",
    "    '''returns set of bonds that connect site p to its 4 nearest neighbors'''\n",
    "    i = p[0]; j = p[1];\n",
    "    nbrs = [(i,(j+1)%L),(i,(j-1)%L),((i+1)%L,j),((i-1)%L,j)]\n",
    "    bonds = set();\n",
    "    for n in nbrs:\n",
    "        bonds.add(frozenset({p,n}))\n",
    "    return bonds"
   ]
  },
  {
   "cell_type": "code",
   "execution_count": null,
   "metadata": {},
   "outputs": [],
   "source": [
    "def buildCluster(S):\n",
    "    ''''Build Wolff cluster starting from random site for spin configuration S'''\n",
    "    #random seed location\n",
    "    L = S.shape[0];\n",
    "    init = (np.random.choice(L),np.random.choice(L))\n",
    "    Si = S[init[0],init[1]]\n",
    "    \n",
    "    #cluster starts with 1 element\n",
    "    cluster = {init}\n",
    "    \n",
    "    #nearest neighbors make up the frontier\n",
    "    bonds = NNBonds(init)\n",
    "    \n",
    "    #set of points already considered for adding to cluster\n",
    "    checked = set();\n",
    "    \n",
    "    #while the set of fresh bonds is nonempty, do...\n",
    "    while (len(bonds) > 0):\n",
    "        if len(cluster) == Ns:\n",
    "            break;\n",
    "        #take out one bond in fresh bond set\n",
    "        #frozenset ijbond represent unordered edge (i,j)\n",
    "        ijbond = bonds.pop() \n",
    "        #add to list of bonds that have been checked\n",
    "        checked.add(ijbond)\n",
    "        #pick out element j from edge (i,j)\n",
    "        jwrap = ijbond - cluster \n",
    "        #both i and j may already be in cluster, in this case skip to next iteration\n",
    "        if len(jwrap) == 0:\n",
    "            continue;\n",
    "        #otherwise, only i in cluster already, we are left with j\n",
    "        j = set(jwrap).pop() #convert to usable form\n",
    "        Sj = S[j[0],j[1]]\n",
    "        #if parallel to seed spin, activate bond with probability Pij\n",
    "        if Sj == Si:\n",
    "            r = np.random.random()\n",
    "            if r < Pij:\n",
    "                #add j to cluster, add nearest bonds of j to the fresh bond list\n",
    "                #also remove bonds already considered from the fresh bond list\n",
    "                cluster.add(j) \n",
    "                bonds |= NNBonds(j) \n",
    "                bonds -= checked \n",
    "    return cluster"
   ]
  },
  {
   "cell_type": "markdown",
   "metadata": {},
   "source": [
    "### Integrated MC + RG simulation function"
   ]
  },
  {
   "cell_type": "code",
   "execution_count": null,
   "metadata": {},
   "outputs": [],
   "source": [
    "def Energy(S):\n",
    "    '''Brute force Find energy of spin configuration S for sanity check'''\n",
    "    L = S.shape[0];\n",
    "    E = 0;\n",
    "    for i in np.arange(L):\n",
    "        for j in np.arange(L):\n",
    "            E += K*S[i,j]*(S[i,(j+1)%L] + S[(i+1)%L,j])\n",
    "    E += h*np.sum(S)\n",
    "    return E"
   ]
  },
  {
   "cell_type": "code",
   "execution_count": null,
   "metadata": {},
   "outputs": [],
   "source": [
    "def RunMCRG(K,h):\n",
    "    '''Run MCRG simulation to find y_t exponent, keeping Nc coupling terms'''\n",
    "    print('running MCRG for linear size',L,'lattice.')\n",
    "    print('Setting K =', K, \" and h = \",h)\n",
    "    \n",
    "    #measurement accumulators for y_t\n",
    "    evenK = np.zeros(7,dtype = float)\n",
    "    evenK_1 = np.zeros(7,dtype = float)\n",
    "    mix_11 = np.zeros((7,7),dtype=float)\n",
    "    mix_01 = np.zeros((7,7),dtype=float)\n",
    "    #measurement accumulators for y_h\n",
    "    oddK = np.zeros(4,dtype = float)\n",
    "    oddK_1 = np.zeros(4,dtype = float)\n",
    "    mix_11_odd = np.zeros((4,4),dtype=float)\n",
    "    mix_01_odd = np.zeros((4,4),dtype=float)\n",
    "    \n",
    "    #Run simulation\n",
    "    k = 0;\n",
    "    for n in np.arange(nmeas+nwarm):\n",
    "        # Every MC n-loop, build a Wolff cluster and flip it\n",
    "        # Result: A S-field config drawn with probability propto Boltzmann weight\n",
    "        cluster = buildCluster(S)\n",
    "        for p in cluster:\n",
    "            S[p[0],p[1]] = -S[p[0],p[1]]\n",
    "            \n",
    "        #Sanity checks\n",
    "        if n % interval == 0:\n",
    "            energy[k] = Energy(S);\n",
    "            clustersize[k] = len(cluster);\n",
    "            k = k+1   \n",
    "            \n",
    "        # take measurements every (interval) steps if finished warmup\n",
    "        if n % interval == 0 and n >= nwarm:\n",
    "            S1 = RGTransform(S,b);\n",
    "            evenK += AllEvenCoupling(S)\n",
    "            evenK_1 += AllEvenCoupling(S1)\n",
    "            oddK += AllOddCoupling(S)\n",
    "            oddK_1 += AllOddCoupling(S1)\n",
    "            #A*B = C, B is unknown, A is symmetric\n",
    "            #Problem: C is not symmetric!?\n",
    "            mix_11 += np.outer(AllEvenCoupling(S1),AllEvenCoupling(S1))\n",
    "            mix_01 += np.outer(AllEvenCoupling(S1),AllEvenCoupling(S))\n",
    "            mix_11_odd += np.outer(AllOddCoupling(S1),AllOddCoupling(S1))\n",
    "            mix_01_odd += np.outer(AllOddCoupling(S1),AllOddCoupling(S))\n",
    "                       \n",
    "    #Results\n",
    "    evenK /= ndata; evenK_1 /= ndata; mix_11 /= ndata; mix_01 /= ndata;\n",
    "    oddK /= ndata; oddK_1 /= ndata; mix_11_odd /= ndata; mix_01_odd /= ndata;\n",
    "    print('evenK = ',evenK)\n",
    "    print('evenK_1 = ', evenK_1)\n",
    "    print('mix_11 = ', mix_11)\n",
    "    print('subtract ',np.outer(evenK_1[0:Nc_even],evenK_1[0:Nc_even]))\n",
    "    print('mix_01 = ', mix_01)\n",
    "    print('subtract ',np.outer(evenK_1[0:Nc_even],evenK[0:Nc_even]))\n",
    "    MatA = mix_11-np.outer(evenK_1,evenK_1)\n",
    "    MatC = mix_01-np.outer(evenK_1,evenK)\n",
    "    #print('MatA (lhs) = ',MatA)\n",
    "    #print('MatC (rhs) = ',MatC)\n",
    "    LinRGMat = la.solve(MatA[0:Nc_even,0:Nc_even],MatC[0:Nc_even,0:Nc_even])\n",
    "    print('linearized RG transformation = ',LinRGMat)\n",
    "    lmbd = la.eigvals(LinRGMat);\n",
    "    print('eigenvalues are',lmbd)\n",
    "    amplitude = np.absolute(lmbd)\n",
    "    print('eigenvalue amplitudes are',amplitude)\n",
    "    #Only the eigenvalue with maximum amplitude is important.\n",
    "    #This eigenvalue should generically be real\n",
    "    imax = np.argmax(amplitude)\n",
    "    y_t = np.log(lmbd[imax])/np.log(b)\n",
    "    print('exponent y_t = ',y_t,'\\n')\n",
    "    \n",
    "    print('oddK = ',oddK)\n",
    "    print('oddK_1 = ', oddK_1)\n",
    "    print('mix_11 = ', mix_11_odd)\n",
    "    print('subtract ', np.outer(oddK_1,oddK_1))\n",
    "    print('mix_01 = ', mix_01_odd)\n",
    "    print('subtract ', np.outer(oddK_1,oddK))\n",
    "    #TODO: cancellation bad, how to avoid?\n",
    "    MatA = mix_11_odd-np.outer(oddK_1,oddK_1)\n",
    "    MatC = mix_01_odd-np.outer(oddK_1,oddK)\n",
    "    #print('MatA (lhs) = ',MatA)\n",
    "    #print('MatC (rhs) = ',MatC)\n",
    "    LinRGMat = la.solve(MatA[0:Nc_odd,0:Nc_odd],MatC[0:Nc_odd,0:Nc_odd])\n",
    "    print('linearized RG transformation = ',LinRGMat)\n",
    "    lmbd = la.eigvals(LinRGMat);\n",
    "    print('eigenvalues are',lmbd)\n",
    "    amplitude = np.absolute(lmbd)\n",
    "    print('eigenvalue amplitudes are',amplitude)\n",
    "    #Only the eigenvalue with maximum amplitude is important.\n",
    "    #This eigenvalue should generically be real\n",
    "    imax = np.argmax(amplitude)\n",
    "    y_h = np.log(lmbd[imax])/np.log(b)\n",
    "    plt.figure();\n",
    "    plt.imshow(S);plt.colorbar();\n",
    "    print('exponent y_h = ',y_h)\n",
    "    \n",
    "    return y_t,y_h"
   ]
  },
  {
   "cell_type": "markdown",
   "metadata": {},
   "source": [
    "## Test for specific set of input parameters"
   ]
  },
  {
   "cell_type": "code",
   "execution_count": null,
   "metadata": {
    "scrolled": true
   },
   "outputs": [
    {
     "data": {
      "text/plain": [
       "<matplotlib.colorbar.Colorbar at 0x1e611ae1588>"
      ]
     },
     "execution_count": 21,
     "metadata": {},
     "output_type": "execute_result"
    },
    {
     "data": {
      "image/png": "[encoded data removed]",
      "text/plain": [
       "<Figure size 432x288 with 2 Axes>"
      ]
     },
     "metadata": {
      "needs_background": "light"
     },
     "output_type": "display_data"
    }
   ],
   "source": [
    "# Input Parameters\n",
    "L = 64; #linear dimension of square lattice\n",
    "Kc = np.arccosh(3)/4; # Critical temperature Kc assumed to be known\n",
    "K = Kc; h = 0; #Start on Critical manifold\n",
    "Pij = 1-np.exp(-2*K) # Wolff add probability\n",
    "nwarm = 1000; #number of warm up Monte Carlo sweeps.\n",
    "nmeas = 1000; #number of measurement Monte Carlo sweeps.\n",
    "interval = 5; # Take data for correlation functions every (interval) MC-steps/site\n",
    "# RG analysis setting\n",
    "Nc_even = 1; #number of coupling constants included in calculating T\n",
    "Nc_odd = 1;\n",
    "b = 2; #scaling factor\n",
    "\n",
    "# Derived constants\n",
    "Ns = L*L; #total number of grid points\n",
    "ndata = nmeas//interval\n",
    "energy = np.zeros((nmeas+nwarm)//interval,dtype=float)\n",
    "clustersize = np.zeros((nmeas+nwarm)//interval,dtype=int)\n",
    "\n",
    "#Initialize 2d spin field\n",
    "S = np.random.choice([-1,1],(L,L))\n",
    "#S = np.ones((L,L),dtype=int)\n",
    "plt.imshow(S);plt.colorbar()"
   ]
  },
  {
   "cell_type": "code",
   "execution_count": null,
   "metadata": {},
   "outputs": [
    {
     "name": "stdout",
     "output_type": "stream",
     "text": [
      "running MCRG for linear size 64 lattice.\n",
      "Setting K = 0.4406867935097715  and h =  0\n"
     ]
    }
   ],
   "source": [
    "RunMCRG(K,h)"
   ]
  },
  {
   "cell_type": "code",
   "execution_count": null,
   "metadata": {},
   "outputs": [],
   "source": [
    "plt.plot(energy)"
   ]
  },
  {
   "cell_type": "code",
   "execution_count": null,
   "metadata": {},
   "outputs": [],
   "source": [
    "plt.plot(clustersize)"
   ]
  },
  {
   "cell_type": "code",
   "execution_count": null,
   "metadata": {},
   "outputs": [],
   "source": [
    "np.mean(clustersize[140:400-1])/Ns"
   ]
  },
  {
   "cell_type": "code",
   "execution_count": null,
   "metadata": {},
   "outputs": [],
   "source": []
  }
 ],
 "metadata": {
  "kernelspec": {
   "display_name": "Python 3",
   "language": "python",
   "name": "python3"
  },
  "language_info": {
   "codemirror_mode": {
    "name": "ipython",
    "version": 3
   },
   "file_extension": ".py",
   "mimetype": "text/x-python",
   "name": "python",
   "nbconvert_exporter": "python",
   "pygments_lexer": "ipython3",
   "version": "3.7.1"
  }
 },
 "nbformat": 4,
 "nbformat_minor": 2
}
