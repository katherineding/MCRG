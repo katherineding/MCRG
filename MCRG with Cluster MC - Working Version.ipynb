{
 "cells": [
  {
   "cell_type": "markdown",
   "metadata": {},
   "source": [
    "# MCRG Code following Swendsen Description circa 1982, Using Wolff's Algorithm to combat critical slowing down"
   ]
  },
  {
   "cell_type": "code",
   "execution_count": 1,
   "metadata": {},
   "outputs": [],
   "source": [
    "from __future__ import division #safeguard against evil floor division\n",
    "\n",
    "import numpy as np\n",
    "from scipy import linalg as la\n",
    "import matplotlib.pyplot as plt\n",
    "import timeit\n",
    "%load_ext line_profiler\n",
    "\n",
    "np.set_printoptions(precision = 3,suppress=False)"
   ]
  },
  {
   "cell_type": "markdown",
   "metadata": {},
   "source": [
    "## 2D Ising Model, periodic B.C., initial Hamiltonian contains only nearest neighbor interactions"
   ]
  },
  {
   "cell_type": "markdown",
   "metadata": {},
   "source": [
    "$$\\mathcal{H} = -\\beta H_\\Omega = K\\sum_{\\langle i,j\\rangle} \\sigma_i \\sigma_j + h\\sum_{i = 0}^{N_s} \\sigma_i$$"
   ]
  },
  {
   "cell_type": "markdown",
   "metadata": {},
   "source": [
    "### Block spin transform, scale factor = b "
   ]
  },
  {
   "cell_type": "code",
   "execution_count": 2,
   "metadata": {},
   "outputs": [],
   "source": [
    "def assignBlockSpin(total):\n",
    "    '''Rule for assigning block spin value. Random tiebreaker'''\n",
    "    if total > 0:\n",
    "        s = 1;\n",
    "    elif total < 0:\n",
    "        s = -1;\n",
    "    else:\n",
    "        s = np.random.choice([-1,1])\n",
    "    return s"
   ]
  },
  {
   "cell_type": "code",
   "execution_count": 3,
   "metadata": {},
   "outputs": [],
   "source": [
    "def RGTransform(S,b):\n",
    "    '''Take a spin config S and produce renormalized block spin config that \n",
    "    groups b*b spins together into one block. Does not modify input S'''\n",
    "    L = S.shape[0];\n",
    "    assert L//b >= 2, \"Renormalized lattice will have linear dimension <=1\"\n",
    "    newS = np.empty([L//b, L//b],dtype=int)\n",
    "    for j in np.arange(L//b):\n",
    "        for i in np.arange(L//b):\n",
    "            block = S[(b*i):(b*i+b),(b*j):(b*j+b)]\n",
    "            total = np.sum(block)\n",
    "            newS[i,j] = assignBlockSpin(total);    \n",
    "    return newS"
   ]
  },
  {
   "cell_type": "markdown",
   "metadata": {},
   "source": [
    "### First 7 short range even couplings"
   ]
  },
  {
   "cell_type": "code",
   "execution_count": 4,
   "metadata": {},
   "outputs": [],
   "source": [
    "def N1Coupl(S):\n",
    "    '''for spin field config S, \n",
    "    measure sum SiSj for i,j that are nearest neighbors, dir = (1,0)'''\n",
    "    L = S.shape[0];\n",
    "    assert L >=2, \"Lattice too small for NN interaction\"\n",
    "    val = 0.0;\n",
    "    for j in np.arange(L):\n",
    "        for i in np.arange(L):\n",
    "            val += S[i,j]*(S[i,(j+1)%L] + S[(i+1)%L,j])\n",
    "    return val"
   ]
  },
  {
   "cell_type": "code",
   "execution_count": 5,
   "metadata": {},
   "outputs": [],
   "source": [
    "def N2Coupl(S):\n",
    "    '''for spin field config S, \n",
    "    measure sum SiSj for i,j that are next-nearest neighbors, dir = (1,1)'''\n",
    "    L = S.shape[0];\n",
    "    assert L >=2, \"Lattice too small for next nearest neighbor interaction\"\n",
    "    val = 0.0;\n",
    "    for j in np.arange(L):\n",
    "        for i in np.arange(L):\n",
    "            val += S[i,j]*(S[(i+1)%L,(j+1)%L] + S[(i-1)%L,(j+1)%L])\n",
    "    return val"
   ]
  },
  {
   "cell_type": "code",
   "execution_count": 6,
   "metadata": {},
   "outputs": [],
   "source": [
    "def N3Coupl(S):\n",
    "    '''for spin field config S, \n",
    "    measure sum SiSj for i,j that are third-nearest neighbors,dir = (2,0)'''\n",
    "    L = S.shape[0];\n",
    "    assert L >=3, \"Lattice too small for third nearest neighbor interaction\"\n",
    "    val = 0.0;\n",
    "    for j in np.arange(L):\n",
    "        for i in np.arange(L):\n",
    "            val += S[i,j]*(S[i,(j+2)%L] + S[(i+2)%L,j])\n",
    "    return val"
   ]
  },
  {
   "cell_type": "code",
   "execution_count": 7,
   "metadata": {},
   "outputs": [],
   "source": [
    "def N4Coupl(S):\n",
    "    '''for spin field config S, \n",
    "    measure sum SiSj for i,j that are 4th-nearest neighbors, dir = (2,1)'''\n",
    "    L = S.shape[0];\n",
    "    assert L >=3, \"Lattice too small for 4th nearest neighbor interaction\"\n",
    "    val = 0.0;\n",
    "    for j in np.arange(L):\n",
    "        for i in np.arange(L):\n",
    "            val += S[i,j]*(S[(i+1)%L,(j+2)%L] + S[(i+2)%L,(j+1)%L] \n",
    "                           +S[(i-1)%L,(j+2)%L] + S[(i-2)%L,(j+1)%L])\n",
    "    return val"
   ]
  },
  {
   "cell_type": "code",
   "execution_count": 8,
   "metadata": {},
   "outputs": [],
   "source": [
    "def N5Coupl(S):\n",
    "    '''for spin field config S, \n",
    "    measure sum SiSj for i,j that are 5th-nearest neighbors,dir = (2,2)'''\n",
    "    L = S.shape[0];\n",
    "    assert L >=3, \"Lattice too small for third nearest neighbor interaction\"\n",
    "    val = 0.0;\n",
    "    for j in np.arange(L):\n",
    "        for i in np.arange(L):\n",
    "            val += S[i,j]*(S[(i+2)%L,(j+2)%L] + S[(i-2)%L,(j+2)%L])\n",
    "    return val"
   ]
  },
  {
   "cell_type": "code",
   "execution_count": 9,
   "metadata": {},
   "outputs": [],
   "source": [
    "def PlaqCoupl(S):\n",
    "    '''for spin field config S, \n",
    "    measure sum SiSjSlSk for i,j,k,l that form 1 plaquette,'''\n",
    "    L = S.shape[0];\n",
    "    assert L >=2, \"Lattice too small to form plaquettes\"\n",
    "    val = 0.0;\n",
    "    for j in np.arange(L):\n",
    "        for i in np.arange(L):\n",
    "            val += S[i,j]*S[i,(j+1)%L]*S[(i+1)%L,(j+1)%L]*S[(i+1)%L,j]\n",
    "    return val"
   ]
  },
  {
   "cell_type": "code",
   "execution_count": 10,
   "metadata": {},
   "outputs": [],
   "source": [
    "def SubPlaqCoupl(S):\n",
    "    '''for spin field config S, \n",
    "    measure sum SiSjSlSk for i,j,k,l that form 1 sublattice plaquette,'''\n",
    "    L = S.shape[0];\n",
    "    assert L >=3, \"Lattice too small to form sublattice plaquettes\"\n",
    "    val = 0.0;\n",
    "    for j in np.arange(L):\n",
    "        for i in np.arange(L):\n",
    "            val += S[(i+1)%L,j]*S[i,(j+1)%L]*S[(i-1)%L,j]*S[i,(j-1)%L]\n",
    "    return val"
   ]
  },
  {
   "cell_type": "code",
   "execution_count": 67,
   "metadata": {},
   "outputs": [],
   "source": [
    "def AllEvenCoupling(S):\n",
    "    '''for spin field config S, \n",
    "    Integrate measurement of first 7 even correlation functions in one vector'''\n",
    "    L = S.shape[0];\n",
    "    assert L >=3, \"Lattice too small to fit first 7 even couplings\"\n",
    "    val = np.zeros(7,dtype = float);\n",
    "    for j in np.arange(L):\n",
    "        for i in np.arange(L):\n",
    "            val += [S[i,j]*(S[i,(j+1)%L] + S[(i+1)%L,j]), #nearest neighbor (1,0)\n",
    "                    S[i,j]*(S[(i+1)%L,(j+1)%L] + S[(i-1)%L,(j+1)%L]), #next nearest neighbor (1,1)\n",
    "                    S[i,j]*S[i,(j+1)%L]*S[(i+1)%L,(j+1)%L]*S[(i+1)%L,j], # plaquette\n",
    "                    S[i,j]*(S[i,(j+2)%L] + S[(i+2)%L,j]), #3rd nearest neighbor (2,0)\n",
    "                    S[i,j]*(S[(i+1)%L,(j+2)%L] + S[(i+2)%L,(j+1)%L] \n",
    "                            +S[(i-1)%L,(j+2)%L] + S[(i-2)%L,(j+1)%L]),#4th nearest neighbor (2,1)\n",
    "                    S[(i+1)%L,j]*S[i,(j+1)%L]*S[(i-1)%L,j]*S[i,(j-1)%L], # sublattice plaquette\n",
    "                    S[i,j]*(S[(i+2)%L,(j+2)%L] + S[(i-2)%L,(j+2)%L])]#5th nearest neighbor (2,2)\n",
    "    return val"
   ]
  },
  {
   "cell_type": "markdown",
   "metadata": {},
   "source": [
    "### First 4 short range odd couplings"
   ]
  },
  {
   "cell_type": "code",
   "execution_count": 12,
   "metadata": {},
   "outputs": [],
   "source": [
    "def Magnetization(S):\n",
    "    L = S.shape[0];\n",
    "    assert L >=1, \"Lattice linear dim < 1\"\n",
    "    val = np.sum(S);\n",
    "    return val"
   ]
  },
  {
   "cell_type": "code",
   "execution_count": 13,
   "metadata": {},
   "outputs": [],
   "source": [
    "def TripletPlaq(S):\n",
    "    L = S.shape[0];\n",
    "    assert L >=2, \"Lattice too small to have 3 spins on a plaquette\"\n",
    "    val = 0.0;\n",
    "    for j in np.arange(L):\n",
    "        for i in np.arange(L):\n",
    "            val += S[i,j]*S[(i+1)%L,j]*S[(i+1)%L,(j+1)%L];\n",
    "            val += S[i,j]*S[i,(j+1)%L]*S[(i-1)%L,(j+1)%L];\n",
    "            val += S[i,j]*S[(i-1)%L,j]*S[(i-1)%L,(j-1)%L];\n",
    "            val += S[i,j]*S[i,(j-1)%L]*S[(i+1)%L,(j-1)%L];\n",
    "    return val"
   ]
  },
  {
   "cell_type": "code",
   "execution_count": 14,
   "metadata": {},
   "outputs": [],
   "source": [
    "def TripletAngle(S):\n",
    "    L = S.shape[0];\n",
    "    assert L >=3, \"Lattice too small to have 3 spins at an angle\"\n",
    "    val = 0.0;\n",
    "    for j in np.arange(L):\n",
    "        for i in np.arange(L):\n",
    "            val += S[i,j]*S[(i+1)%L,j]*S[(i+2)%L,(j+1)%L];\n",
    "            val += S[i,j]*S[i,(j+1)%L]*S[(i-1)%L,(j+2)%L];\n",
    "            val += S[i,j]*S[(i-1)%L,j]*S[(i-2)%L,(j-1)%L];\n",
    "            val += S[i,j]*S[i,(j-1)%L]*S[(i+1)%L,(j-2)%L];\n",
    "    return val"
   ]
  },
  {
   "cell_type": "code",
   "execution_count": 15,
   "metadata": {},
   "outputs": [],
   "source": [
    "def TripletRow(S):\n",
    "    L = S.shape[0];\n",
    "    assert L >=3, \"Lattice too small have 3 spins in a row\"\n",
    "    val = 0.0;\n",
    "    for j in np.arange(L):\n",
    "        for i in np.arange(L):\n",
    "            val += S[i,j]*(S[(i+1)%L,j]*S[(i+2)%L,j] \\\n",
    "                           + S[i,(j+1)%L]*S[i,(j+2)%L])\n",
    "    return val"
   ]
  },
  {
   "cell_type": "code",
   "execution_count": 16,
   "metadata": {},
   "outputs": [],
   "source": [
    "def AllOddCoupling(S):\n",
    "    L = S.shape[0];\n",
    "    assert L >=3, \"Lattice too small to fit first 4 odd couplings\"\n",
    "    val = np.zeros(4,dtype = float);\n",
    "    for j in np.arange(L):\n",
    "        for i in np.arange(L):\n",
    "            val += [0, #magnetization\n",
    "                    S[i,j]*S[(i+1)%L,j]*S[(i+1)%L,(j+1)%L]+\n",
    "                    S[i,j]*S[i,(j+1)%L]*S[(i-1)%L,(j+1)%L]+\n",
    "                    S[i,j]*S[(i-1)%L,j]*S[(i-1)%L,(j-1)%L]+\n",
    "                    S[i,j]*S[i,(j-1)%L]*S[(i+1)%L,(j-1)%L], #3 spin plaquette\n",
    "                    S[i,j]*S[(i+1)%L,j]*S[(i+2)%L,(j+1)%L]+\n",
    "                    S[i,j]*S[i,(j+1)%L]*S[(i-1)%L,(j+2)%L]+\n",
    "                    S[i,j]*S[(i-1)%L,j]*S[(i-2)%L,(j-1)%L]+\n",
    "                    S[i,j]*S[i,(j-1)%L]*S[(i+1)%L,(j-2)%L], # 3 spin angle\n",
    "                    S[i,j]*(S[(i+1)%L,j]*S[(i+2)%L,j] + \n",
    "                            S[i,(j+1)%L]*S[i,(j+2)%L])] #3 spin row\n",
    "    val[0] = np.sum(S);\n",
    "    return val"
   ]
  },
  {
   "cell_type": "markdown",
   "metadata": {},
   "source": [
    "### Clustering for Wolff Algorithm"
   ]
  },
  {
   "cell_type": "code",
   "execution_count": 17,
   "metadata": {},
   "outputs": [],
   "source": [
    "def NNBonds(p):\n",
    "    '''returns set of bonds that connect site p to its 4 nearest neighbors'''\n",
    "    i = p[0]; j = p[1];\n",
    "    nbrs = [(i,(j+1)%L),(i,(j-1)%L),((i+1)%L,j),((i-1)%L,j)]\n",
    "    bonds = set();\n",
    "    for n in nbrs:\n",
    "        bonds.add(frozenset({p,n}))\n",
    "    return bonds"
   ]
  },
  {
   "cell_type": "code",
   "execution_count": 18,
   "metadata": {},
   "outputs": [],
   "source": [
    "def buildCluster(S):\n",
    "    ''''Build Wolff cluster starting from random site for spin configuration S'''\n",
    "    #random seed location\n",
    "    L = S.shape[0];\n",
    "    init = (np.random.choice(L),np.random.choice(L))\n",
    "    Si = S[init[0],init[1]]\n",
    "    \n",
    "    #cluster starts with 1 element\n",
    "    cluster = {init}\n",
    "    \n",
    "    #nearest neighbors make up the frontier\n",
    "    bonds = NNBonds(init)\n",
    "    \n",
    "    #set of points already considered for adding to cluster\n",
    "    checked = set();\n",
    "    \n",
    "    #while the set of fresh bonds is nonempty, do...\n",
    "    while (len(bonds) > 0):\n",
    "        if len(cluster) == Ns:\n",
    "            break;\n",
    "        #take out one bond in fresh bond set\n",
    "        #frozenset ijbond represent unordered edge (i,j)\n",
    "        ijbond = bonds.pop() \n",
    "        #add to list of bonds that have been checked\n",
    "        checked.add(ijbond)\n",
    "        #pick out element j from edge (i,j)\n",
    "        jwrap = ijbond - cluster \n",
    "        #both i and j may already be in cluster, in this case skip to next iteration\n",
    "        if len(jwrap) == 0:\n",
    "            continue;\n",
    "        #otherwise, only i in cluster already, we are left with j\n",
    "        j = set(jwrap).pop() #convert to usable form\n",
    "        Sj = S[j[0],j[1]]\n",
    "        #if parallel to seed spin, activate bond with probability Pij\n",
    "        if Sj == Si:\n",
    "            r = np.random.random()\n",
    "            if r < Pij:\n",
    "                #add j to cluster, add nearest bonds of j to the fresh bond list\n",
    "                #also remove bonds already considered from the fresh bond list\n",
    "                cluster.add(j) \n",
    "                bonds |= NNBonds(j) \n",
    "                bonds -= checked \n",
    "    return cluster"
   ]
  },
  {
   "cell_type": "markdown",
   "metadata": {},
   "source": [
    "### Integrated MC + RG simulation function"
   ]
  },
  {
   "cell_type": "code",
   "execution_count": 19,
   "metadata": {},
   "outputs": [],
   "source": [
    "def Energy(S):\n",
    "    '''Brute force Find energy of spin configuration S for sanity check'''\n",
    "    L = S.shape[0];\n",
    "    E = 0;\n",
    "    for i in np.arange(L):\n",
    "        for j in np.arange(L):\n",
    "            E += K*S[i,j]*(S[i,(j+1)%L] + S[(i+1)%L,j])\n",
    "    E += h*np.sum(S)\n",
    "    return E"
   ]
  },
  {
   "cell_type": "code",
   "execution_count": 33,
   "metadata": {},
   "outputs": [],
   "source": [
    "def RunMCRG(K,h):\n",
    "    '''Run MCRG simulation to find y_t, y_h exponent, \n",
    "    keeping Nc_even and Nc_odd coupling terms'''\n",
    "    print('running MCRG for linear size',L,'lattice.')\n",
    "    print('Setting K =', K, \" and h = \",h)\n",
    "\n",
    "    #measurement accumulators for y_t\n",
    "    evenK = np.zeros(7,dtype = float)\n",
    "    evenK_1 = np.zeros(7,dtype = float)\n",
    "    mix_11 = np.zeros((7,7),dtype=float)\n",
    "    mix_01 = np.zeros((7,7),dtype=float)\n",
    "    #measurement accumulators for y_h\n",
    "    oddK = np.zeros(4,dtype = float)\n",
    "    oddK_1 = np.zeros(4,dtype = float)\n",
    "    mix_11_odd = np.zeros((4,4),dtype=float)\n",
    "    mix_01_odd = np.zeros((4,4),dtype=float)\n",
    "    \n",
    "    #Run simulation\n",
    "    k = 0;\n",
    "    for n in np.arange(nmeas+nwarm):\n",
    "        # Every MC n-loop, build a Wolff cluster and flip it\n",
    "        # Result: A S-field config drawn with probability propto Boltzmann weight\n",
    "        cluster = buildCluster(S)\n",
    "        for p in cluster:\n",
    "            S[p[0],p[1]] = -S[p[0],p[1]]\n",
    "            \n",
    "        #Sanity checks\n",
    "        if n % interval == 0:\n",
    "            energy[k] = Energy(S);\n",
    "            clustersize[k] = len(cluster);\n",
    "            k = k+1   \n",
    "            \n",
    "        # take measurements every (interval) steps if finished warmup\n",
    "        if n % interval == 0 and n >= nwarm:\n",
    "            S1 = RGTransform(S,b);\n",
    "            evenK += AllEvenCoupling(S)\n",
    "            evenK_1 += AllEvenCoupling(S1)\n",
    "            oddK += AllOddCoupling(S)\n",
    "            oddK_1 += AllOddCoupling(S1)\n",
    "            #A*B = C, B is unknown, A is symmetric\n",
    "            #Problem: C is not symmetric!?\n",
    "            mix_11 += np.outer(AllEvenCoupling(S1),AllEvenCoupling(S1))\n",
    "            mix_01 += np.outer(AllEvenCoupling(S1),AllEvenCoupling(S))\n",
    "            mix_11_odd += np.outer(AllOddCoupling(S1),AllOddCoupling(S1))\n",
    "            mix_01_odd += np.outer(AllOddCoupling(S1),AllOddCoupling(S))\n",
    "                       \n",
    "    #Results\n",
    "    evenK /= ndata; evenK_1 /= ndata; mix_11 /= ndata; mix_01 /= ndata;\n",
    "    oddK /= ndata; oddK_1 /= ndata; mix_11_odd /= ndata; mix_01_odd /= ndata;\n",
    "\n",
    "    print('evenK = ',evenK)\n",
    "    print('evenK_1 = ', evenK_1)\n",
    "    print('mix_11 = ', mix_11)\n",
    "    print('subtract ',np.outer(evenK_1,evenK_1))\n",
    "    print('mix_01 = ', mix_01)\n",
    "    print('subtract ',np.outer(evenK_1,evenK))\n",
    "    MatA_even = mix_11-np.outer(evenK_1,evenK_1)\n",
    "    MatC_even = mix_01-np.outer(evenK_1,evenK)\n",
    "    print('MatA_even (lhs) = ',MatA_even)\n",
    "    print('MatC_even (rhs) = ',MatC_even)\n",
    "    print('\\n')\n",
    "\n",
    "    print('oddK = ',oddK)\n",
    "    print('oddK_1 = ', oddK_1)\n",
    "    print('mix_11 = ', mix_11_odd)\n",
    "    print('subtract ', np.outer(oddK_1,oddK_1))\n",
    "    print('mix_01 = ', mix_01_odd)\n",
    "    print('subtract ', np.outer(oddK_1,oddK))\n",
    "    #TODO: cancellation bad, how to avoid?\n",
    "    MatA_odd = mix_11_odd-np.outer(oddK_1,oddK_1)\n",
    "    MatC_odd = mix_01_odd-np.outer(oddK_1,oddK)\n",
    "    print('MatA_odd (lhs) = ',MatA_odd)\n",
    "    print('MatC_odd (rhs) = ',MatC_odd)\n",
    "    print('\\n');\n",
    "    \n",
    "    return MatA_even, MatC_even, MatA_odd, MatC_odd"
   ]
  },
  {
   "cell_type": "code",
   "execution_count": 34,
   "metadata": {},
   "outputs": [],
   "source": [
    "def getExponent(MatA,MatC,Nc):\n",
    "    LinRGMat = la.solve(MatA[0:Nc,0:Nc],MatC[0:Nc,0:Nc])\n",
    "    print('linearized RG transformation = ',LinRGMat)\n",
    "    lmbd = la.eigvals(LinRGMat);\n",
    "    print('eigenvalues are',lmbd)\n",
    "    amplitude = np.absolute(lmbd)\n",
    "    print('eigenvalue amplitudes are',amplitude)\n",
    "    #Only the eigenvalue with maximum amplitude is important.\n",
    "    #This eigenvalue should generically be real\n",
    "    imax = np.argmax(amplitude)\n",
    "    y = np.log(lmbd[imax])/np.log(b)\n",
    "    print('exponent y = ',y)\n",
    "    return y"
   ]
  },
  {
   "cell_type": "markdown",
   "metadata": {},
   "source": [
    "## Test for specific set of input parameters"
   ]
  },
  {
   "cell_type": "code",
   "execution_count": 73,
   "metadata": {
    "scrolled": true
   },
   "outputs": [
    {
     "data": {
      "text/plain": [
       "<matplotlib.colorbar.Colorbar at 0x1e6148807f0>"
      ]
     },
     "execution_count": 73,
     "metadata": {},
     "output_type": "execute_result"
    },
    {
     "data": {
      "image/png": "[encoded data removed]",
      "text/plain": [
       "<Figure size 432x288 with 2 Axes>"
      ]
     },
     "metadata": {
      "needs_background": "light"
     },
     "output_type": "display_data"
    }
   ],
   "source": [
    "# Input Parameters\n",
    "L = 8; #linear dimension of square lattice\n",
    "Kc = np.arccosh(3)/4; # Critical temperature Kc assumed to be known\n",
    "K = Kc; h = 0; #Start on Critical manifold\n",
    "Pij = 1-np.exp(-2*K) # Wolff add probability\n",
    "nwarm = 2000; #number of warm up Monte Carlo sweeps.\n",
    "nmeas = 2000; #number of measurement Monte Carlo sweeps.\n",
    "interval = 5; # Take data for correlation functions every (interval) MC-steps/site\n",
    "# RG analysis setting\n",
    "b = 2; #scaling factor\n",
    "\n",
    "# Derived constants\n",
    "Ns = L*L; #total number of grid points\n",
    "ndata = nmeas//interval\n",
    "energy = np.zeros((nmeas+nwarm)//interval,dtype=float)\n",
    "clustersize = np.zeros((nmeas+nwarm)//interval,dtype=int)\n",
    "\n",
    "#Initialize 2d spin field\n",
    "S = np.random.choice([-1,1],(L,L))\n",
    "#S = np.ones((L,L),dtype=int)\n",
    "plt.imshow(S);plt.colorbar()"
   ]
  },
  {
   "cell_type": "code",
   "execution_count": 74,
   "metadata": {},
   "outputs": [
    {
     "name": "stdout",
     "output_type": "stream",
     "text": [
      "running MCRG for linear size 8 lattice.\n",
      "Setting K = 0.4406867935097715  and h =  0\n",
      "evenK =  [ 93.95  86.77  39.47  83.33 162.54  32.93  78.45]\n",
      "evenK_1 =  [24.23 23.05 10.25 22.82 44.82  9.22 22.02]\n",
      "mix_11 =  [[ 661.08  644.64  295.52  642.88 1274.96  277.84  633.6 ]\n",
      " [ 644.64  637.72  289.32  634.32 1266.4   278.16  630.8 ]\n",
      " [ 295.52  289.32  140.28  289.04  574.24  130.48  286.48]\n",
      " [ 642.88  634.32  289.04  641.44 1265.92  278.88  630.08]\n",
      " [1274.96 1266.4   574.24 1265.92 2540.64  556.   1269.76]\n",
      " [ 277.84  278.16  130.48  278.88  556.    133.6   277.44]\n",
      " [ 633.6   630.8   286.48  630.08 1269.76  277.44  643.36]]\n",
      "subtract  [[ 587.093  558.502  248.358  552.929 1085.989  223.401  533.545]\n",
      " [ 558.502  531.303  236.263  526.001 1033.101  212.521  507.561]\n",
      " [ 248.358  236.263  105.062  233.905  459.405   94.505  225.705]\n",
      " [ 552.929  526.001  233.905  520.752 1022.792  210.4    502.496]\n",
      " [1085.989 1033.101  459.405 1022.792 2008.832  413.24   986.936]\n",
      " [ 223.401  212.521   94.505  210.4    413.24    85.008  203.024]\n",
      " [ 533.545  507.561  225.705  502.496  986.936  203.024  484.88 ]]\n",
      "mix_01 =  [[2408.76 2285.44 1026.32 2235.92 4412.8   904.48 2168.44]\n",
      " [2322.24 2216.64  991.84 2179.36 4317.    884.8  2133.52]\n",
      " [1047.92 1005.76  451.2   990.8  1962.52  406.48  969.6 ]\n",
      " [2304.48 2202.64  982.32 2171.04 4299.92  880.32 2125.36]\n",
      " [4549.04 4359.6  1943.92 4300.48 8537.44 1747.52 4236.08]\n",
      " [ 965.52  936.56  416.72  931.2  1852.56  384.64  923.76]\n",
      " [2247.52 2158.88  962.56 2132.08 4235.92  868.56 2105.36]]\n",
      "subtract  [[2276.409 2102.437  956.358 2019.086 3938.344  797.894 1900.844]\n",
      " [2165.548 2000.048  909.784 1920.756 3746.547  759.037 1808.273]\n",
      " [ 962.988  889.392  404.567  854.132 1666.035  337.532  804.113]\n",
      " [2143.939 1980.091  900.705 1901.591 3709.163  751.463 1790.229]\n",
      " [4210.839 3889.031 1769.045 3734.851 7285.043 1475.923 3516.129]\n",
      " [ 866.219  800.019  363.913  768.303 1498.619  303.615  723.309]\n",
      " [2068.779 1910.675  869.129 1834.927 3579.131  725.119 1727.469]]\n",
      "MatA_even (lhs) =  [[ 73.987  86.138  47.162  89.951 188.971  54.439 100.055]\n",
      " [ 86.138 106.418  53.057 108.319 233.299  65.639 123.239]\n",
      " [ 47.162  53.057  35.218  55.135 114.835  35.975  60.775]\n",
      " [ 89.951 108.319  55.135 120.688 243.128  68.48  127.584]\n",
      " [188.971 233.299 114.835 243.128 531.808 142.76  282.824]\n",
      " [ 54.439  65.639  35.975  68.48  142.76   48.592  74.416]\n",
      " [100.055 123.239  60.775 127.584 282.824  74.416 158.48 ]]\n",
      "MatC_even (rhs) =  [[ 132.352  183.003   69.962  216.834  474.456  106.586  267.596]\n",
      " [ 156.692  216.591   82.057  258.604  570.453  125.763  325.247]\n",
      " [  84.933  116.368   46.632  136.668  296.485   68.948  165.487]\n",
      " [ 160.541  222.549   81.615  269.449  590.757  128.857  335.131]\n",
      " [ 338.201  470.569  174.875  565.629 1252.397  271.597  719.951]\n",
      " [  99.301  136.541   52.807  162.897  353.941   81.025  200.451]\n",
      " [ 178.741  248.205   93.431  297.153  656.789  143.441  377.891]]\n",
      "\n",
      "\n",
      "oddK =  [0.075 0.56  0.02  0.44 ]\n",
      "oddK_1 =  [0.065 0.94  0.56  0.43 ]\n",
      "mix_11 =  [[ 189.21  650.    634.52  324.9 ]\n",
      " [ 650.   2357.92 2311.2  1172.32]\n",
      " [ 634.52 2311.2  2298.24 1158.16]\n",
      " [ 324.9  1172.32 1158.16  592.84]]\n",
      "subtract  [[0.004 0.061 0.036 0.028]\n",
      " [0.061 0.884 0.526 0.404]\n",
      " [0.036 0.526 0.314 0.241]\n",
      " [0.028 0.404 0.241 0.185]]\n",
      "mix_01 =  [[ 694.51 2313.04 2219.68 1150.8 ]\n",
      " [2378.6  8013.12 7750.4  3990.96]\n",
      " [2319.96 7818.72 7578.4  3900.48]\n",
      " [1190.42 4005.76 3881.12 1999.84]]\n",
      "subtract  [[0.005 0.036 0.001 0.029]\n",
      " [0.07  0.526 0.019 0.414]\n",
      " [0.042 0.314 0.011 0.246]\n",
      " [0.032 0.241 0.009 0.189]]\n",
      "MatA_odd (lhs) =  [[ 189.206  649.939  634.484  324.872]\n",
      " [ 649.939 2357.036 2310.674 1171.916]\n",
      " [ 634.484 2310.674 2297.926 1157.919]\n",
      " [ 324.872 1171.916 1157.919  592.655]]\n",
      "MatC_odd (rhs) =  [[ 694.505 2313.004 2219.679 1150.771]\n",
      " [2378.53  8012.594 7750.381 3990.546]\n",
      " [2319.918 7818.406 7578.389 3900.234]\n",
      " [1190.388 4005.519 3881.111 1999.651]]\n",
      "\n",
      "\n",
      "linearized RG transformation =  [[1.789]]\n",
      "eigenvalues are [1.789+0.j]\n",
      "eigenvalue amplitudes are [1.789]\n",
      "exponent y =  (0.8390288885553465+0j)\n",
      "linearized RG transformation =  [[1.294 1.803]\n",
      " [0.425 0.576]]\n",
      "eigenvalues are [ 1.881+0.j -0.011+0.j]\n",
      "eigenvalue amplitudes are [1.881 0.011]\n",
      "exponent y =  (0.9115608542419963+0j)\n",
      "linearized RG transformation =  [[1.003 1.635 0.354]\n",
      " [0.513 0.627 0.244]\n",
      " [0.294 0.17  0.483]]\n",
      "eigenvalues are [ 1.865+0.j -0.094+0.j  0.343+0.j]\n",
      "eigenvalue amplitudes are [1.865 0.094 0.343]\n",
      "exponent y =  (0.8989863081906967+0j)\n",
      "linearized RG transformation =  [[ 1.139  1.792  0.635  1.497]\n",
      " [ 0.603  0.732  0.431  0.893]\n",
      " [ 0.252  0.12   0.394  0.129]\n",
      " [-0.175 -0.204 -0.364  0.256]]\n",
      "eigenvalues are [1.769+0.j    0.729+0.j    0.012+0.037j 0.012-0.037j]\n",
      "eigenvalue amplitudes are [1.769 0.729 0.038 0.038]\n",
      "exponent y =  (0.822812494155268+0j)\n",
      "linearized RG transformation =  [[ 1.121  1.779  0.625  1.485  2.808]\n",
      " [ 1.035  1.065  0.689  1.183  2.798]\n",
      " [ 0.2    0.081  0.363  0.095 -0.029]\n",
      " [-0.033 -0.094 -0.279  0.352  0.381]\n",
      " [-0.245 -0.189 -0.147 -0.165 -0.038]]\n",
      "eigenvalues are [ 1.356+0.189j  1.356-0.189j -0.294+0.j     0.223+0.101j  0.223-0.101j]\n",
      "eigenvalue amplitudes are [1.369 1.369 0.294 0.245 0.245]\n",
      "exponent y =  (0.4531226478989555+0.1993986180066462j)\n",
      "linearized RG transformation =  [[ 1.133  1.79   0.643  1.499  2.726  0.951]\n",
      " [ 1.009  1.04   0.647  1.153  2.982  0.647]\n",
      " [ 0.179  0.06   0.33   0.07   0.12   0.164]\n",
      " [-0.043 -0.103 -0.295  0.341  0.45  -0.089]\n",
      " [-0.241 -0.185 -0.141 -0.16  -0.064 -0.16 ]\n",
      " [ 0.047  0.045  0.076  0.056 -0.333  0.203]]\n",
      "eigenvalues are [ 1.357+0.193j  1.357-0.193j -0.314+0.j     0.078+0.j     0.251+0.106j\n",
      "  0.251-0.106j]\n",
      "eigenvalue amplitudes are [1.371 1.371 0.314 0.078 0.273 0.273]\n",
      "exponent y =  (0.4551568826856745+0.20336179964262663j)\n",
      "linearized RG transformation =  [[ 1.127  1.8    0.624  1.526  2.832  0.948  1.147]\n",
      " [ 1.016  1.027  0.672  1.118  2.847  0.651  1.487]\n",
      " [ 0.178  0.062  0.327  0.074  0.137  0.164 -0.025]\n",
      " [-0.036 -0.114 -0.272  0.309  0.328 -0.086 -0.072]\n",
      " [-0.265 -0.143 -0.225 -0.041  0.4   -0.174  0.621]\n",
      " [ 0.051  0.039  0.088  0.037 -0.404  0.205 -0.182]\n",
      " [ 0.036 -0.064  0.127 -0.179 -0.698  0.021 -0.452]]\n",
      "eigenvalues are [ 1.52 +0.j     0.978+0.j    -0.315+0.j     0.244+0.199j  0.244-0.199j\n",
      "  0.136+0.065j  0.136-0.065j]\n",
      "eigenvalue amplitudes are [1.52  0.978 0.315 0.315 0.315 0.151 0.151]\n",
      "exponent y =  (0.6037157336303998+0j)\n",
      "linearized RG transformation =  [[3.671]]\n",
      "eigenvalues are [3.671+0.j]\n",
      "eigenvalue amplitudes are [3.671]\n",
      "exponent y =  (1.8760292166500299+0j)\n",
      "linearized RG transformation =  [[ 3.868 10.369]\n",
      " [-0.058  0.54 ]]\n",
      "eigenvalues are [3.678+0.j 0.73 +0.j]\n",
      "eigenvalue amplitudes are [3.678 0.73 ]\n",
      "exponent y =  (1.8789800577347435+0j)\n",
      "linearized RG transformation =  [[ 3.856e+00  1.030e+01  8.286e+00]\n",
      " [-8.305e-03  8.329e-01  9.258e-01]\n",
      " [-4.670e-02 -2.777e-01  7.918e-02]]\n",
      "eigenvalues are [3.681+0.j   0.543+0.13j 0.543-0.13j]\n",
      "eigenvalue amplitudes are [3.681 0.559 0.559]\n",
      "exponent y =  (1.8801661062061938+0j)\n",
      "linearized RG transformation =  [[ 3.798 10.058  7.821  4.825]\n",
      " [-0.039  0.705  0.675  0.121]\n",
      " [-0.115 -0.557 -0.469 -0.225]\n",
      " [ 0.228  0.94   1.844  0.929]]\n",
      "eigenvalues are [3.682+0.j    0.063+0.j    0.609+0.118j 0.609-0.118j]\n",
      "eigenvalue amplitudes are [3.682 0.063 0.621 0.621]\n",
      "exponent y =  (1.8803012938258714+0j)\n",
      "y_t array =  [0.839+0.j    0.912+0.j    0.899+0.j    0.823+0.j    0.453+0.199j\n",
      " 0.455+0.203j 0.604+0.j   ]\n",
      "y_h array =  [1.876+0.j 1.879+0.j 1.88 +0.j 1.88 +0.j]\n"
     ]
    }
   ],
   "source": [
    "MatA_even, MatC_even, MatA_odd, MatC_odd = RunMCRG(K,h)\n",
    "\n",
    "yt_arr = np.empty(7,dtype = complex);\n",
    "yh_arr = np.empty(4, dtype = complex);\n",
    "\n",
    "for i in np.arange(7):\n",
    "    yt_arr[i] = getExponent(MatA_even,MatC_even,i+1)\n",
    "\n",
    "for i in np.arange(4):\n",
    "    yh_arr[i] = getExponent(MatA_odd,MatC_odd,i+1)\n",
    "\n",
    "print(\"y_t array = \", yt_arr)\n",
    "print(\"y_h array = \", yh_arr)"
   ]
  },
  {
   "cell_type": "code",
   "execution_count": 75,
   "metadata": {
    "scrolled": true
   },
   "outputs": [
    {
     "data": {
      "text/plain": [
       "[<matplotlib.lines.Line2D at 0x1e614b32828>]"
      ]
     },
     "execution_count": 75,
     "metadata": {},
     "output_type": "execute_result"
    },
    {
     "data": {
      "image/png": "[encoded data removed]",
      "text/plain": [
       "<Figure size 432x288 with 1 Axes>"
      ]
     },
     "metadata": {
      "needs_background": "light"
     },
     "output_type": "display_data"
    }
   ],
   "source": [
    "plt.plot(energy)"
   ]
  },
  {
   "cell_type": "code",
   "execution_count": 76,
   "metadata": {},
   "outputs": [
    {
     "data": {
      "text/plain": [
       "[<matplotlib.lines.Line2D at 0x1e614b8ff98>]"
      ]
     },
     "execution_count": 76,
     "metadata": {},
     "output_type": "execute_result"
    },
    {
     "data": {
      "image/png": "[encoded data removed]",
      "text/plain": [
       "<Figure size 432x288 with 1 Axes>"
      ]
     },
     "metadata": {
      "needs_background": "light"
     },
     "output_type": "display_data"
    }
   ],
   "source": [
    "plt.plot(clustersize)"
   ]
  },
  {
   "cell_type": "code",
   "execution_count": 72,
   "metadata": {},
   "outputs": [
    {
     "data": {
      "text/plain": [
       "0.6604947916666667"
      ]
     },
     "execution_count": 72,
     "metadata": {},
     "output_type": "execute_result"
    }
   ],
   "source": [
    "np.mean(clustersize)/Ns"
   ]
  },
  {
   "cell_type": "code",
   "execution_count": 52,
   "metadata": {
    "scrolled": true
   },
   "outputs": [
    {
     "name": "stdout",
     "output_type": "stream",
     "text": [
      "save data to file:data.out\n"
     ]
    }
   ],
   "source": [
    "filename = input('save data to file:')\n",
    "f = open(filename,'w')\n",
    "print(\"================== SETTINGS ==================\",file= f)\n",
    "print(\"L = \", L, \"\\n\",file = f)\n",
    "print(\"K = \", K, \"\\n\",file = f)\n",
    "print(\"h = \", h, \"\\n\",file = f)\n",
    "print(\"b = \", b, \"\\n\",file = f)\n",
    "print(\"nwarm = \", nwarm, \"\\n\",file = f)\n",
    "print(\"nmeas = \", nmeas, \"\\n\",file = f)\n",
    "print(\"interval = \", interval, \"\\n\",file = f)\n",
    "print(\"ndata = \", ndata, \"\\n\",file = f)\n",
    "print(\"================== RESULTS ===================\", file = f)\n",
    "print(\"avg cluster size = \",np.mean(clustersize)/Ns, \"\\n\",file = f)\n",
    "print(\"y_t array = \", yt_arr,\"\\n\",file = f)\n",
    "print(\"y_h array = \", yh_arr,\"\\n\",file = f)\n",
    "f.close()"
   ]
  },
  {
   "cell_type": "code",
   "execution_count": null,
   "metadata": {},
   "outputs": [],
   "source": [
    "plt.figure(figsize=(20,4))\n",
    "\n",
    "plt.savefig('run1.png',bbox_inches='tight')"
   ]
  }
 ],
 "metadata": {
  "kernelspec": {
   "display_name": "Python 3",
   "language": "python",
   "name": "python3"
  },
  "language_info": {
   "codemirror_mode": {
    "name": "ipython",
    "version": 3
   },
   "file_extension": ".py",
   "mimetype": "text/x-python",
   "name": "python",
   "nbconvert_exporter": "python",
   "pygments_lexer": "ipython3",
   "version": "3.7.1"
  }
 },
 "nbformat": 4,
 "nbformat_minor": 2
}
