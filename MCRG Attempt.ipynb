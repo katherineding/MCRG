{
 "cells": [
  {
   "cell_type": "markdown",
   "metadata": {},
   "source": [
    "# MCRG Code following Swendsen Description circa 1982"
   ]
  },
  {
   "cell_type": "code",
   "execution_count": 1,
   "metadata": {},
   "outputs": [],
   "source": [
    "from __future__ import division #safeguard against evil floor division\n",
    "\n",
    "import numpy as np\n",
    "from scipy import linalg as la\n",
    "import matplotlib.pyplot as plt\n",
    "import timeit\n",
    "%load_ext line_profiler\n",
    "\n",
    "np.set_printoptions(precision = 3,suppress=False)"
   ]
  },
  {
   "cell_type": "markdown",
   "metadata": {},
   "source": [
    "## 2D Ising Model, periodic B.C., initial Hamiltonian contains only nearest neighbor interactions"
   ]
  },
  {
   "cell_type": "markdown",
   "metadata": {},
   "source": [
    "$$\\mathcal{H} = -\\beta H_\\Omega = K\\sum_{\\langle i,j\\rangle} \\sigma_i \\sigma_j + h\\sum_{i = 0}^{N_s} \\sigma_i$$"
   ]
  },
  {
   "cell_type": "markdown",
   "metadata": {},
   "source": [
    "### Block spin transform, scale factor = b "
   ]
  },
  {
   "cell_type": "code",
   "execution_count": 2,
   "metadata": {},
   "outputs": [],
   "source": [
    "def assignBlockSpin(total):\n",
    "    '''Rule for assigning block spin value. Random tiebreaker'''\n",
    "    if total > 0:\n",
    "        s = 1;\n",
    "    elif total < 0:\n",
    "        s = -1;\n",
    "    else:\n",
    "        s = np.random.choice([-1,1])\n",
    "    return s"
   ]
  },
  {
   "cell_type": "code",
   "execution_count": 3,
   "metadata": {},
   "outputs": [],
   "source": [
    "def RGTransform(S,b):\n",
    "    '''Take a spin config S and produce renormalized block spin config that \n",
    "    groups b*b spins together into one block. Does not modify input S'''\n",
    "    L = S.shape[0];\n",
    "    assert L//b >= 2, \"Renormalized lattice will have linear dimension <=1\"\n",
    "    newS = np.empty([L//b, L//b],dtype=int)\n",
    "    for j in np.arange(L//b):\n",
    "        for i in np.arange(L//b):\n",
    "            block = S[(b*i):(b*i+b),(b*j):(b*j+b)]\n",
    "            total = np.sum(block)\n",
    "            newS[i,j] = assignBlockSpin(total);    \n",
    "    return newS"
   ]
  },
  {
   "cell_type": "markdown",
   "metadata": {},
   "source": [
    "### First 7 short range even couplings"
   ]
  },
  {
   "cell_type": "code",
   "execution_count": 4,
   "metadata": {},
   "outputs": [],
   "source": [
    "def N1Coupl(S):\n",
    "    '''for spin field config S, \n",
    "    measure sum SiSj for i,j that are nearest neighbors, dir = (1,0)'''\n",
    "    L = S.shape[0];\n",
    "    assert L >=2, \"Lattice too small for NN interaction\"\n",
    "    val = 0.0;\n",
    "    for j in np.arange(L):\n",
    "        for i in np.arange(L):\n",
    "            val += S[i,j]*(S[i,(j+1)%L] + S[(i+1)%L,j])\n",
    "    return val"
   ]
  },
  {
   "cell_type": "code",
   "execution_count": 5,
   "metadata": {},
   "outputs": [],
   "source": [
    "def N2Coupl(S):\n",
    "    '''for spin field config S, \n",
    "    measure sum SiSj for i,j that are next-nearest neighbors, dir = (1,1)'''\n",
    "    L = S.shape[0];\n",
    "    assert L >=2, \"Lattice too small for next nearest neighbor interaction\"\n",
    "    val = 0.0;\n",
    "    for j in np.arange(L):\n",
    "        for i in np.arange(L):\n",
    "            val += S[i,j]*(S[(i+1)%L,(j+1)%L] + S[(i-1)%L,(j+1)%L])\n",
    "    return val"
   ]
  },
  {
   "cell_type": "code",
   "execution_count": 6,
   "metadata": {},
   "outputs": [],
   "source": [
    "def N3Coupl(S):\n",
    "    '''for spin field config S, \n",
    "    measure sum SiSj for i,j that are third-nearest neighbors,dir = (2,0)'''\n",
    "    L = S.shape[0];\n",
    "    assert L >=3, \"Lattice too small for third nearest neighbor interaction\"\n",
    "    val = 0.0;\n",
    "    for j in np.arange(L):\n",
    "        for i in np.arange(L):\n",
    "            val += S[i,j]*(S[i,(j+2)%L] + S[(i+2)%L,j])\n",
    "    return val"
   ]
  },
  {
   "cell_type": "code",
   "execution_count": 7,
   "metadata": {},
   "outputs": [],
   "source": [
    "def N4Coupl(S):\n",
    "    '''for spin field config S, \n",
    "    measure sum SiSj for i,j that are 4th-nearest neighbors, dir = (2,1)'''\n",
    "    L = S.shape[0];\n",
    "    assert L >=3, \"Lattice too small for 4th nearest neighbor interaction\"\n",
    "    val = 0.0;\n",
    "    for j in np.arange(L):\n",
    "        for i in np.arange(L):\n",
    "            val += S[i,j]*(S[(i+1)%L,(j+2)%L] + S[(i+2)%L,(j+1)%L] \n",
    "                           +S[(i-1)%L,(j+2)%L] + S[(i-2)%L,(j+1)%L])\n",
    "    return val"
   ]
  },
  {
   "cell_type": "code",
   "execution_count": 8,
   "metadata": {},
   "outputs": [],
   "source": [
    "def N5Coupl(S):\n",
    "    '''for spin field config S, \n",
    "    measure sum SiSj for i,j that are 5th-nearest neighbors,dir = (2,2)'''\n",
    "    L = S.shape[0];\n",
    "    assert L >=3, \"Lattice too small for third nearest neighbor interaction\"\n",
    "    val = 0.0;\n",
    "    for j in np.arange(L):\n",
    "        for i in np.arange(L):\n",
    "            val += S[i,j]*(S[(i+2)%L,(j+2)%L] + S[(i-2)%L,(j+2)%L])\n",
    "    return val"
   ]
  },
  {
   "cell_type": "code",
   "execution_count": 9,
   "metadata": {},
   "outputs": [],
   "source": [
    "def PlaqCoupl(S):\n",
    "    '''for spin field config S, \n",
    "    measure sum SiSjSlSk for i,j,k,l that form 1 plaquette,'''\n",
    "    L = S.shape[0];\n",
    "    assert L >=2, \"Lattice too small to form plaquettes\"\n",
    "    val = 0.0;\n",
    "    for j in np.arange(L):\n",
    "        for i in np.arange(L):\n",
    "            val += S[i,j]*S[i,(j+1)%L]*S[(i+1)%L,(j+1)%L]*S[(i+1)%L,j]\n",
    "    return val"
   ]
  },
  {
   "cell_type": "code",
   "execution_count": 10,
   "metadata": {},
   "outputs": [],
   "source": [
    "def SubPlaqCoupl(S):\n",
    "    '''for spin field config S, \n",
    "    measure sum SiSjSlSk for i,j,k,l that form 1 sublattice plaquette,'''\n",
    "    L = S.shape[0];\n",
    "    assert L >=3, \"Lattice too small to form sublattice plaquettes\"\n",
    "    val = 0.0;\n",
    "    for j in np.arange(L):\n",
    "        for i in np.arange(L):\n",
    "            val += S[(i+1)%L,j]*S[i,(j+1)%L]*S[(i-1)%L,j]*S[i,(j-1)%L]\n",
    "    return val"
   ]
  },
  {
   "cell_type": "code",
   "execution_count": 11,
   "metadata": {},
   "outputs": [],
   "source": [
    "def AllEvenCoupling(S):\n",
    "    '''for spin field config S, \n",
    "    Integrate measurement of first 7 even correlation functions in one vector'''\n",
    "    L = S.shape[0];\n",
    "    assert L >=3, \"Lattice too small to fit first 7 even couplings\"\n",
    "    val = np.zeros(7,dtype = float);\n",
    "    for j in np.arange(L):\n",
    "        for i in np.arange(L):\n",
    "            val += [S[i,j]*(S[i,(j+1)%L] + S[(i+1)%L,j]), #nearest neighbor (1,0)\n",
    "                    S[i,j]*(S[(i+1)%L,(j+1)%L] + S[(i-1)%L,(j+1)%L]), #next nearest neighbor (1,1)\n",
    "                    S[i,j]*(S[i,(j+2)%L] + S[(i+2)%L,j]), #3rd nearest neighbor (2,0)\n",
    "                    S[i,j]*(S[(i+1)%L,(j+2)%L] + S[(i+2)%L,(j+1)%L] \n",
    "                            +S[(i-1)%L,(j+2)%L] + S[(i-2)%L,(j+1)%L]),#4th nearest neighbor (2,1)\n",
    "                    S[i,j]*(S[(i+2)%L,(j+2)%L] + S[(i-2)%L,(j+2)%L]),#5th nearest neighbor (2,2)\n",
    "                    S[i,j]*S[i,(j+1)%L]*S[(i+1)%L,(j+1)%L]*S[(i+1)%L,j], # plaquette\n",
    "                    S[(i+1)%L,j]*S[i,(j+1)%L]*S[(i-1)%L,j]*S[i,(j-1)%L]] # sublattice plaquette\n",
    "    return val"
   ]
  },
  {
   "cell_type": "markdown",
   "metadata": {},
   "source": [
    "### First 4 short range odd couplings"
   ]
  },
  {
   "cell_type": "code",
   "execution_count": 12,
   "metadata": {},
   "outputs": [],
   "source": [
    "def Magnetization(S):\n",
    "    '''for spin field config S, \n",
    "    measure sum Si = net magnetization of entire lattice'''\n",
    "    L = S.shape[0];\n",
    "    assert L >=1, \"Lattice linear dim < 1\"\n",
    "    val = np.sum(S);\n",
    "    return val"
   ]
  },
  {
   "cell_type": "code",
   "execution_count": 13,
   "metadata": {},
   "outputs": [],
   "source": [
    "def TripletPlaq(S):\n",
    "    '''for spin field config S, \n",
    "    measure sum SiSjSk for i,j,k that lie on 1 plaquette,'''\n",
    "    L = S.shape[0];\n",
    "    assert L >=2, \"Lattice too small to have 3 spins on a plaquette\"\n",
    "    val = 0.0;\n",
    "    for j in np.arange(L):\n",
    "        for i in np.arange(L):\n",
    "            val += S[i,j]*S[(i+1)%L,j]*S[(i+1)%L,(j+1)%L];\n",
    "            val += S[i,j]*S[i,(j+1)%L]*S[(i-1)%L,(j+1)%L];\n",
    "            val += S[i,j]*S[(i-1)%L,j]*S[(i-1)%L,(j-1)%L];\n",
    "            val += S[i,j]*S[i,(j-1)%L]*S[(i+1)%L,(j-1)%L];\n",
    "    return val"
   ]
  },
  {
   "cell_type": "code",
   "execution_count": 14,
   "metadata": {},
   "outputs": [],
   "source": [
    "def TripletAngle(S):\n",
    "    '''for spin field config S, \n",
    "    measure sum SiSjSk for i,j,k that lie at an angle,'''\n",
    "    L = S.shape[0];\n",
    "    assert L >=3, \"Lattice too small to have 3 spins at an angle\"\n",
    "    val = 0.0;\n",
    "    for j in np.arange(L):\n",
    "        for i in np.arange(L):\n",
    "            val += S[i,j]*S[(i+1)%L,j]*S[(i+2)%L,(j+1)%L];\n",
    "            val += S[i,j]*S[i,(j+1)%L]*S[(i-1)%L,(j+2)%L];\n",
    "            val += S[i,j]*S[(i-1)%L,j]*S[(i-2)%L,(j-1)%L];\n",
    "            val += S[i,j]*S[i,(j-1)%L]*S[(i+1)%L,(j-2)%L];\n",
    "    return val"
   ]
  },
  {
   "cell_type": "code",
   "execution_count": 15,
   "metadata": {},
   "outputs": [],
   "source": [
    "def TripletRow(S):\n",
    "    '''for spin field config S, \n",
    "    measure sum SiSjSk for i,j,k that lie in a row,'''\n",
    "    L = S.shape[0];\n",
    "    assert L >=3, \"Lattice too small have 3 spins in a row\"\n",
    "    val = 0.0;\n",
    "    for j in np.arange(L):\n",
    "        for i in np.arange(L):\n",
    "            val += S[i,j]*(S[(i+1)%L,j]*S[(i+2)%L,j] \\\n",
    "                           + S[i,(j+1)%L]*S[i,(j+2)%L])\n",
    "    return val"
   ]
  },
  {
   "cell_type": "code",
   "execution_count": 16,
   "metadata": {},
   "outputs": [],
   "source": [
    "def AllOddCoupling(S):\n",
    "    '''for spin field config S, \n",
    "    Integrate measurement of first 4 odd correlation functions in one vector'''\n",
    "    L = S.shape[0];\n",
    "    assert L >=3, \"Lattice too small to fit first 4 odd couplings\"\n",
    "    val = np.zeros(4,dtype = float);\n",
    "    for j in np.arange(L):\n",
    "        for i in np.arange(L):\n",
    "            val += [0, #magnetization\n",
    "                    S[i,j]*S[(i+1)%L,j]*S[(i+1)%L,(j+1)%L]+\n",
    "                    S[i,j]*S[i,(j+1)%L]*S[(i-1)%L,(j+1)%L]+\n",
    "                    S[i,j]*S[(i-1)%L,j]*S[(i-1)%L,(j-1)%L]+\n",
    "                    S[i,j]*S[i,(j-1)%L]*S[(i+1)%L,(j-1)%L], #3 spin plaquette\n",
    "                    S[i,j]*S[(i+1)%L,j]*S[(i+2)%L,(j+1)%L]+\n",
    "                    S[i,j]*S[i,(j+1)%L]*S[(i-1)%L,(j+2)%L]+\n",
    "                    S[i,j]*S[(i-1)%L,j]*S[(i-2)%L,(j-1)%L]+\n",
    "                    S[i,j]*S[i,(j-1)%L]*S[(i+1)%L,(j-2)%L], # 3 spin angle\n",
    "                    S[i,j]*(S[(i+1)%L,j]*S[(i+2)%L,j] + \n",
    "                            S[i,(j+1)%L]*S[i,(j+2)%L])] #3 spin row\n",
    "    val[0] = np.sum(S);\n",
    "    return val"
   ]
  },
  {
   "cell_type": "markdown",
   "metadata": {},
   "source": [
    "### Integrated MC + RG simulation function"
   ]
  },
  {
   "cell_type": "code",
   "execution_count": 17,
   "metadata": {},
   "outputs": [],
   "source": [
    "def Energy(S):\n",
    "    '''Brute force Find energy of spin configuration S for sanity check'''\n",
    "    L = S.shape[0];\n",
    "    E = 0;\n",
    "    for i in np.arange(L):\n",
    "        for j in np.arange(L):\n",
    "            E += K*S[i,j]*(S[i,(j+1)%L] + S[(i+1)%L,j])\n",
    "    E += h*np.sum(S)\n",
    "    return E"
   ]
  },
  {
   "cell_type": "code",
   "execution_count": 18,
   "metadata": {},
   "outputs": [],
   "source": [
    "def RunMCRG(K,h):\n",
    "    '''Run MCRG simulation to find y_t exponent, keeping Nc coupling terms'''\n",
    "    print('running MCRG for linear size',L,'lattice.')\n",
    "    print('Setting K =', K, \" and h = \",h)\n",
    "    \n",
    "    #measurement accumulators for y_t\n",
    "    evenK = np.zeros(7,dtype = float)\n",
    "    evenK_1 = np.zeros(7,dtype = float)\n",
    "    mix_11 = np.zeros((7,7),dtype=float)\n",
    "    mix_01 = np.zeros((7,7),dtype=float)\n",
    "    #measurement accumulators for y_h\n",
    "    oddK = np.zeros(4,dtype = float)\n",
    "    oddK_1 = np.zeros(4,dtype = float)\n",
    "    mix_11_odd = np.zeros((4,4),dtype=float)\n",
    "    mix_01_odd = np.zeros((4,4),dtype=float)\n",
    "    \n",
    "    #Run simulation\n",
    "    k = 0\n",
    "    for n in np.arange(nmeas+nwarm):\n",
    "        # Every MC n-loop, go through every [i,j] pair and propose \n",
    "        # flipping s[i,j]. \n",
    "        # Result: A S-field config drawn with probability propto Boltzmann weight\n",
    "        for j in np.arange(L):\n",
    "            for i in np.arange(L):\n",
    "                # calculate alpha based on energy difference\n",
    "                d_hterm = -2*h*S[i,j];\n",
    "                d_tterm = -2*K*S[i,j]*(S[(i+1) % L,j]+S[(i-1) % L,j]+S[i,(j+1)%L]+S[i,(j-1)%L])\n",
    "                alpha = np.exp(d_tterm);\n",
    "                #Probability Min(1,alpha) of accepting flip \n",
    "                #If accept, update sigma field\n",
    "                #If reject, do nothing, look at next entry of S\n",
    "                if beta_array[n,i,j] < alpha:\n",
    "                    S[i,j] = -S[i,j]; \n",
    "                    \n",
    "        #sanity check\n",
    "        if n % interval == 0:\n",
    "            energy[k] = Energy(S)\n",
    "            k +=1\n",
    "        \n",
    "        # take measurements every (interval) steps if finished warmup\n",
    "        if n % interval == 0 and n >= nwarm:\n",
    "            S1 = RGTransform(S,b);\n",
    "            evenK += AllEvenCoupling(S)\n",
    "            evenK_1 += AllEvenCoupling(S1)\n",
    "            oddK += AllOddCoupling(S)\n",
    "            oddK_1 += AllOddCoupling(S1)\n",
    "            #A*B = C, B is unknown, A is symmetric\n",
    "            #Problem: C is not symmetric!?\n",
    "            mix_11 += np.outer(AllEvenCoupling(S1),AllEvenCoupling(S1))\n",
    "            mix_01 += np.outer(AllEvenCoupling(S1),AllEvenCoupling(S))\n",
    "            mix_11_odd += np.outer(AllOddCoupling(S1),AllOddCoupling(S1))\n",
    "            mix_01_odd += np.outer(AllOddCoupling(S1),AllOddCoupling(S))\n",
    "    \n",
    "    #Results\n",
    "    evenK /= ndata; evenK_1 /= ndata; mix_11 /= ndata; mix_01 /= ndata;\n",
    "    oddK /= ndata; oddK_1 /= ndata; mix_11_odd /= ndata; mix_01_odd /= ndata;\n",
    "    print('evenK = ',evenK)\n",
    "    print('evenK_1 = ', evenK_1)\n",
    "    print('mix_11 = ', mix_11)\n",
    "    print('subtract ',np.outer(evenK_1,evenK_1))\n",
    "    print('mix_01 = ', mix_01)\n",
    "    print('subtract ',np.outer(evenK_1,evenK))\n",
    "    MatA = mix_11-np.outer(evenK_1,evenK_1)\n",
    "    MatC = mix_01-np.outer(evenK_1,evenK)\n",
    "    #print('MatA (lhs) = ',MatA)\n",
    "    #print('MatC (rhs) = ',MatC)\n",
    "    LinRGMat = la.solve(MatA[0:Nc_even,0:Nc_even],MatC[0:Nc_even,0:Nc_even])\n",
    "    print('linearized RG transformation = ',LinRGMat)\n",
    "    lmbd = la.eigvals(LinRGMat);\n",
    "    print('eigenvalues are',lmbd)\n",
    "    amplitude = np.absolute(lmbd)\n",
    "    print('eigenvalue amplitudes are',amplitude)\n",
    "    #Only the eigenvalue with maximum amplitude is important.\n",
    "    #This eigenvalue should generically be real\n",
    "    imax = np.argmax(amplitude)\n",
    "    y_t = np.log(lmbd[imax])/np.log(b)\n",
    "    print('exponent y_t = ',y_t,'\\n')\n",
    "    \n",
    "    print('oddK = ',oddK)\n",
    "    print('oddK_1 = ', oddK_1)\n",
    "    print('mix_11 = ', mix_11_odd)\n",
    "    print('subtract ', np.outer(oddK_1,oddK_1))\n",
    "    print('mix_01 = ', mix_01_odd)\n",
    "    print('subtract ', np.outer(oddK_1,oddK))\n",
    "    #TODO: cancellation bad, how to avoid?\n",
    "    MatA = mix_11_odd-np.outer(oddK_1,oddK_1)\n",
    "    MatC = mix_01_odd-np.outer(oddK_1,oddK)\n",
    "    #print('MatA (lhs) = ',MatA)\n",
    "    #print('MatC (rhs) = ',MatC)\n",
    "    LinRGMat = la.solve(MatA[0:Nc_odd,0:Nc_odd],MatC[0:Nc_odd,0:Nc_odd])\n",
    "    print('linearized RG transformation = ',LinRGMat)\n",
    "    lmbd = la.eigvals(LinRGMat);\n",
    "    print('eigenvalues are',lmbd)\n",
    "    amplitude = np.absolute(lmbd)\n",
    "    print('eigenvalue amplitudes are',amplitude)\n",
    "    #Only the eigenvalue with maximum amplitude is important.\n",
    "    #This eigenvalue should generically be real\n",
    "    imax = np.argmax(amplitude)\n",
    "    y_h = np.log(lmbd[imax])/np.log(b)\n",
    "    plt.figure();\n",
    "    plt.imshow(S);plt.colorbar();\n",
    "    print('exponent y_h = ',y_h)\n",
    "    \n",
    "    return y_t,y_h"
   ]
  },
  {
   "cell_type": "markdown",
   "metadata": {},
   "source": [
    "## Test for specific set of input parameters"
   ]
  },
  {
   "cell_type": "markdown",
   "metadata": {},
   "source": [
    "### Known: y_t = 1, y_h = 1.875 exactly"
   ]
  },
  {
   "cell_type": "code",
   "execution_count": 19,
   "metadata": {},
   "outputs": [
    {
     "data": {
      "image/png": "[encoded data removed]",
      "text/plain": [
       "<Figure size 432x288 with 2 Axes>"
      ]
     },
     "metadata": {
      "needs_background": "light"
     },
     "output_type": "display_data"
    }
   ],
   "source": [
    "# Input Parameters\n",
    "L = 64; #linear dimension of square lattice\n",
    "Kc = np.arccosh(3)/4; # Critical temperature Kc assumed to be known\n",
    "K = Kc; h = 0; #Start on Critical manifold\n",
    "\n",
    "nwarm = 400; #number of warm up Monte Carlo sweeps.\n",
    "nmeas = 400; #number of measurement Monte Carlo sweeps.\n",
    "interval = 10; # Take data for correlation functions every (interval) MC-steps/site\n",
    "# RG analysis setting\n",
    "Nc_even = 1; #number of coupling constants included in calculating T\n",
    "Nc_odd = 1;\n",
    "b = 2; #scaling factor\n",
    "\n",
    "# Derived constants\n",
    "ndata = nmeas//interval\n",
    "Ns = L*L; #total number of grid points\n",
    "energy = np.zeros((nmeas+nwarm)//interval,dtype=float)\n",
    "\n",
    "#Initialize 2d spin field\n",
    "S = np.random.choice([-1,1],(L,L))\n",
    "plt.imshow(S);plt.colorbar()\n",
    "#Initialize an array of random beta in [0,1] to use in M-Hastings\n",
    "beta_array = np.random.random_sample((nwarm+nmeas,L,L))"
   ]
  },
  {
   "cell_type": "code",
   "execution_count": 20,
   "metadata": {
    "scrolled": true
   },
   "outputs": [
    {
     "name": "stdout",
     "output_type": "stream",
     "text": [
      "running MCRG for linear size 64 lattice.\n",
      "Setting K = 0.4406867935097715  and h =  0\n",
      "evenK =  [ 5960.6  5454.9  5163.8 10023.5  4800.2  2514.5  2060.4]\n",
      "evenK_1 =  [1508.9 1416.5 1345.1 2645.7 1290.1  628.9  545.5]\n",
      "mix_11 =  [[2283944.4 2146191.6 2039570.4 4012949.2 1957712.4  953254.   828718.4]\n",
      " [2146191.6 2017858.  1918100.  3774682.8 1841925.2  895974.   779892. ]\n",
      " [2039570.4 1918100.  1824037.2 3589581.2 1751908.   851637.6  741776.4]\n",
      " [4012949.2 3774682.8 3589581.2 7065482.  3448790.4 1675842.  1460114.8]\n",
      " [1957712.4 1841925.2 1751908.  3448790.4 1683998.8  817672.4  712639.2]\n",
      " [ 953254.   895974.   851637.6 1675842.   817672.4  398320.4  346360.8]\n",
      " [ 828718.4  779892.   741776.4 1460114.8  712639.2  346360.8  302523.6]]\n",
      "subtract  [[2276779.21 2137356.85 2029621.39 3992096.73 1946631.89  948947.21\n",
      "   823104.95]\n",
      " [2137356.85 2006472.25 1905334.15 3747634.05 1827426.65  890836.85\n",
      "   772700.75]\n",
      " [2029621.39 1905334.15 1809294.01 3558731.07 1735313.51  845933.39\n",
      "   733752.05]\n",
      " [3992096.73 3747634.05 3558731.07 6999728.49 3413217.57 1663880.73\n",
      "  1443229.35]\n",
      " [1946631.89 1827426.65 1735313.51 3413217.57 1664358.01  811343.89\n",
      "   703749.55]\n",
      " [ 948947.21  890836.85  845933.39 1663880.73  811343.89  395515.21\n",
      "   343064.95]\n",
      " [ 823104.95  772700.75  733752.05 1443229.35  703749.55  343064.95\n",
      "   297570.25]]\n",
      "mix_01 =  [[ 9008196.4  8250667.2  7815377.6 15175826.4  7272034.   3802246.4\n",
      "   3120652. ]\n",
      " [ 8460773.6  7751462.8  7344355.6 14263547.6  6836837.6  3571724.4\n",
      "   2933218.8]\n",
      " [ 8036841.6  7364554.4  6978949.6 13555290.4  6498523.2  3392991.2\n",
      "   2787584. ]\n",
      " [15811542.  14490418.8 13733145.6 26675373.6 12789834.4  6676037.2\n",
      "   5486096. ]\n",
      " [ 7711744.4  7068410.   6699789.2 13014820.   6241024.   3256288.4\n",
      "   2676688.4]\n",
      " [ 3757231.2  3442392.4  3261672.4  6334103.6  3035720.8  1586359.6\n",
      "   1302770.8]\n",
      " [ 3263042.4  2991687.2  2836092.   5509658.4  2642360.   1378162.4\n",
      "   1133713.6]]\n",
      "subtract  [[ 8993949.34  8230898.61  7791657.82 15124459.15  7243021.78  3794129.05\n",
      "   3108937.56]\n",
      " [ 8443189.9   7726865.85  7314522.7  14198287.75  6799483.3   3561789.25\n",
      "   2918556.6 ]\n",
      " [ 8017603.06  7337385.99  6945827.38 13482609.85  6456749.02  3382253.95\n",
      "   2771444.04]\n",
      " [15769959.42 14432028.93 13661865.66 26519173.95 12699889.14  6652612.65\n",
      "   5451200.28]\n",
      " [ 7689770.06  7037366.49  6661818.38 12931317.35  6192738.02  3243956.45\n",
      "   2658122.04]\n",
      " [ 3748621.34  3430586.61  3247513.82  6303779.15  3018845.78  1581369.05\n",
      "   1295785.56]\n",
      " [ 3251507.3   2975647.95  2816852.9   5467819.25  2618509.1   1371659.75\n",
      "   1123948.2 ]]\n",
      "linearized RG transformation =  [[1.988]]\n",
      "eigenvalues are [1.988+0.j]\n",
      "eigenvalue amplitudes are [1.988]\n",
      "exponent y_t =  (0.9915873716178415+0j) \n",
      "\n",
      "oddK =  [-2883.95 -9562.8  -9173.4  -4785.1 ]\n",
      "oddK_1 =  [ -785.55 -2597.4  -2488.4  -1291.8 ]\n",
      "mix_11 =  [[ 620266.5 2053449.6 1968821.2 1021324.6]\n",
      " [2053449.6 6804590.4 6525788.8 3384475.2]\n",
      " [1968821.2 6525788.8 6260624.  3246257.6]\n",
      " [1021324.6 3384475.2 3246257.6 1683797.6]]\n",
      "subtract  [[ 617088.802 2040387.57  1954762.62  1014773.49 ]\n",
      " [2040387.57  6746486.76  6463370.16  3355321.32 ]\n",
      " [1954762.62  6463370.16  6192134.56  3214515.12 ]\n",
      " [1014773.49  3355321.32  3214515.12  1668747.24 ]]\n",
      "mix_01 =  [[ 2277241.3  7553952.4  7246903.2  3779876. ]\n",
      " [ 7538982.4 25016436.8 24000729.6 12516849.6]\n",
      " [ 7228016.  23987097.6 23013320.  12001296. ]\n",
      " [ 3749451.6 12441785.6 11936465.6  6225166.8]]\n",
      "subtract  [[ 2265486.922  7512057.54   7206164.37   3758935.305]\n",
      " [ 7490771.73  24838416.72  23826989.16  12428818.74 ]\n",
      " [ 7176421.18  23796071.52  22827088.56  11907242.84 ]\n",
      " [ 3725486.61  12353225.04  11850198.12   6181392.18 ]]\n",
      "linearized RG transformation =  [[3.699]]\n",
      "eigenvalues are [3.699+0.j]\n",
      "eigenvalue amplitudes are [3.699]\n",
      "exponent y_h =  (1.8871444379409825+0j)\n"
     ]
    },
    {
     "data": {
      "image/png": "[encoded data removed]",
      "text/plain": [
       "<Figure size 432x288 with 2 Axes>"
      ]
     },
     "metadata": {
      "needs_background": "light"
     },
     "output_type": "display_data"
    }
   ],
   "source": [
    "%lprun -f RunMCRG RunMCRG(K,h)\n",
    "#RunMCRG(K,h)"
   ]
  },
  {
   "cell_type": "code",
   "execution_count": 22,
   "metadata": {},
   "outputs": [
    {
     "data": {
      "text/plain": [
       "[<matplotlib.lines.Line2D at 0x201da3ddfd0>]"
      ]
     },
     "execution_count": 22,
     "metadata": {},
     "output_type": "execute_result"
    },
    {
     "data": {
      "image/png": "[encoded data removed]",
      "text/plain": [
       "<Figure size 432x288 with 1 Axes>"
      ]
     },
     "metadata": {
      "needs_background": "light"
     },
     "output_type": "display_data"
    }
   ],
   "source": [
    "plt.plot(energy)"
   ]
  },
  {
   "cell_type": "code",
   "execution_count": null,
   "metadata": {},
   "outputs": [],
   "source": []
  },
  {
   "cell_type": "code",
   "execution_count": null,
   "metadata": {},
   "outputs": [],
   "source": []
  }
 ],
 "metadata": {
  "kernelspec": {
   "display_name": "Python 3",
   "language": "python",
   "name": "python3"
  },
  "language_info": {
   "codemirror_mode": {
    "name": "ipython",
    "version": 3
   },
   "file_extension": ".py",
   "mimetype": "text/x-python",
   "name": "python",
   "nbconvert_exporter": "python",
   "pygments_lexer": "ipython3",
   "version": "3.7.1"
  }
 },
 "nbformat": 4,
 "nbformat_minor": 2
}
