{
 "cells": [
  {
   "cell_type": "markdown",
   "metadata": {},
   "source": [
    "# MCRG Code following Swendsen Description circa 1982, Using Wolff's Algorithm to combat critical slowing down"
   ]
  },
  {
   "cell_type": "code",
   "execution_count": 1,
   "metadata": {},
   "outputs": [],
   "source": [
    "from __future__ import division #safeguard against evil floor division\n",
    "\n",
    "import numpy as np\n",
    "from scipy import linalg as la\n",
    "import matplotlib.pyplot as plt\n",
    "import timeit\n",
    "%load_ext line_profiler\n",
    "\n",
    "np.set_printoptions(precision = 3,suppress=False)"
   ]
  },
  {
   "cell_type": "markdown",
   "metadata": {},
   "source": [
    "## 2D Ising Model, periodic B.C., initial Hamiltonian contains only nearest neighbor interactions"
   ]
  },
  {
   "cell_type": "markdown",
   "metadata": {},
   "source": [
    "$$\\mathcal{H} = -\\beta H_\\Omega = K\\sum_{\\langle i,j\\rangle} \\sigma_i \\sigma_j + h\\sum_{i = 0}^{N_s} \\sigma_i$$"
   ]
  },
  {
   "cell_type": "markdown",
   "metadata": {},
   "source": [
    "### Block spin transform, scale factor = b "
   ]
  },
  {
   "cell_type": "code",
   "execution_count": 2,
   "metadata": {},
   "outputs": [],
   "source": [
    "def assignBlockSpin(total):\n",
    "    '''Rule for assigning block spin value. Random tiebreaker'''\n",
    "    if total > 0:\n",
    "        s = 1;\n",
    "    elif total < 0:\n",
    "        s = -1;\n",
    "    else:\n",
    "        s = np.random.choice([-1,1])\n",
    "    return s"
   ]
  },
  {
   "cell_type": "code",
   "execution_count": 3,
   "metadata": {},
   "outputs": [],
   "source": [
    "def RGTransform(S,b):\n",
    "    '''Take a spin config S and produce renormalized block spin config that \n",
    "    groups b*b spins together into one block. Does not modify input S'''\n",
    "    L = S.shape[0];\n",
    "    assert L//b >= 2, \"Renormalized lattice will have linear dimension <=1\"\n",
    "    newS = np.empty([L//b, L//b],dtype=int)\n",
    "    for j in np.arange(L//b):\n",
    "        for i in np.arange(L//b):\n",
    "            block = S[(b*i):(b*i+b),(b*j):(b*j+b)]\n",
    "            total = np.sum(block)\n",
    "            newS[i,j] = assignBlockSpin(total);    \n",
    "    return newS"
   ]
  },
  {
   "cell_type": "markdown",
   "metadata": {},
   "source": [
    "### First 7 short range even couplings"
   ]
  },
  {
   "cell_type": "code",
   "execution_count": 4,
   "metadata": {},
   "outputs": [],
   "source": [
    "def N1Coupl(S):\n",
    "    '''for spin field config S, \n",
    "    measure sum SiSj for i,j that are nearest neighbors, dir = (1,0)'''\n",
    "    L = S.shape[0];\n",
    "    assert L >=2, \"Lattice too small for NN interaction\"\n",
    "    val = 0.0;\n",
    "    for j in np.arange(L):\n",
    "        for i in np.arange(L):\n",
    "            val += S[i,j]*(S[i,(j+1)%L] + S[(i+1)%L,j])\n",
    "    return val"
   ]
  },
  {
   "cell_type": "code",
   "execution_count": 5,
   "metadata": {},
   "outputs": [],
   "source": [
    "def N2Coupl(S):\n",
    "    '''for spin field config S, \n",
    "    measure sum SiSj for i,j that are next-nearest neighbors, dir = (1,1)'''\n",
    "    L = S.shape[0];\n",
    "    assert L >=2, \"Lattice too small for next nearest neighbor interaction\"\n",
    "    val = 0.0;\n",
    "    for j in np.arange(L):\n",
    "        for i in np.arange(L):\n",
    "            val += S[i,j]*(S[(i+1)%L,(j+1)%L] + S[(i-1)%L,(j+1)%L])\n",
    "    return val"
   ]
  },
  {
   "cell_type": "code",
   "execution_count": 6,
   "metadata": {},
   "outputs": [],
   "source": [
    "def N3Coupl(S):\n",
    "    '''for spin field config S, \n",
    "    measure sum SiSj for i,j that are third-nearest neighbors,dir = (2,0)'''\n",
    "    L = S.shape[0];\n",
    "    assert L >=3, \"Lattice too small for third nearest neighbor interaction\"\n",
    "    val = 0.0;\n",
    "    for j in np.arange(L):\n",
    "        for i in np.arange(L):\n",
    "            val += S[i,j]*(S[i,(j+2)%L] + S[(i+2)%L,j])\n",
    "    return val"
   ]
  },
  {
   "cell_type": "code",
   "execution_count": 7,
   "metadata": {},
   "outputs": [],
   "source": [
    "def N4Coupl(S):\n",
    "    '''for spin field config S, \n",
    "    measure sum SiSj for i,j that are 4th-nearest neighbors, dir = (2,1)'''\n",
    "    L = S.shape[0];\n",
    "    assert L >=3, \"Lattice too small for 4th nearest neighbor interaction\"\n",
    "    val = 0.0;\n",
    "    for j in np.arange(L):\n",
    "        for i in np.arange(L):\n",
    "            val += S[i,j]*(S[(i+1)%L,(j+2)%L] + S[(i+2)%L,(j+1)%L] \n",
    "                           +S[(i-1)%L,(j+2)%L] + S[(i-2)%L,(j+1)%L])\n",
    "    return val"
   ]
  },
  {
   "cell_type": "code",
   "execution_count": 8,
   "metadata": {},
   "outputs": [],
   "source": [
    "def N5Coupl(S):\n",
    "    '''for spin field config S, \n",
    "    measure sum SiSj for i,j that are 5th-nearest neighbors,dir = (2,2)'''\n",
    "    L = S.shape[0];\n",
    "    assert L >=3, \"Lattice too small for third nearest neighbor interaction\"\n",
    "    val = 0.0;\n",
    "    for j in np.arange(L):\n",
    "        for i in np.arange(L):\n",
    "            val += S[i,j]*(S[(i+2)%L,(j+2)%L] + S[(i-2)%L,(j+2)%L])\n",
    "    return val"
   ]
  },
  {
   "cell_type": "code",
   "execution_count": 9,
   "metadata": {},
   "outputs": [],
   "source": [
    "def PlaqCoupl(S):\n",
    "    '''for spin field config S, \n",
    "    measure sum SiSjSlSk for i,j,k,l that form 1 plaquette,'''\n",
    "    L = S.shape[0];\n",
    "    assert L >=2, \"Lattice too small to form plaquettes\"\n",
    "    val = 0.0;\n",
    "    for j in np.arange(L):\n",
    "        for i in np.arange(L):\n",
    "            val += S[i,j]*S[i,(j+1)%L]*S[(i+1)%L,(j+1)%L]*S[(i+1)%L,j]\n",
    "    return val"
   ]
  },
  {
   "cell_type": "code",
   "execution_count": 10,
   "metadata": {},
   "outputs": [],
   "source": [
    "def SubPlaqCoupl(S):\n",
    "    '''for spin field config S, \n",
    "    measure sum SiSjSlSk for i,j,k,l that form 1 sublattice plaquette,'''\n",
    "    L = S.shape[0];\n",
    "    assert L >=3, \"Lattice too small to form sublattice plaquettes\"\n",
    "    val = 0.0;\n",
    "    for j in np.arange(L):\n",
    "        for i in np.arange(L):\n",
    "            val += S[(i+1)%L,j]*S[i,(j+1)%L]*S[(i-1)%L,j]*S[i,(j-1)%L]\n",
    "    return val"
   ]
  },
  {
   "cell_type": "code",
   "execution_count": 11,
   "metadata": {},
   "outputs": [],
   "source": [
    "def AllEvenCoupling(S):\n",
    "    '''for spin field config S, \n",
    "    Integrate measurement of first 7 even correlation functions in one vector'''\n",
    "    L = S.shape[0];\n",
    "    assert L >=3, \"Lattice too small to fit first 7 even couplings\"\n",
    "    val = np.zeros(7,dtype = float);\n",
    "    for j in np.arange(L):\n",
    "        for i in np.arange(L):\n",
    "            val += [S[i,j]*(S[i,(j+1)%L] + S[(i+1)%L,j]), #nearest neighbor (1,0)\n",
    "                    S[i,j]*(S[(i+1)%L,(j+1)%L] + S[(i-1)%L,(j+1)%L]), #next nearest neighbor (1,1)\n",
    "                    S[i,j]*S[i,(j+1)%L]*S[(i+1)%L,(j+1)%L]*S[(i+1)%L,j], # plaquette\n",
    "                    S[i,j]*(S[i,(j+2)%L] + S[(i+2)%L,j]), #3rd nearest neighbor (2,0)\n",
    "                    S[i,j]*(S[(i+1)%L,(j+2)%L] + S[(i+2)%L,(j+1)%L] \n",
    "                            +S[(i-1)%L,(j+2)%L] + S[(i-2)%L,(j+1)%L]),#4th nearest neighbor (2,1)\n",
    "                    S[(i+1)%L,j]*S[i,(j+1)%L]*S[(i-1)%L,j]*S[i,(j-1)%L], # sublattice plaquette\n",
    "                    S[i,j]*(S[(i+2)%L,(j+2)%L] + S[(i-2)%L,(j+2)%L])]#5th nearest neighbor (2,2)\n",
    "    return val"
   ]
  },
  {
   "cell_type": "markdown",
   "metadata": {},
   "source": [
    "### First 4 short range odd couplings"
   ]
  },
  {
   "cell_type": "code",
   "execution_count": 12,
   "metadata": {},
   "outputs": [],
   "source": [
    "def Magnetization(S):\n",
    "    L = S.shape[0];\n",
    "    assert L >=1, \"Lattice linear dim < 1\"\n",
    "    val = np.sum(S);\n",
    "    return val"
   ]
  },
  {
   "cell_type": "code",
   "execution_count": 13,
   "metadata": {},
   "outputs": [],
   "source": [
    "def TripletPlaq(S):\n",
    "    L = S.shape[0];\n",
    "    assert L >=2, \"Lattice too small to have 3 spins on a plaquette\"\n",
    "    val = 0.0;\n",
    "    for j in np.arange(L):\n",
    "        for i in np.arange(L):\n",
    "            val += S[i,j]*S[(i+1)%L,j]*S[(i+1)%L,(j+1)%L];\n",
    "            val += S[i,j]*S[i,(j+1)%L]*S[(i-1)%L,(j+1)%L];\n",
    "            val += S[i,j]*S[(i-1)%L,j]*S[(i-1)%L,(j-1)%L];\n",
    "            val += S[i,j]*S[i,(j-1)%L]*S[(i+1)%L,(j-1)%L];\n",
    "    return val"
   ]
  },
  {
   "cell_type": "code",
   "execution_count": 14,
   "metadata": {},
   "outputs": [],
   "source": [
    "def TripletAngle(S):\n",
    "    L = S.shape[0];\n",
    "    assert L >=3, \"Lattice too small to have 3 spins at an angle\"\n",
    "    val = 0.0;\n",
    "    for j in np.arange(L):\n",
    "        for i in np.arange(L):\n",
    "            val += S[i,j]*S[(i+1)%L,j]*S[(i+2)%L,(j+1)%L];\n",
    "            val += S[i,j]*S[i,(j+1)%L]*S[(i-1)%L,(j+2)%L];\n",
    "            val += S[i,j]*S[(i-1)%L,j]*S[(i-2)%L,(j-1)%L];\n",
    "            val += S[i,j]*S[i,(j-1)%L]*S[(i+1)%L,(j-2)%L];\n",
    "    return val"
   ]
  },
  {
   "cell_type": "code",
   "execution_count": 15,
   "metadata": {},
   "outputs": [],
   "source": [
    "def TripletRow(S):\n",
    "    L = S.shape[0];\n",
    "    assert L >=3, \"Lattice too small have 3 spins in a row\"\n",
    "    val = 0.0;\n",
    "    for j in np.arange(L):\n",
    "        for i in np.arange(L):\n",
    "            val += S[i,j]*(S[(i+1)%L,j]*S[(i+2)%L,j] \\\n",
    "                           + S[i,(j+1)%L]*S[i,(j+2)%L])\n",
    "    return val"
   ]
  },
  {
   "cell_type": "code",
   "execution_count": 16,
   "metadata": {},
   "outputs": [],
   "source": [
    "def AllOddCoupling(S):\n",
    "    L = S.shape[0];\n",
    "    assert L >=3, \"Lattice too small to fit first 4 odd couplings\"\n",
    "    val = np.zeros(4,dtype = float);\n",
    "    for j in np.arange(L):\n",
    "        for i in np.arange(L):\n",
    "            val += [0, #magnetization\n",
    "                    S[i,j]*S[(i+1)%L,j]*S[(i+1)%L,(j+1)%L]+\n",
    "                    S[i,j]*S[i,(j+1)%L]*S[(i-1)%L,(j+1)%L]+\n",
    "                    S[i,j]*S[(i-1)%L,j]*S[(i-1)%L,(j-1)%L]+\n",
    "                    S[i,j]*S[i,(j-1)%L]*S[(i+1)%L,(j-1)%L], #3 spin plaquette\n",
    "                    S[i,j]*S[(i+1)%L,j]*S[(i+2)%L,(j+1)%L]+\n",
    "                    S[i,j]*S[i,(j+1)%L]*S[(i-1)%L,(j+2)%L]+\n",
    "                    S[i,j]*S[(i-1)%L,j]*S[(i-2)%L,(j-1)%L]+\n",
    "                    S[i,j]*S[i,(j-1)%L]*S[(i+1)%L,(j-2)%L], # 3 spin angle\n",
    "                    S[i,j]*(S[(i+1)%L,j]*S[(i+2)%L,j] + \n",
    "                            S[i,(j+1)%L]*S[i,(j+2)%L])] #3 spin row\n",
    "    val[0] = np.sum(S);\n",
    "    return val"
   ]
  },
  {
   "cell_type": "markdown",
   "metadata": {},
   "source": [
    "### Clustering for Wolff Algorithm"
   ]
  },
  {
   "cell_type": "code",
   "execution_count": 17,
   "metadata": {},
   "outputs": [],
   "source": [
    "def NNBonds(p):\n",
    "    '''returns set of bonds that connect site p to its 4 nearest neighbors'''\n",
    "    i = p[0]; j = p[1];\n",
    "    nbrs = [(i,(j+1)%L),(i,(j-1)%L),((i+1)%L,j),((i-1)%L,j)]\n",
    "    bonds = set();\n",
    "    for n in nbrs:\n",
    "        bonds.add(frozenset({p,n}))\n",
    "    return bonds"
   ]
  },
  {
   "cell_type": "code",
   "execution_count": 18,
   "metadata": {},
   "outputs": [],
   "source": [
    "def buildCluster(S):\n",
    "    ''''Build Wolff cluster starting from random site for spin configuration S'''\n",
    "    #random seed location\n",
    "    L = S.shape[0];\n",
    "    init = (np.random.choice(L),np.random.choice(L))\n",
    "    Si = S[init[0],init[1]]\n",
    "    \n",
    "    #cluster starts with 1 element\n",
    "    cluster = {init}\n",
    "    \n",
    "    #nearest neighbors make up the frontier\n",
    "    bonds = NNBonds(init)\n",
    "    \n",
    "    #set of points already considered for adding to cluster\n",
    "    checked = set();\n",
    "    \n",
    "    #while the set of fresh bonds is nonempty, do...\n",
    "    while (len(bonds) > 0):\n",
    "        if len(cluster) == Ns:\n",
    "            break;\n",
    "        #take out one bond in fresh bond set\n",
    "        #frozenset ijbond represent unordered edge (i,j)\n",
    "        ijbond = bonds.pop() \n",
    "        #add to list of bonds that have been checked\n",
    "        checked.add(ijbond)\n",
    "        #pick out element j from edge (i,j)\n",
    "        jwrap = ijbond - cluster \n",
    "        #both i and j may already be in cluster, in this case skip to next iteration\n",
    "        if len(jwrap) == 0:\n",
    "            continue;\n",
    "        #otherwise, only i in cluster already, we are left with j\n",
    "        j = set(jwrap).pop() #convert to usable form\n",
    "        Sj = S[j[0],j[1]]\n",
    "        #if parallel to seed spin, activate bond with probability Pij\n",
    "        if Sj == Si:\n",
    "            r = np.random.random()\n",
    "            if r < Pij:\n",
    "                #add j to cluster, add nearest bonds of j to the fresh bond list\n",
    "                #also remove bonds already considered from the fresh bond list\n",
    "                cluster.add(j) \n",
    "                bonds |= NNBonds(j) \n",
    "                bonds -= checked \n",
    "    return cluster"
   ]
  },
  {
   "cell_type": "markdown",
   "metadata": {},
   "source": [
    "### Integrated MC + RG simulation function"
   ]
  },
  {
   "cell_type": "code",
   "execution_count": 19,
   "metadata": {},
   "outputs": [],
   "source": [
    "def Energy(S):\n",
    "    '''Brute force Find energy of spin configuration S for sanity check'''\n",
    "    L = S.shape[0];\n",
    "    E = 0;\n",
    "    for i in np.arange(L):\n",
    "        for j in np.arange(L):\n",
    "            E += K*S[i,j]*(S[i,(j+1)%L] + S[(i+1)%L,j])\n",
    "    E += h*np.sum(S)\n",
    "    return E"
   ]
  },
  {
   "cell_type": "code",
   "execution_count": 23,
   "metadata": {},
   "outputs": [],
   "source": [
    "def RunMCRG(K,h):\n",
    "    '''Run MCRG simulation to find y_t, y_h exponent, \n",
    "    keeping Nc_even and Nc_odd coupling terms'''\n",
    "    print('running MCRG for linear size',L,'lattice.')\n",
    "    print('Setting K =', K, \" and h = \",h)\n",
    "\n",
    "    #measurement accumulators for y_t\n",
    "    evenK = np.zeros(7,dtype = float)\n",
    "    evenK_new = np.zeros(7,dtype = float)\n",
    "    mix_11 = np.zeros((7,7),dtype=float)\n",
    "    mix_01 = np.zeros((7,7),dtype=float)\n",
    "    #measurement accumulators for y_h\n",
    "    oddK = np.zeros(4,dtype = float)\n",
    "    oddK_new = np.zeros(4,dtype = float)\n",
    "    mix_11_odd = np.zeros((4,4),dtype=float)\n",
    "    mix_01_odd = np.zeros((4,4),dtype=float)\n",
    "    \n",
    "    #Run simulation\n",
    "    k = 0;\n",
    "    for n in np.arange(nmeas+nwarm):\n",
    "        # Every MC n-loop, build a Wolff cluster and flip it\n",
    "        # Result: A S-field config drawn with probability propto Boltzmann weight\n",
    "        cluster = buildCluster(S)\n",
    "        for p in cluster:\n",
    "            S[p[0],p[1]] = -S[p[0],p[1]]\n",
    "            \n",
    "        #Sanity checks\n",
    "        if n % interval == 0:\n",
    "            #energy[k] = Energy(S);\n",
    "            clustersize[k] = len(cluster);\n",
    "            k = k+1   \n",
    "            \n",
    "        # take measurements every (interval) steps if finished warmup\n",
    "        if n % interval == 0 and n >= nwarm:\n",
    "            if n % 100 == 0:\n",
    "                #monitor progress\n",
    "                print(\"iteration\",n)\n",
    "            if layer == 1:\n",
    "                S1 = RGTransform(S,b);\n",
    "                evenK += AllEvenCoupling(S)\n",
    "                evenK_new += AllEvenCoupling(S1)\n",
    "                oddK += AllOddCoupling(S)\n",
    "                oddK_new += AllOddCoupling(S1)\n",
    "                #A*B = C, B is unknown, A is symmetric\n",
    "                #Problem: C is not symmetric!?\n",
    "                mix_11 += np.outer(AllEvenCoupling(S1),AllEvenCoupling(S1))\n",
    "                mix_01 += np.outer(AllEvenCoupling(S1),AllEvenCoupling(S))\n",
    "                mix_11_odd += np.outer(AllOddCoupling(S1),AllOddCoupling(S1))\n",
    "                mix_01_odd += np.outer(AllOddCoupling(S1),AllOddCoupling(S))\n",
    "\n",
    "            elif layer == 2:\n",
    "                assert L > 8, \"Lattice too small\"\n",
    "                S1 = RGTransform(S,b);\n",
    "                S2 = RGTransform(S1,b);\n",
    "                evenK += AllEvenCoupling(S1)\n",
    "                evenK_new += AllEvenCoupling(S2)\n",
    "                oddK += AllOddCoupling(S1)\n",
    "                oddK_new += AllOddCoupling(S2)\n",
    "                #A*B = C, B is unknown, A is symmetric\n",
    "                #Problem: C is not symmetric!?\n",
    "                mix_11 += np.outer(AllEvenCoupling(S2),AllEvenCoupling(S2))\n",
    "                mix_01 += np.outer(AllEvenCoupling(S2),AllEvenCoupling(S1))\n",
    "                mix_11_odd += np.outer(AllOddCoupling(S2),AllOddCoupling(S2))\n",
    "                mix_01_odd += np.outer(AllOddCoupling(S2),AllOddCoupling(S1))\n",
    "\n",
    "            elif layer == 3:\n",
    "                assert L > 16, \"Lattice too small\"\n",
    "                S1 = RGTransform(S,b);\n",
    "                S2 = RGTransform(S1,b);\n",
    "                S3 = RGTransform(S2,b);\n",
    "                evenK += AllEvenCoupling(S2)\n",
    "                evenK_new += AllEvenCoupling(S3)\n",
    "                oddK += AllOddCoupling(S2)\n",
    "                oddK_new += AllOddCoupling(S3)\n",
    "                #A*B = C, B is unknown, A is symmetric\n",
    "                #Problem: C is not symmetric!?\n",
    "                mix_11 += np.outer(AllEvenCoupling(S3),AllEvenCoupling(S3))\n",
    "                mix_01 += np.outer(AllEvenCoupling(S3),AllEvenCoupling(S2))\n",
    "                mix_11_odd += np.outer(AllOddCoupling(S3),AllOddCoupling(S3))\n",
    "                mix_01_odd += np.outer(AllOddCoupling(S3),AllOddCoupling(S2))\n",
    "\n",
    "            elif layer == 4:\n",
    "                assert L > 32, \"Lattice too small\"\n",
    "                S1 = RGTransform(S,b);\n",
    "                S2 = RGTransform(S1,b);\n",
    "                S3 = RGTransform(S2,b);\n",
    "                S4 = RGTransform(S3,b);\n",
    "                evenK += AllEvenCoupling(S3)\n",
    "                evenK_new += AllEvenCoupling(S4)\n",
    "                oddK += AllOddCoupling(S3)\n",
    "                oddK_new += AllOddCoupling(S4)\n",
    "                #A*B = C, B is unknown, A is symmetric\n",
    "                #Problem: C is not symmetric!?\n",
    "                mix_11 += np.outer(AllEvenCoupling(S4),AllEvenCoupling(S4))\n",
    "                mix_01 += np.outer(AllEvenCoupling(S4),AllEvenCoupling(S3))\n",
    "                mix_11_odd += np.outer(AllOddCoupling(S4),AllOddCoupling(S4))\n",
    "                mix_01_odd += np.outer(AllOddCoupling(S4),AllOddCoupling(S3))\n",
    "            else:\n",
    "                raise ValueError(\"too many RG iterations\")\n",
    "                       \n",
    "    #Results\n",
    "    evenK /= ndata; evenK_new /= ndata; mix_11 /= ndata; mix_01 /= ndata;\n",
    "    oddK /= ndata; oddK_new /= ndata; mix_11_odd /= ndata; mix_01_odd /= ndata;\n",
    "\n",
    "    print('evenK = ',evenK)\n",
    "    print('evenK_new = ', evenK_new)\n",
    "    print('mix_11 = ', mix_11)\n",
    "    print('subtract ',np.outer(evenK_new,evenK_new))\n",
    "    print('mix_01 = ', mix_01)\n",
    "    print('subtract ',np.outer(evenK_new,evenK))\n",
    "    MatA_even = mix_11-np.outer(evenK_new,evenK_new)\n",
    "    MatC_even = mix_01-np.outer(evenK_new,evenK)\n",
    "    print('MatA_even (lhs) = ',MatA_even)\n",
    "    print('MatC_even (rhs) = ',MatC_even)\n",
    "    print('\\n')\n",
    "    \n",
    "    print('oddK = ',oddK)\n",
    "    print('oddK_new = ', oddK_new)\n",
    "    print('mix_11 = ', mix_11_odd)\n",
    "    print('subtract ', np.outer(oddK_new,oddK_new))\n",
    "    print('mix_01 = ', mix_01_odd)\n",
    "    print('subtract ', np.outer(oddK_new,oddK))\n",
    "    #TODO: cancellation bad, how to avoid?\n",
    "    MatA_odd = mix_11_odd-np.outer(oddK_new,oddK_new)\n",
    "    MatC_odd = mix_01_odd-np.outer(oddK_new,oddK)\n",
    "    print('MatA_odd (lhs) = ',MatA_odd)\n",
    "    print('MatC_odd (rhs) = ',MatC_odd)\n",
    "    print('\\n')\n",
    "\n",
    "    \n",
    "    return MatA_even, MatC_even, MatA_odd, MatC_odd"
   ]
  },
  {
   "cell_type": "code",
   "execution_count": 24,
   "metadata": {},
   "outputs": [],
   "source": [
    "def getExponent(MatA,MatC,Nc):\n",
    "    '''Get thermal or magnetic exponent based on output of RunMCRG\n",
    "    and desired number of coupling constants to consider Nc'''\n",
    "    LinRGMat = la.solve(MatA[0:Nc,0:Nc],MatC[0:Nc,0:Nc])\n",
    "    lmbd = la.eigvals(LinRGMat);\n",
    "    amplitude = np.absolute(lmbd)\n",
    "    imax = np.argmax(amplitude)\n",
    "    y = np.log(lmbd[imax])/np.log(b)\n",
    "    return y"
   ]
  },
  {
   "cell_type": "markdown",
   "metadata": {},
   "source": [
    "## Test for specific set of input parameters"
   ]
  },
  {
   "cell_type": "code",
   "execution_count": 25,
   "metadata": {
    "scrolled": true
   },
   "outputs": [
    {
     "name": "stdout",
     "output_type": "stream",
     "text": [
      "['64', '1000', '3000', '10', '4', 'testmultipleRG']\n"
     ]
    },
    {
     "data": {
      "text/plain": [
       "<matplotlib.colorbar.Colorbar at 0x239b3d24128>"
      ]
     },
     "execution_count": 25,
     "metadata": {},
     "output_type": "execute_result"
    },
    {
     "data": {
      "image/png": "[encoded data removed]",
      "text/plain": [
       "<Figure size 432x288 with 2 Axes>"
      ]
     },
     "metadata": {
      "needs_background": "light"
     },
     "output_type": "display_data"
    }
   ],
   "source": [
    "# READ SETTINGS FROM FILE\n",
    "lines = [line.rstrip('\\n') for line in open('setting.txt')]\n",
    "# Lattice and MC Parameters, Output File name\n",
    "L = int(lines[0])\n",
    "nwarm = int(lines[1]); \n",
    "nmeas = int(lines[2]);\n",
    "interval = int(lines[3]);\n",
    "filename = lines[5]\n",
    "print(lines)\n",
    "# Start on Critical manifold\n",
    "Kc = np.arccosh(3)/4; # Critical temperature Kc assumed to be known\n",
    "K = Kc; h = 0; \n",
    "\n",
    "# RG analysis setting\n",
    "b = 2; \n",
    "layer = int(lines[4]); #How many layers of MCRG to do\n",
    "\n",
    "# Derived constants\n",
    "Ns = L*L; #total number of grid points\n",
    "ndata = nmeas//interval\n",
    "Pij = 1-np.exp(-2*K) # Wolff add probability\n",
    "energy = np.zeros((nmeas+nwarm)//interval,dtype=float)\n",
    "clustersize = np.zeros((nmeas+nwarm)//interval,dtype=int)\n",
    "\n",
    "#Initialize 2d spin field\n",
    "S = np.random.choice([-1,1],(L,L))\n",
    "plt.imshow(S);plt.colorbar()"
   ]
  },
  {
   "cell_type": "code",
   "execution_count": 26,
   "metadata": {},
   "outputs": [
    {
     "name": "stdout",
     "output_type": "stream",
     "text": [
      "=========== SETTINGS FROM FILE ==================\n",
      "Linear Dimension of Lattice: 64\n",
      "How many layers of RG Transformations?  4\n",
      "Number of warm up Monte Carlo sweeps: 1000\n",
      "Number of measurement Monte Carlo sweeps: 3000\n",
      "Interval between data measurements: 10\n",
      "Saving results to: data/testmultipleRG.txt\n",
      "================ RUNNING ======================\n",
      "running MCRG for linear size 64 lattice.\n",
      "Setting K = 0.4406867935097715  and h =  0\n",
      "iteration 1000\n"
     ]
    },
    {
     "ename": "KeyboardInterrupt",
     "evalue": "",
     "output_type": "error",
     "traceback": [
      "\u001b[1;31m---------------------------------------------------------------------------\u001b[0m",
      "\u001b[1;31mKeyboardInterrupt\u001b[0m                         Traceback (most recent call last)",
      "\u001b[1;32m<ipython-input-26-73e01a4845ce>\u001b[0m in \u001b[0;36m<module>\u001b[1;34m\u001b[0m\n\u001b[0;32m      8\u001b[0m \u001b[0mprint\u001b[0m\u001b[1;33m(\u001b[0m\u001b[1;34m\"================ RUNNING ======================\"\u001b[0m\u001b[1;33m)\u001b[0m\u001b[1;33m\u001b[0m\u001b[1;33m\u001b[0m\u001b[0m\n\u001b[0;32m      9\u001b[0m \u001b[1;33m\u001b[0m\u001b[0m\n\u001b[1;32m---> 10\u001b[1;33m \u001b[0mMatA_even\u001b[0m\u001b[1;33m,\u001b[0m \u001b[0mMatC_even\u001b[0m\u001b[1;33m,\u001b[0m \u001b[0mMatA_odd\u001b[0m\u001b[1;33m,\u001b[0m \u001b[0mMatC_odd\u001b[0m \u001b[1;33m=\u001b[0m \u001b[0mRunMCRG\u001b[0m\u001b[1;33m(\u001b[0m\u001b[0mK\u001b[0m\u001b[1;33m,\u001b[0m\u001b[0mh\u001b[0m\u001b[1;33m)\u001b[0m\u001b[1;33m\u001b[0m\u001b[1;33m\u001b[0m\u001b[0m\n\u001b[0m\u001b[0;32m     11\u001b[0m \u001b[1;33m\u001b[0m\u001b[0m\n\u001b[0;32m     12\u001b[0m \u001b[0myt_arr\u001b[0m \u001b[1;33m=\u001b[0m \u001b[0mnp\u001b[0m\u001b[1;33m.\u001b[0m\u001b[0mempty\u001b[0m\u001b[1;33m(\u001b[0m\u001b[1;36m7\u001b[0m\u001b[1;33m,\u001b[0m\u001b[0mdtype\u001b[0m \u001b[1;33m=\u001b[0m \u001b[0mcomplex\u001b[0m\u001b[1;33m)\u001b[0m\u001b[1;33m;\u001b[0m\u001b[1;33m\u001b[0m\u001b[1;33m\u001b[0m\u001b[0m\n",
      "\u001b[1;32m<ipython-input-23-db86a7d81065>\u001b[0m in \u001b[0;36mRunMCRG\u001b[1;34m(K, h)\u001b[0m\n\u001b[0;32m     21\u001b[0m         \u001b[1;31m# Every MC n-loop, build a Wolff cluster and flip it\u001b[0m\u001b[1;33m\u001b[0m\u001b[1;33m\u001b[0m\u001b[1;33m\u001b[0m\u001b[0m\n\u001b[0;32m     22\u001b[0m         \u001b[1;31m# Result: A S-field config drawn with probability propto Boltzmann weight\u001b[0m\u001b[1;33m\u001b[0m\u001b[1;33m\u001b[0m\u001b[1;33m\u001b[0m\u001b[0m\n\u001b[1;32m---> 23\u001b[1;33m         \u001b[0mcluster\u001b[0m \u001b[1;33m=\u001b[0m \u001b[0mbuildCluster\u001b[0m\u001b[1;33m(\u001b[0m\u001b[0mS\u001b[0m\u001b[1;33m)\u001b[0m\u001b[1;33m\u001b[0m\u001b[1;33m\u001b[0m\u001b[0m\n\u001b[0m\u001b[0;32m     24\u001b[0m         \u001b[1;32mfor\u001b[0m \u001b[0mp\u001b[0m \u001b[1;32min\u001b[0m \u001b[0mcluster\u001b[0m\u001b[1;33m:\u001b[0m\u001b[1;33m\u001b[0m\u001b[1;33m\u001b[0m\u001b[0m\n\u001b[0;32m     25\u001b[0m             \u001b[0mS\u001b[0m\u001b[1;33m[\u001b[0m\u001b[0mp\u001b[0m\u001b[1;33m[\u001b[0m\u001b[1;36m0\u001b[0m\u001b[1;33m]\u001b[0m\u001b[1;33m,\u001b[0m\u001b[0mp\u001b[0m\u001b[1;33m[\u001b[0m\u001b[1;36m1\u001b[0m\u001b[1;33m]\u001b[0m\u001b[1;33m]\u001b[0m \u001b[1;33m=\u001b[0m \u001b[1;33m-\u001b[0m\u001b[0mS\u001b[0m\u001b[1;33m[\u001b[0m\u001b[0mp\u001b[0m\u001b[1;33m[\u001b[0m\u001b[1;36m0\u001b[0m\u001b[1;33m]\u001b[0m\u001b[1;33m,\u001b[0m\u001b[0mp\u001b[0m\u001b[1;33m[\u001b[0m\u001b[1;36m1\u001b[0m\u001b[1;33m]\u001b[0m\u001b[1;33m]\u001b[0m\u001b[1;33m\u001b[0m\u001b[1;33m\u001b[0m\u001b[0m\n",
      "\u001b[1;32m<ipython-input-18-d2cd609f76da>\u001b[0m in \u001b[0;36mbuildCluster\u001b[1;34m(S)\u001b[0m\n\u001b[0;32m     34\u001b[0m         \u001b[1;31m#if parallel to seed spin, activate bond with probability Pij\u001b[0m\u001b[1;33m\u001b[0m\u001b[1;33m\u001b[0m\u001b[1;33m\u001b[0m\u001b[0m\n\u001b[0;32m     35\u001b[0m         \u001b[1;32mif\u001b[0m \u001b[0mSj\u001b[0m \u001b[1;33m==\u001b[0m \u001b[0mSi\u001b[0m\u001b[1;33m:\u001b[0m\u001b[1;33m\u001b[0m\u001b[1;33m\u001b[0m\u001b[0m\n\u001b[1;32m---> 36\u001b[1;33m             \u001b[0mr\u001b[0m \u001b[1;33m=\u001b[0m \u001b[0mnp\u001b[0m\u001b[1;33m.\u001b[0m\u001b[0mrandom\u001b[0m\u001b[1;33m.\u001b[0m\u001b[0mrandom\u001b[0m\u001b[1;33m(\u001b[0m\u001b[1;33m)\u001b[0m\u001b[1;33m\u001b[0m\u001b[1;33m\u001b[0m\u001b[0m\n\u001b[0m\u001b[0;32m     37\u001b[0m             \u001b[1;32mif\u001b[0m \u001b[0mr\u001b[0m \u001b[1;33m<\u001b[0m \u001b[0mPij\u001b[0m\u001b[1;33m:\u001b[0m\u001b[1;33m\u001b[0m\u001b[1;33m\u001b[0m\u001b[0m\n\u001b[0;32m     38\u001b[0m                 \u001b[1;31m#add j to cluster, add nearest bonds of j to the fresh bond list\u001b[0m\u001b[1;33m\u001b[0m\u001b[1;33m\u001b[0m\u001b[1;33m\u001b[0m\u001b[0m\n",
      "\u001b[1;31mKeyboardInterrupt\u001b[0m: "
     ]
    }
   ],
   "source": [
    "print(\"=========== SETTINGS FROM FILE ==================\")\n",
    "print(\"Linear Dimension of Lattice:\", L )\n",
    "print(\"How many layers of RG Transformations? \", layer )\n",
    "print(\"Number of warm up Monte Carlo sweeps:\", nwarm )\n",
    "print(\"Number of measurement Monte Carlo sweeps:\", nmeas )\n",
    "print(\"Interval between data measurements:\", interval)\n",
    "print(\"Saving results to:\",\"data/\"+filename+'.txt')\n",
    "print(\"================ RUNNING ======================\")\n",
    "\n",
    "MatA_even, MatC_even, MatA_odd, MatC_odd = RunMCRG(K,h)\n",
    "\n",
    "yt_arr = np.empty(7,dtype = complex);\n",
    "yh_arr = np.empty(4, dtype = complex);\n",
    "\n",
    "for i in np.arange(7):\n",
    "    yt_arr[i] = getExponent(MatA_even,MatC_even,i+1)\n",
    "\n",
    "for i in np.arange(4):\n",
    "    yh_arr[i] = getExponent(MatA_odd,MatC_odd,i+1)\n",
    "    \n",
    "    \n",
    "print(\"==================== RESULTS ======================\")\n",
    "print(\"mean cluster size as fraction of lattice size: \",np.mean(clustersize)/Ns)\n",
    "print(\"y_t array = \", yt_arr)\n",
    "print(\"y_h array = \", yh_arr)"
   ]
  },
  {
   "cell_type": "code",
   "execution_count": 24,
   "metadata": {
    "scrolled": true
   },
   "outputs": [
    {
     "data": {
      "text/plain": [
       "[<matplotlib.lines.Line2D at 0x18620a770f0>]"
      ]
     },
     "execution_count": 24,
     "metadata": {},
     "output_type": "execute_result"
    },
    {
     "data": {
      "image/png": "[encoded data removed]",
      "text/plain": [
       "<Figure size 432x288 with 1 Axes>"
      ]
     },
     "metadata": {
      "needs_background": "light"
     },
     "output_type": "display_data"
    }
   ],
   "source": [
    "plt.plot(energy)"
   ]
  },
  {
   "cell_type": "code",
   "execution_count": 25,
   "metadata": {},
   "outputs": [
    {
     "data": {
      "text/plain": [
       "[<matplotlib.lines.Line2D at 0x18620ade160>]"
      ]
     },
     "execution_count": 25,
     "metadata": {},
     "output_type": "execute_result"
    },
    {
     "data": {
      "image/png": "[encoded data removed]",
      "text/plain": [
       "<Figure size 432x288 with 1 Axes>"
      ]
     },
     "metadata": {
      "needs_background": "light"
     },
     "output_type": "display_data"
    }
   ],
   "source": [
    "plt.plot(clustersize)"
   ]
  },
  {
   "cell_type": "code",
   "execution_count": 27,
   "metadata": {
    "scrolled": true
   },
   "outputs": [
    {
     "name": "stdout",
     "output_type": "stream",
     "text": [
      "save data to file:test.txt\n"
     ]
    }
   ],
   "source": [
    "#WRITE DATA TO TEXT FILE\n",
    "f = open(\"data/\"+filename+'.txt','a')\n",
    "print(\"======================= SETTINGS =======================\",file= f)\n",
    "print(\"L = \", L, file = f)\n",
    "print(\"K = \", K, file = f)\n",
    "print(\"h = \", h, file = f)\n",
    "print(\"b = \", b, file = f)\n",
    "print(\"layer = \", layer, file = f)\n",
    "print(\"nwarm = \", nwarm, file = f)\n",
    "print(\"nmeas = \", nmeas, file = f)\n",
    "print(\"interval = \", interval, file = f)\n",
    "print(\"ndata = \", ndata, '\\n', file = f)\n",
    "print(\"======================== RESULTS ========================\", file = f)\n",
    "print(\"Mean Wolff cluster size = \",np.mean(clustersize)/Ns, '*', Ns, \"\\n\",file = f)\n",
    "print(\"y_t array = \", yt_arr,\"\\n\",file = f)\n",
    "print(\"y_h array = \", yh_arr,\"\\n\",file = f)\n",
    "print(\"======================= SANITY CHECK ====================\", file = f)\n",
    "print('MatA_even (lhs) = ',MatA_even, \"\\n\",file = f)\n",
    "print('MatC_even (rhs) = ',MatC_even, \"\\n\",file = f)\n",
    "print('MatA_odd (lhs) = ',MatA_odd, \"\\n\",file = f)\n",
    "print('MatC_odd (rhs) = ',MatC_odd, \"\\n\",file = f)\n",
    "print(\"=========================== END =========================\", file = f)\n",
    "print('\\n\\n\\n\\n\\n',file = f)\n",
    "f.close()\n",
    "\n",
    "print(\"wrote run data to: data/\"+filename+'.txt')"
   ]
  }
 ],
 "metadata": {
  "kernelspec": {
   "display_name": "Python 3",
   "language": "python",
   "name": "python3"
  },
  "language_info": {
   "codemirror_mode": {
    "name": "ipython",
    "version": 3
   },
   "file_extension": ".py",
   "mimetype": "text/x-python",
   "name": "python",
   "nbconvert_exporter": "python",
   "pygments_lexer": "ipython3",
   "version": "3.7.1"
  }
 },
 "nbformat": 4,
 "nbformat_minor": 2
}
