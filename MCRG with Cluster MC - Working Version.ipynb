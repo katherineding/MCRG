{
 "cells": [
  {
   "cell_type": "markdown",
   "metadata": {},
   "source": [
    "# MCRG Code following Swendsen Description circa 1982, Using Wolff's Algorithm to combat critical slowing down"
   ]
  },
  {
   "cell_type": "code",
   "execution_count": 1,
   "metadata": {},
   "outputs": [],
   "source": [
    "from __future__ import division #safeguard against evil floor division\n",
    "\n",
    "import numpy as np\n",
    "from scipy import linalg as la\n",
    "import matplotlib.pyplot as plt\n",
    "import timeit\n",
    "%load_ext line_profiler\n",
    "\n",
    "np.set_printoptions(precision = 3,suppress=False)"
   ]
  },
  {
   "cell_type": "markdown",
   "metadata": {},
   "source": [
    "## 2D Ising Model, periodic B.C., initial Hamiltonian contains only nearest neighbor interactions"
   ]
  },
  {
   "cell_type": "markdown",
   "metadata": {},
   "source": [
    "$$\\mathcal{H} = -\\beta H_\\Omega = K\\sum_{\\langle i,j\\rangle} \\sigma_i \\sigma_j + h\\sum_{i = 0}^{N_s} \\sigma_i$$"
   ]
  },
  {
   "cell_type": "markdown",
   "metadata": {},
   "source": [
    "### Block spin transform, scale factor = b "
   ]
  },
  {
   "cell_type": "code",
   "execution_count": 2,
   "metadata": {},
   "outputs": [],
   "source": [
    "def assignBlockSpin(total):\n",
    "    '''Rule for assigning block spin value. Random tiebreaker'''\n",
    "    if total > 0:\n",
    "        s = 1;\n",
    "    elif total < 0:\n",
    "        s = -1;\n",
    "    else:\n",
    "        s = np.random.choice([-1,1])\n",
    "    return s"
   ]
  },
  {
   "cell_type": "code",
   "execution_count": 3,
   "metadata": {},
   "outputs": [],
   "source": [
    "def RGTransform(S,b):\n",
    "    '''Take a spin config S and produce renormalized block spin config that \n",
    "    groups b*b spins together into one block. Does not modify input S'''\n",
    "    L = S.shape[0];\n",
    "    assert L//b >= 2, \"Renormalized lattice will have linear dimension <=1\"\n",
    "    newS = np.empty([L//b, L//b],dtype=int)\n",
    "    for j in np.arange(L//b):\n",
    "        for i in np.arange(L//b):\n",
    "            block = S[(b*i):(b*i+b),(b*j):(b*j+b)]\n",
    "            total = np.sum(block)\n",
    "            newS[i,j] = assignBlockSpin(total);    \n",
    "    return newS"
   ]
  },
  {
   "cell_type": "markdown",
   "metadata": {},
   "source": [
    "### First 7 short range even couplings"
   ]
  },
  {
   "cell_type": "code",
   "execution_count": 4,
   "metadata": {},
   "outputs": [],
   "source": [
    "def N1Coupl(S):\n",
    "    '''for spin field config S, \n",
    "    measure sum SiSj for i,j that are nearest neighbors, dir = (1,0)'''\n",
    "    L = S.shape[0];\n",
    "    assert L >=2, \"Lattice too small for NN interaction\"\n",
    "    val = 0.0;\n",
    "    for j in np.arange(L):\n",
    "        for i in np.arange(L):\n",
    "            val += S[i,j]*(S[i,(j+1)%L] + S[(i+1)%L,j])\n",
    "    return val"
   ]
  },
  {
   "cell_type": "code",
   "execution_count": 5,
   "metadata": {},
   "outputs": [],
   "source": [
    "def N2Coupl(S):\n",
    "    '''for spin field config S, \n",
    "    measure sum SiSj for i,j that are next-nearest neighbors, dir = (1,1)'''\n",
    "    L = S.shape[0];\n",
    "    assert L >=2, \"Lattice too small for next nearest neighbor interaction\"\n",
    "    val = 0.0;\n",
    "    for j in np.arange(L):\n",
    "        for i in np.arange(L):\n",
    "            val += S[i,j]*(S[(i+1)%L,(j+1)%L] + S[(i-1)%L,(j+1)%L])\n",
    "    return val"
   ]
  },
  {
   "cell_type": "code",
   "execution_count": 6,
   "metadata": {},
   "outputs": [],
   "source": [
    "def N3Coupl(S):\n",
    "    '''for spin field config S, \n",
    "    measure sum SiSj for i,j that are third-nearest neighbors,dir = (2,0)'''\n",
    "    L = S.shape[0];\n",
    "    assert L >=3, \"Lattice too small for third nearest neighbor interaction\"\n",
    "    val = 0.0;\n",
    "    for j in np.arange(L):\n",
    "        for i in np.arange(L):\n",
    "            val += S[i,j]*(S[i,(j+2)%L] + S[(i+2)%L,j])\n",
    "    return val"
   ]
  },
  {
   "cell_type": "code",
   "execution_count": 7,
   "metadata": {},
   "outputs": [],
   "source": [
    "def N4Coupl(S):\n",
    "    '''for spin field config S, \n",
    "    measure sum SiSj for i,j that are 4th-nearest neighbors, dir = (2,1)'''\n",
    "    L = S.shape[0];\n",
    "    assert L >=3, \"Lattice too small for 4th nearest neighbor interaction\"\n",
    "    val = 0.0;\n",
    "    for j in np.arange(L):\n",
    "        for i in np.arange(L):\n",
    "            val += S[i,j]*(S[(i+1)%L,(j+2)%L] + S[(i+2)%L,(j+1)%L] \n",
    "                           +S[(i-1)%L,(j+2)%L] + S[(i-2)%L,(j+1)%L])\n",
    "    return val"
   ]
  },
  {
   "cell_type": "code",
   "execution_count": 8,
   "metadata": {},
   "outputs": [],
   "source": [
    "def N5Coupl(S):\n",
    "    '''for spin field config S, \n",
    "    measure sum SiSj for i,j that are 5th-nearest neighbors,dir = (2,2)'''\n",
    "    L = S.shape[0];\n",
    "    assert L >=3, \"Lattice too small for third nearest neighbor interaction\"\n",
    "    val = 0.0;\n",
    "    for j in np.arange(L):\n",
    "        for i in np.arange(L):\n",
    "            val += S[i,j]*(S[(i+2)%L,(j+2)%L] + S[(i-2)%L,(j+2)%L])\n",
    "    return val"
   ]
  },
  {
   "cell_type": "code",
   "execution_count": 9,
   "metadata": {},
   "outputs": [],
   "source": [
    "def PlaqCoupl(S):\n",
    "    '''for spin field config S, \n",
    "    measure sum SiSjSlSk for i,j,k,l that form 1 plaquette,'''\n",
    "    L = S.shape[0];\n",
    "    assert L >=2, \"Lattice too small to form plaquettes\"\n",
    "    val = 0.0;\n",
    "    for j in np.arange(L):\n",
    "        for i in np.arange(L):\n",
    "            val += S[i,j]*S[i,(j+1)%L]*S[(i+1)%L,(j+1)%L]*S[(i+1)%L,j]\n",
    "    return val"
   ]
  },
  {
   "cell_type": "code",
   "execution_count": 10,
   "metadata": {},
   "outputs": [],
   "source": [
    "def SubPlaqCoupl(S):\n",
    "    '''for spin field config S, \n",
    "    measure sum SiSjSlSk for i,j,k,l that form 1 sublattice plaquette,'''\n",
    "    L = S.shape[0];\n",
    "    assert L >=3, \"Lattice too small to form sublattice plaquettes\"\n",
    "    val = 0.0;\n",
    "    for j in np.arange(L):\n",
    "        for i in np.arange(L):\n",
    "            val += S[(i+1)%L,j]*S[i,(j+1)%L]*S[(i-1)%L,j]*S[i,(j-1)%L]\n",
    "    return val"
   ]
  },
  {
   "cell_type": "code",
   "execution_count": 11,
   "metadata": {},
   "outputs": [],
   "source": [
    "def AllEvenCoupling(S):\n",
    "    '''for spin field config S, \n",
    "    Integrate measurement of first 7 even correlation functions in one vector'''\n",
    "    L = S.shape[0];\n",
    "    assert L >=3, \"Lattice too small to fit first 7 even couplings\"\n",
    "    val = np.zeros(7,dtype = float);\n",
    "    for j in np.arange(L):\n",
    "        for i in np.arange(L):\n",
    "            val += [S[i,j]*(S[i,(j+1)%L] + S[(i+1)%L,j]), #nearest neighbor (1,0)\n",
    "                    S[i,j]*(S[(i+1)%L,(j+1)%L] + S[(i-1)%L,(j+1)%L]), #next nearest neighbor (1,1)\n",
    "                    S[i,j]*(S[i,(j+2)%L] + S[(i+2)%L,j]), #3rd nearest neighbor (2,0)\n",
    "                    S[i,j]*(S[(i+1)%L,(j+2)%L] + S[(i+2)%L,(j+1)%L] \n",
    "                            +S[(i-1)%L,(j+2)%L] + S[(i-2)%L,(j+1)%L]),#4th nearest neighbor (2,1)\n",
    "                    S[i,j]*(S[(i+2)%L,(j+2)%L] + S[(i-2)%L,(j+2)%L]),#5th nearest neighbor (2,2)\n",
    "                    S[i,j]*S[i,(j+1)%L]*S[(i+1)%L,(j+1)%L]*S[(i+1)%L,j], # plaquette\n",
    "                    S[(i+1)%L,j]*S[i,(j+1)%L]*S[(i-1)%L,j]*S[i,(j-1)%L]] # sublattice plaquette\n",
    "    return val"
   ]
  },
  {
   "cell_type": "markdown",
   "metadata": {},
   "source": [
    "### First 4 short range odd couplings"
   ]
  },
  {
   "cell_type": "code",
   "execution_count": 12,
   "metadata": {},
   "outputs": [],
   "source": [
    "def Magnetization(S):\n",
    "    L = S.shape[0];\n",
    "    assert L >=1, \"Lattice linear dim < 1\"\n",
    "    val = np.sum(S);\n",
    "    return val"
   ]
  },
  {
   "cell_type": "code",
   "execution_count": 13,
   "metadata": {},
   "outputs": [],
   "source": [
    "def TripletPlaq(S):\n",
    "    L = S.shape[0];\n",
    "    assert L >=2, \"Lattice too small to have 3 spins on a plaquette\"\n",
    "    val = 0.0;\n",
    "    for j in np.arange(L):\n",
    "        for i in np.arange(L):\n",
    "            val += S[i,j]*S[(i+1)%L,j]*S[(i+1)%L,(j+1)%L];\n",
    "            val += S[i,j]*S[i,(j+1)%L]*S[(i-1)%L,(j+1)%L];\n",
    "            val += S[i,j]*S[(i-1)%L,j]*S[(i-1)%L,(j-1)%L];\n",
    "            val += S[i,j]*S[i,(j-1)%L]*S[(i+1)%L,(j-1)%L];\n",
    "    return val"
   ]
  },
  {
   "cell_type": "code",
   "execution_count": 14,
   "metadata": {},
   "outputs": [],
   "source": [
    "def TripletAngle(S):\n",
    "    L = S.shape[0];\n",
    "    assert L >=3, \"Lattice too small to have 3 spins at an angle\"\n",
    "    val = 0.0;\n",
    "    for j in np.arange(L):\n",
    "        for i in np.arange(L):\n",
    "            val += S[i,j]*S[(i+1)%L,j]*S[(i+2)%L,(j+1)%L];\n",
    "            val += S[i,j]*S[i,(j+1)%L]*S[(i-1)%L,(j+2)%L];\n",
    "            val += S[i,j]*S[(i-1)%L,j]*S[(i-2)%L,(j-1)%L];\n",
    "            val += S[i,j]*S[i,(j-1)%L]*S[(i+1)%L,(j-2)%L];\n",
    "    return val"
   ]
  },
  {
   "cell_type": "code",
   "execution_count": 15,
   "metadata": {},
   "outputs": [],
   "source": [
    "def TripletRow(S):\n",
    "    L = S.shape[0];\n",
    "    assert L >=3, \"Lattice too small have 3 spins in a row\"\n",
    "    val = 0.0;\n",
    "    for j in np.arange(L):\n",
    "        for i in np.arange(L):\n",
    "            val += S[i,j]*(S[(i+1)%L,j]*S[(i+2)%L,j] \\\n",
    "                           + S[i,(j+1)%L]*S[i,(j+2)%L])\n",
    "    return val"
   ]
  },
  {
   "cell_type": "code",
   "execution_count": 16,
   "metadata": {},
   "outputs": [],
   "source": [
    "def AllOddCoupling(S):\n",
    "    L = S.shape[0];\n",
    "    assert L >=3, \"Lattice too small to fit first 4 odd couplings\"\n",
    "    val = np.zeros(4,dtype = float);\n",
    "    for j in np.arange(L):\n",
    "        for i in np.arange(L):\n",
    "            val += [0, #magnetization\n",
    "                    S[i,j]*S[(i+1)%L,j]*S[(i+1)%L,(j+1)%L]+\n",
    "                    S[i,j]*S[i,(j+1)%L]*S[(i-1)%L,(j+1)%L]+\n",
    "                    S[i,j]*S[(i-1)%L,j]*S[(i-1)%L,(j-1)%L]+\n",
    "                    S[i,j]*S[i,(j-1)%L]*S[(i+1)%L,(j-1)%L], #3 spin plaquette\n",
    "                    S[i,j]*S[(i+1)%L,j]*S[(i+2)%L,(j+1)%L]+\n",
    "                    S[i,j]*S[i,(j+1)%L]*S[(i-1)%L,(j+2)%L]+\n",
    "                    S[i,j]*S[(i-1)%L,j]*S[(i-2)%L,(j-1)%L]+\n",
    "                    S[i,j]*S[i,(j-1)%L]*S[(i+1)%L,(j-2)%L], # 3 spin angle\n",
    "                    S[i,j]*(S[(i+1)%L,j]*S[(i+2)%L,j] + \n",
    "                            S[i,(j+1)%L]*S[i,(j+2)%L])] #3 spin row\n",
    "    val[0] = np.sum(S);\n",
    "    return val"
   ]
  },
  {
   "cell_type": "markdown",
   "metadata": {},
   "source": [
    "### Clustering for Wolff Algorithm"
   ]
  },
  {
   "cell_type": "code",
   "execution_count": 17,
   "metadata": {},
   "outputs": [],
   "source": [
    "def NNBonds(p):\n",
    "    '''returns set of bonds that connect site p to its 4 nearest neighbors'''\n",
    "    i = p[0]; j = p[1];\n",
    "    nbrs = [(i,(j+1)%L),(i,(j-1)%L),((i+1)%L,j),((i-1)%L,j)]\n",
    "    bonds = set();\n",
    "    for n in nbrs:\n",
    "        bonds.add(frozenset({p,n}))\n",
    "    return bonds"
   ]
  },
  {
   "cell_type": "code",
   "execution_count": 18,
   "metadata": {},
   "outputs": [],
   "source": [
    "def buildCluster(S):\n",
    "    ''''Build Wolff cluster starting from random site for spin configuration S'''\n",
    "    #random seed location\n",
    "    L = S.shape[0];\n",
    "    init = (np.random.choice(L),np.random.choice(L))\n",
    "    Si = S[init[0],init[1]]\n",
    "    \n",
    "    #cluster starts with 1 element\n",
    "    cluster = {init}\n",
    "    \n",
    "    #nearest neighbors make up the frontier\n",
    "    bonds = NNBonds(init)\n",
    "    \n",
    "    #set of points already considered for adding to cluster\n",
    "    checked = set();\n",
    "    \n",
    "    #while the set of fresh bonds is nonempty, do...\n",
    "    while (len(bonds) > 0):\n",
    "        if len(cluster) == Ns:\n",
    "            break;\n",
    "        #take out one bond in fresh bond set\n",
    "        #frozenset ijbond represent unordered edge (i,j)\n",
    "        ijbond = bonds.pop() \n",
    "        #add to list of bonds that have been checked\n",
    "        checked.add(ijbond)\n",
    "        #pick out element j from edge (i,j)\n",
    "        jwrap = ijbond - cluster \n",
    "        #both i and j may already be in cluster, in this case skip to next iteration\n",
    "        if len(jwrap) == 0:\n",
    "            continue;\n",
    "        #otherwise, only i in cluster already, we are left with j\n",
    "        j = set(jwrap).pop() #convert to usable form\n",
    "        Sj = S[j[0],j[1]]\n",
    "        #if parallel to seed spin, activate bond with probability Pij\n",
    "        if Sj == Si:\n",
    "            r = np.random.random()\n",
    "            if r < Pij:\n",
    "                #add j to cluster, add nearest bonds of j to the fresh bond list\n",
    "                #also remove bonds already considered from the fresh bond list\n",
    "                cluster.add(j) \n",
    "                bonds |= NNBonds(j) \n",
    "                bonds -= checked \n",
    "    return cluster"
   ]
  },
  {
   "cell_type": "markdown",
   "metadata": {},
   "source": [
    "### Integrated MC + RG simulation function"
   ]
  },
  {
   "cell_type": "code",
   "execution_count": 19,
   "metadata": {},
   "outputs": [],
   "source": [
    "def Energy(S):\n",
    "    '''Brute force Find energy of spin configuration S for sanity check'''\n",
    "    L = S.shape[0];\n",
    "    E = 0;\n",
    "    for i in np.arange(L):\n",
    "        for j in np.arange(L):\n",
    "            E += K*S[i,j]*(S[i,(j+1)%L] + S[(i+1)%L,j])\n",
    "    E += h*np.sum(S)\n",
    "    return E"
   ]
  },
  {
   "cell_type": "code",
   "execution_count": 33,
   "metadata": {},
   "outputs": [],
   "source": [
    "def RunMCRG(K,h):\n",
    "    '''Run MCRG simulation to find y_t, y_h exponent, \n",
    "    keeping Nc_even and Nc_odd coupling terms'''\n",
    "    print('running MCRG for linear size',L,'lattice.')\n",
    "    print('Setting K =', K, \" and h = \",h)\n",
    "\n",
    "    #measurement accumulators for y_t\n",
    "    evenK = np.zeros(7,dtype = float)\n",
    "    evenK_1 = np.zeros(7,dtype = float)\n",
    "    mix_11 = np.zeros((7,7),dtype=float)\n",
    "    mix_01 = np.zeros((7,7),dtype=float)\n",
    "    #measurement accumulators for y_h\n",
    "    oddK = np.zeros(4,dtype = float)\n",
    "    oddK_1 = np.zeros(4,dtype = float)\n",
    "    mix_11_odd = np.zeros((4,4),dtype=float)\n",
    "    mix_01_odd = np.zeros((4,4),dtype=float)\n",
    "    \n",
    "    #Run simulation\n",
    "    k = 0;\n",
    "    for n in np.arange(nmeas+nwarm):\n",
    "        # Every MC n-loop, build a Wolff cluster and flip it\n",
    "        # Result: A S-field config drawn with probability propto Boltzmann weight\n",
    "        cluster = buildCluster(S)\n",
    "        for p in cluster:\n",
    "            S[p[0],p[1]] = -S[p[0],p[1]]\n",
    "            \n",
    "        #Sanity checks\n",
    "        if n % interval == 0:\n",
    "            energy[k] = Energy(S);\n",
    "            clustersize[k] = len(cluster);\n",
    "            k = k+1   \n",
    "            \n",
    "        # take measurements every (interval) steps if finished warmup\n",
    "        if n % interval == 0 and n >= nwarm:\n",
    "            S1 = RGTransform(S,b);\n",
    "            evenK += AllEvenCoupling(S)\n",
    "            evenK_1 += AllEvenCoupling(S1)\n",
    "            oddK += AllOddCoupling(S)\n",
    "            oddK_1 += AllOddCoupling(S1)\n",
    "            #A*B = C, B is unknown, A is symmetric\n",
    "            #Problem: C is not symmetric!?\n",
    "            mix_11 += np.outer(AllEvenCoupling(S1),AllEvenCoupling(S1))\n",
    "            mix_01 += np.outer(AllEvenCoupling(S1),AllEvenCoupling(S))\n",
    "            mix_11_odd += np.outer(AllOddCoupling(S1),AllOddCoupling(S1))\n",
    "            mix_01_odd += np.outer(AllOddCoupling(S1),AllOddCoupling(S))\n",
    "                       \n",
    "    #Results\n",
    "    evenK /= ndata; evenK_1 /= ndata; mix_11 /= ndata; mix_01 /= ndata;\n",
    "    oddK /= ndata; oddK_1 /= ndata; mix_11_odd /= ndata; mix_01_odd /= ndata;\n",
    "\n",
    "    print('evenK = ',evenK)\n",
    "    print('evenK_1 = ', evenK_1)\n",
    "    print('mix_11 = ', mix_11)\n",
    "    print('subtract ',np.outer(evenK_1,evenK_1))\n",
    "    print('mix_01 = ', mix_01)\n",
    "    print('subtract ',np.outer(evenK_1,evenK))\n",
    "    MatA_even = mix_11-np.outer(evenK_1,evenK_1)\n",
    "    MatC_even = mix_01-np.outer(evenK_1,evenK)\n",
    "    print('MatA_even (lhs) = ',MatA_even)\n",
    "    print('MatC_even (rhs) = ',MatC_even)\n",
    "    print('\\n')\n",
    "\n",
    "    print('oddK = ',oddK)\n",
    "    print('oddK_1 = ', oddK_1)\n",
    "    print('mix_11 = ', mix_11_odd)\n",
    "    print('subtract ', np.outer(oddK_1,oddK_1))\n",
    "    print('mix_01 = ', mix_01_odd)\n",
    "    print('subtract ', np.outer(oddK_1,oddK))\n",
    "    #TODO: cancellation bad, how to avoid?\n",
    "    MatA_odd = mix_11_odd-np.outer(oddK_1,oddK_1)\n",
    "    MatC_odd = mix_01_odd-np.outer(oddK_1,oddK)\n",
    "    print('MatA_odd (lhs) = ',MatA_odd)\n",
    "    print('MatC_odd (rhs) = ',MatC_odd)\n",
    "    print('\\n');\n",
    "    \n",
    "    return MatA_even, MatC_even, MatA_odd, MatC_odd"
   ]
  },
  {
   "cell_type": "code",
   "execution_count": 34,
   "metadata": {},
   "outputs": [],
   "source": [
    "def getExponent(MatA,MatC,Nc):\n",
    "    LinRGMat = la.solve(MatA[0:Nc,0:Nc],MatC[0:Nc,0:Nc])\n",
    "    print('linearized RG transformation = ',LinRGMat)\n",
    "    lmbd = la.eigvals(LinRGMat);\n",
    "    print('eigenvalues are',lmbd)\n",
    "    amplitude = np.absolute(lmbd)\n",
    "    print('eigenvalue amplitudes are',amplitude)\n",
    "    #Only the eigenvalue with maximum amplitude is important.\n",
    "    #This eigenvalue should generically be real\n",
    "    imax = np.argmax(amplitude)\n",
    "    y = np.log(lmbd[imax])/np.log(b)\n",
    "    print('exponent y = ',y)\n",
    "    return y"
   ]
  },
  {
   "cell_type": "markdown",
   "metadata": {},
   "source": [
    "## Test for specific set of input parameters"
   ]
  },
  {
   "cell_type": "code",
   "execution_count": 39,
   "metadata": {
    "scrolled": true
   },
   "outputs": [
    {
     "data": {
      "text/plain": [
       "<matplotlib.colorbar.Colorbar at 0x1e611bdc4e0>"
      ]
     },
     "execution_count": 39,
     "metadata": {},
     "output_type": "execute_result"
    },
    {
     "data": {
      "image/png": "[encoded data removed]",
      "text/plain": [
       "<Figure size 432x288 with 2 Axes>"
      ]
     },
     "metadata": {
      "needs_background": "light"
     },
     "output_type": "display_data"
    }
   ],
   "source": [
    "# Input Parameters\n",
    "L = 16; #linear dimension of square lattice\n",
    "Kc = np.arccosh(3)/4; # Critical temperature Kc assumed to be known\n",
    "K = Kc; h = 0; #Start on Critical manifold\n",
    "Pij = 1-np.exp(-2*K) # Wolff add probability\n",
    "nwarm = 1000; #number of warm up Monte Carlo sweeps.\n",
    "nmeas = 2000; #number of measurement Monte Carlo sweeps.\n",
    "interval = 10; # Take data for correlation functions every (interval) MC-steps/site\n",
    "# RG analysis setting\n",
    "b = 2; #scaling factor\n",
    "\n",
    "# Derived constants\n",
    "Ns = L*L; #total number of grid points\n",
    "ndata = nmeas//interval\n",
    "energy = np.zeros((nmeas+nwarm)//interval,dtype=float)\n",
    "clustersize = np.zeros((nmeas+nwarm)//interval,dtype=int)\n",
    "\n",
    "#Initialize 2d spin field\n",
    "S = np.random.choice([-1,1],(L,L))\n",
    "#S = np.ones((L,L),dtype=int)\n",
    "plt.imshow(S);plt.colorbar()"
   ]
  },
  {
   "cell_type": "code",
   "execution_count": 40,
   "metadata": {},
   "outputs": [
    {
     "name": "stdout",
     "output_type": "stream",
     "text": [
      "running MCRG for linear size 16 lattice.\n",
      "Setting K = 0.4406867935097715  and h =  0\n",
      "evenK =  [371.46 339.5  321.98 626.48 300.82 157.02 128.38]\n",
      "evenK_1 =  [ 93.74  88.06  83.62 164.88  80.52  38.54  34.02]\n",
      "mix_11 =  [[ 9171.44  8718.96  8375.28 16575.44  8154.56  3853.2   3464.24]\n",
      " [ 8718.96  8341.04  8038.24 15933.44  7858.96  3676.24  3340.48]\n",
      " [ 8375.28  8038.24  7804.4  15466.08  7650.24  3552.16  3234.48]\n",
      " [16575.44 15933.44 15466.08 30727.36 15220.8   7037.28  6421.12]\n",
      " [ 8154.56  7858.96  7650.24 15220.8   7573.12  3473.36  3174.72]\n",
      " [ 3853.2   3676.24  3552.16  7037.28  3473.36  1652.72  1481.6 ]\n",
      " [ 3464.24  3340.48  3234.48  6421.12  3174.72  1481.6   1383.92]]\n",
      "subtract  [[ 8787.188  8254.744  7838.539 15455.851  7547.945  3612.74   3189.035]\n",
      " [ 8254.744  7754.564  7363.577 14519.333  7090.591  3393.832  2995.801]\n",
      " [ 7838.539  7363.577  6992.304 13787.266  6733.082  3222.715  2844.752]\n",
      " [15455.851 14519.333 13787.266 27185.414 13276.138  6354.475  5609.218]\n",
      " [ 7547.945  7090.591  6733.082 13276.138  6483.47   3103.241  2739.29 ]\n",
      " [ 3612.74   3393.832  3222.715  6354.475  3103.241  1485.332  1311.131]\n",
      " [ 3189.035  2995.801  2844.752  5609.218  2739.29   1311.131  1157.36 ]]\n",
      "mix_01 =  [[ 35514.16  32811.44  31390.48  61351.44  29697.92  15062.16  12565.52]\n",
      " [ 33569.84  31116.64  29840.8   58421.52  28365.28  14248.16  11961.92]\n",
      " [ 32056.8   29793.84  28655.76  56167.12  27337.76  13623.44  11489.84]\n",
      " [ 63326.48  58911.6   56703.92 111209.04  54194.96  26924.56  22743.12]\n",
      " [ 31032.48  28922.08  27883.04  54735.6   26729.68  13201.28  11189.92]\n",
      " [ 14754.48  13702.24  13168.16  25784.72  12524.16   6273.76   5289.6 ]\n",
      " [ 13135.04  12265.52  11818.16  23210.    11318.72   5581.2    4754.32]]\n",
      "subtract  [[ 34820.66   31824.73   30182.405  58726.235  28198.867  14719.055\n",
      "   12034.341]\n",
      " [ 32710.768  29896.37   28353.559  55167.829  26490.209  13827.181\n",
      "   11305.143]\n",
      " [ 31061.485  28388.99   26923.968  52386.258  25154.568  13130.012\n",
      "   10735.136]\n",
      " [ 61246.325  55976.76   53088.062 103294.022  49599.202  25889.458\n",
      "   21167.294]\n",
      " [ 29909.959  27336.54   25925.83   50444.17   24222.026  12643.25\n",
      "   10337.158]\n",
      " [ 14316.068  13084.33   12409.109  24144.539  11593.603   6051.551\n",
      "    4947.765]\n",
      " [ 12637.069  11549.79   10953.76   21312.85   10233.896   5341.82\n",
      "    4367.488]]\n",
      "MatA_even (lhs) =  [[ 384.252  464.216  536.741 1119.589  606.615  240.46   275.205]\n",
      " [ 464.216  586.476  674.663 1414.107  768.369  282.408  344.679]\n",
      " [ 536.741  674.663  812.096 1678.814  917.158  329.445  389.728]\n",
      " [1119.589 1414.107 1678.814 3541.946 1944.662  682.805  811.902]\n",
      " [ 606.615  768.369  917.158 1944.662 1089.65   370.119  435.43 ]\n",
      " [ 240.46   282.408  329.445  682.805  370.119  167.388  170.469]\n",
      " [ 275.205  344.679  389.728  811.902  435.43   170.469  226.56 ]]\n",
      "MatC_even (rhs) =  [[ 693.5    986.71  1208.075 2625.205 1499.053  343.105  531.179]\n",
      " [ 859.072 1220.27  1487.241 3253.691 1875.071  420.979  656.777]\n",
      " [ 995.315 1404.85  1731.792 3780.862 2183.192  493.428  754.704]\n",
      " [2080.155 2934.84  3615.858 7915.018 4595.758 1035.102 1575.826]\n",
      " [1122.521 1585.54  1957.21  4291.43  2507.654  558.03   852.762]\n",
      " [ 438.412  617.91   759.051 1640.181  930.557  222.209  341.835]\n",
      " [ 497.971  715.73   864.4   1897.15  1084.824  239.38   386.832]]\n",
      "\n",
      "\n",
      "oddK =  [ 9.43 28.92 30.64 15.12]\n",
      "oddK_1 =  [2.52 8.8  9.48 4.3 ]\n",
      "mix_11 =  [[ 2631.72  8761.2   8441.28  4351.68]\n",
      " [ 8761.2  29575.04 28537.92 14688.64]\n",
      " [ 8441.28 28537.92 27637.44 14193.6 ]\n",
      " [ 4351.68 14688.64 14193.6   7319.76]]\n",
      "subtract  [[ 6.35  22.176 23.89  10.836]\n",
      " [22.176 77.44  83.424 37.84 ]\n",
      " [23.89  83.424 89.87  40.764]\n",
      " [10.836 37.84  40.764 18.49 ]]\n",
      "mix_01 =  [[  9700.52  32144.48  30883.2   16072.44]\n",
      " [ 32272.16 107128.32 103160.    53581.76]\n",
      " [ 31086.24 103188.8   99419.52  51632.16]\n",
      " [ 16025.4   53183.2   51228.    26611.92]]\n",
      "subtract  [[ 23.764  72.878  77.213  38.102]\n",
      " [ 82.984 254.496 269.632 133.056]\n",
      " [ 89.396 274.162 290.467 143.338]\n",
      " [ 40.549 124.356 131.752  65.016]]\n",
      "MatA_odd (lhs) =  [[ 2625.37   8739.024  8417.39   4340.844]\n",
      " [ 8739.024 29497.6   28454.496 14650.8  ]\n",
      " [ 8417.39  28454.496 27547.57  14152.836]\n",
      " [ 4340.844 14650.8   14152.836  7301.27 ]]\n",
      "MatC_odd (rhs) =  [[  9676.756  32071.602  30805.987  16034.338]\n",
      " [ 32189.176 106873.824 102890.368  53448.704]\n",
      " [ 30996.844 102914.638  99129.053  51488.822]\n",
      " [ 15984.851  53058.844  51096.248  26546.904]]\n",
      "\n",
      "\n",
      "linearized RG transformation =  [[1.805]]\n",
      "eigenvalues are [1.805+0.j]\n",
      "eigenvalue amplitudes are [1.805]\n",
      "exponent y =  (0.8518407795592329+0j)\n",
      "linearized RG transformation =  [[0.804 1.239]\n",
      " [0.828 1.1  ]]\n",
      "eigenvalues are [-0.072+0.j  1.976+0.j]\n",
      "eigenvalue amplitudes are [0.072 1.976]\n",
      "exponent y =  (0.9824793076481991+0j)\n",
      "linearized RG transformation =  [[ 0.782  1.249  1.764]\n",
      " [ 0.688  1.166  0.624]\n",
      " [ 0.137 -0.064  0.448]]\n",
      "eigenvalues are [ 1.98 +0.j -0.171+0.j  0.586+0.j]\n",
      "eigenvalue amplitudes are [1.98  0.171 0.586]\n",
      "exponent y =  (0.9855985124645116+0j)\n",
      "linearized RG transformation =  [[ 0.787  1.232  1.788  2.926]\n",
      " [ 0.666  1.238  0.527  1.939]\n",
      " [ 0.101  0.052  0.291  0.182]\n",
      " [ 0.025 -0.08   0.107  0.45 ]]\n",
      "eigenvalues are [ 1.975+0.j -0.117+0.j  0.602+0.j  0.306+0.j]\n",
      "eigenvalue amplitudes are [1.975 0.117 0.602 0.306]\n",
      "exponent y =  (0.9817254984994404+0j)\n",
      "linearized RG transformation =  [[ 7.561e-01  1.208e+00  1.754e+00  2.866e+00  9.309e-01]\n",
      " [ 5.567e-01  1.154e+00  4.095e-01  1.730e+00  1.173e+00]\n",
      " [ 2.872e-02 -2.646e-03  2.128e-01  4.435e-02 -3.666e-01]\n",
      " [ 3.337e-01  1.569e-01  4.421e-01  1.041e+00  7.168e-01]\n",
      " [-4.031e-01 -3.089e-01 -4.371e-01 -7.723e-01 -1.481e-02]]\n",
      "eigenvalues are [ 1.912+0.j    -0.098+0.048j -0.098-0.048j  0.796+0.j     0.636+0.j   ]\n",
      "eigenvalue amplitudes are [1.912 0.109 0.109 0.796 0.636]\n",
      "exponent y =  (0.9350699265836314+0j)\n",
      "linearized RG transformation =  [[-0.033  0.532  0.949  1.26   0.072 -0.114]\n",
      " [ 0.824  1.383  0.683  2.275  1.465  0.027]\n",
      " [-0.041 -0.062  0.142 -0.097 -0.442 -0.14 ]\n",
      " [ 0.376  0.193  0.485  1.127  0.763  0.464]\n",
      " [-0.438 -0.339 -0.473 -0.844 -0.053 -0.383]\n",
      " [ 0.791  0.678  0.807  1.61   0.861  0.677]]\n",
      "eigenvalues are [ 1.854+0.j    -0.362+0.j     0.824+0.j     0.651+0.j     0.137+0.172j\n",
      "  0.137-0.172j]\n",
      "eigenvalue amplitudes are [1.854 0.362 0.824 0.651 0.22  0.22 ]\n",
      "exponent y =  (0.8908864989430856+0j)\n",
      "linearized RG transformation =  [[-0.054  0.516  0.923  1.224  0.051 -0.132 -0.347]\n",
      " [ 1.266  1.716  1.225  3.029  1.902  0.406  1.243]\n",
      " [-0.048 -0.067  0.134 -0.109 -0.449 -0.146 -0.07 ]\n",
      " [ 0.354  0.176  0.458  1.089  0.741  0.444  0.014]\n",
      " [-0.513 -0.396 -0.565 -0.972 -0.128 -0.447 -0.132]\n",
      " [ 0.88   0.745  0.916  1.761  0.949  0.753  1.043]\n",
      " [-0.524 -0.395 -0.643 -0.894 -0.519 -0.45  -0.224]]\n",
      "eigenvalues are [ 1.823+0.j    -0.439+0.j     0.967+0.j     0.014+0.363j  0.014-0.363j\n",
      "  0.614+0.j     0.293+0.j   ]\n",
      "eigenvalue amplitudes are [1.823 0.439 0.967 0.363 0.363 0.614 0.293]\n",
      "exponent y =  (0.8664220352086717+0j)\n",
      "linearized RG transformation =  [[3.686]]\n",
      "eigenvalues are [3.686+0.j]\n",
      "eigenvalue amplitudes are [3.686]\n",
      "exponent y =  (1.8820030044775018+0j)\n",
      "linearized RG transformation =  [[ 3.863 11.257]\n",
      " [-0.053  0.288]]\n",
      "eigenvalues are [3.687+0.j 0.464+0.j]\n",
      "eigenvalue amplitudes are [3.687 0.464]\n",
      "exponent y =  (1.8823452841888446+0j)\n",
      "linearized RG transformation =  [[ 3.843e+00  1.112e+01  8.865e+00]\n",
      " [ 7.301e-03  7.158e-01  9.701e-01]\n",
      " [-5.661e-02 -4.006e-01 -1.124e-01]]\n",
      "eigenvalues are [3.687+0.j    0.38 +0.323j 0.38 -0.323j]\n",
      "eigenvalue amplitudes are [3.687 0.498 0.498]\n",
      "exponent y =  (1.8825609574943913+0j)\n",
      "linearized RG transformation =  [[ 3.856 11.197  8.899  5.497]\n",
      " [ 0.048  0.966  1.076  0.215]\n",
      " [-0.024 -0.2   -0.027  0.012]\n",
      " [-0.151 -0.94  -0.4   -0.087]]\n",
      "eigenvalues are [3.685+0.j    0.509+0.289j 0.509-0.289j 0.005+0.j   ]\n",
      "eigenvalue amplitudes are [3.685 0.585 0.585 0.005]\n",
      "exponent y =  (1.881777614784919+0j)\n",
      "y_t array =  [0.852+0.j 0.982+0.j 0.986+0.j 0.982+0.j 0.935+0.j 0.891+0.j 0.866+0.j]\n",
      "y_h array =  [1.882+0.j 1.882+0.j 1.883+0.j 1.882+0.j]\n"
     ]
    }
   ],
   "source": [
    "MatA_even, MatC_even, MatA_odd, MatC_odd = RunMCRG(K,h)\n",
    "\n",
    "yt_arr = np.empty(7,dtype = complex);\n",
    "yh_arr = np.empty(4, dtype = complex);\n",
    "\n",
    "for i in np.arange(7):\n",
    "    yt_arr[i] = getExponent(MatA_even,MatC_even,i+1)\n",
    "\n",
    "for i in np.arange(4):\n",
    "    yh_arr[i] = getExponent(MatA_odd,MatC_odd,i+1)\n",
    "\n",
    "print(\"y_t array = \", yt_arr)\n",
    "print(\"y_h array = \", yh_arr)"
   ]
  },
  {
   "cell_type": "code",
   "execution_count": 37,
   "metadata": {},
   "outputs": [
    {
     "data": {
      "text/plain": [
       "[<matplotlib.lines.Line2D at 0x1e6132d6048>]"
      ]
     },
     "execution_count": 37,
     "metadata": {},
     "output_type": "execute_result"
    },
    {
     "data": {
      "image/png": "[encoded data removed]",
      "text/plain": [
       "<Figure size 432x288 with 1 Axes>"
      ]
     },
     "metadata": {
      "needs_background": "light"
     },
     "output_type": "display_data"
    }
   ],
   "source": [
    "plt.plot(energy)"
   ]
  },
  {
   "cell_type": "code",
   "execution_count": 38,
   "metadata": {},
   "outputs": [
    {
     "data": {
      "text/plain": [
       "[<matplotlib.lines.Line2D at 0x1e6120d6400>]"
      ]
     },
     "execution_count": 38,
     "metadata": {},
     "output_type": "execute_result"
    },
    {
     "data": {
      "image/png": "[encoded data removed]",
      "text/plain": [
       "<Figure size 432x288 with 1 Axes>"
      ]
     },
     "metadata": {
      "needs_background": "light"
     },
     "output_type": "display_data"
    }
   ],
   "source": [
    "plt.plot(clustersize)"
   ]
  },
  {
   "cell_type": "code",
   "execution_count": 25,
   "metadata": {},
   "outputs": [
    {
     "data": {
      "text/plain": [
       "0.3900462264720077"
      ]
     },
     "execution_count": 25,
     "metadata": {},
     "output_type": "execute_result"
    }
   ],
   "source": [
    "np.mean(clustersize[140:400-1])/Ns"
   ]
  },
  {
   "cell_type": "code",
   "execution_count": null,
   "metadata": {},
   "outputs": [],
   "source": []
  }
 ],
 "metadata": {
  "kernelspec": {
   "display_name": "Python 3",
   "language": "python",
   "name": "python3"
  },
  "language_info": {
   "codemirror_mode": {
    "name": "ipython",
    "version": 3
   },
   "file_extension": ".py",
   "mimetype": "text/x-python",
   "name": "python",
   "nbconvert_exporter": "python",
   "pygments_lexer": "ipython3",
   "version": "3.7.1"
  }
 },
 "nbformat": 4,
 "nbformat_minor": 2
}
